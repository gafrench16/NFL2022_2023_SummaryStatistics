{
 "cells": [
  {
   "cell_type": "code",
   "execution_count": 2,
   "metadata": {},
   "outputs": [],
   "source": [
    "import pandas as pd\n",
    "import plotly.express as px\n",
    "import plotly.graph_objects as go\n",
    "import numpy as np\n",
    "import plotly.subplots as sp"
   ]
  },
  {
   "cell_type": "code",
   "execution_count": 3,
   "metadata": {},
   "outputs": [
    {
     "data": {
      "text/html": [
       "<style type=\"text/css\">\n",
       "#T_2a4d3 tr:nth-child(2n+1) {\n",
       "  background-color: #524f51;\n",
       "}\n",
       "#T_2a4d3 tr:nth-child(2n) {\n",
       "  background-color: #302e2f;\n",
       "}\n",
       "#T_2a4d3 th {\n",
       "  background-color: #000000;\n",
       "  color: #e3d9dd;\n",
       "}\n",
       "#T_2a4d3_row0_col2 {\n",
       "  background-color: #fdad60;\n",
       "  color: #000000;\n",
       "}\n",
       "#T_2a4d3_row0_col4 {\n",
       "  background-color: #fece7c;\n",
       "  color: #000000;\n",
       "}\n",
       "#T_2a4d3_row0_col6 {\n",
       "  background-color: #e44c34;\n",
       "  color: #f1f1f1;\n",
       "}\n",
       "#T_2a4d3_row1_col2, #T_2a4d3_row1_col6 {\n",
       "  background-color: #fa9656;\n",
       "  color: #000000;\n",
       "}\n",
       "#T_2a4d3_row1_col4, #T_2a4d3_row26_col4 {\n",
       "  background-color: #ecf7a6;\n",
       "  color: #000000;\n",
       "}\n",
       "#T_2a4d3_row2_col2, #T_2a4d3_row5_col2 {\n",
       "  background-color: #fa9857;\n",
       "  color: #000000;\n",
       "}\n",
       "#T_2a4d3_row2_col4 {\n",
       "  background-color: #fec877;\n",
       "  color: #000000;\n",
       "}\n",
       "#T_2a4d3_row2_col6 {\n",
       "  background-color: #f88c51;\n",
       "  color: #f1f1f1;\n",
       "}\n",
       "#T_2a4d3_row3_col2, #T_2a4d3_row27_col2 {\n",
       "  background-color: #7dc765;\n",
       "  color: #000000;\n",
       "}\n",
       "#T_2a4d3_row3_col4 {\n",
       "  background-color: #fedc88;\n",
       "  color: #000000;\n",
       "}\n",
       "#T_2a4d3_row3_col6 {\n",
       "  background-color: #a2d76a;\n",
       "  color: #000000;\n",
       "}\n",
       "#T_2a4d3_row4_col2, #T_2a4d3_row28_col4, #T_2a4d3_row30_col6 {\n",
       "  background-color: #a50026;\n",
       "  color: #f1f1f1;\n",
       "}\n",
       "#T_2a4d3_row4_col4, #T_2a4d3_row16_col4 {\n",
       "  background-color: #fff3ac;\n",
       "  color: #000000;\n",
       "}\n",
       "#T_2a4d3_row4_col6, #T_2a4d3_row29_col4 {\n",
       "  background-color: #fba35c;\n",
       "  color: #000000;\n",
       "}\n",
       "#T_2a4d3_row5_col4 {\n",
       "  background-color: #cbe982;\n",
       "  color: #000000;\n",
       "}\n",
       "#T_2a4d3_row5_col6 {\n",
       "  background-color: #ab0626;\n",
       "  color: #f1f1f1;\n",
       "}\n",
       "#T_2a4d3_row6_col2 {\n",
       "  background-color: #5db961;\n",
       "  color: #f1f1f1;\n",
       "}\n",
       "#T_2a4d3_row6_col4 {\n",
       "  background-color: #feda86;\n",
       "  color: #000000;\n",
       "}\n",
       "#T_2a4d3_row6_col6 {\n",
       "  background-color: #fee18d;\n",
       "  color: #000000;\n",
       "}\n",
       "#T_2a4d3_row7_col2 {\n",
       "  background-color: #feca79;\n",
       "  color: #000000;\n",
       "}\n",
       "#T_2a4d3_row7_col4 {\n",
       "  background-color: #17934e;\n",
       "  color: #f1f1f1;\n",
       "}\n",
       "#T_2a4d3_row7_col6, #T_2a4d3_row10_col6 {\n",
       "  background-color: #fffdbc;\n",
       "  color: #000000;\n",
       "}\n",
       "#T_2a4d3_row8_col2, #T_2a4d3_row21_col2 {\n",
       "  background-color: #fee695;\n",
       "  color: #000000;\n",
       "}\n",
       "#T_2a4d3_row8_col4 {\n",
       "  background-color: #f4fab0;\n",
       "  color: #000000;\n",
       "}\n",
       "#T_2a4d3_row8_col6, #T_2a4d3_row20_col4 {\n",
       "  background-color: #bfe47a;\n",
       "  color: #000000;\n",
       "}\n",
       "#T_2a4d3_row9_col2, #T_2a4d3_row18_col2 {\n",
       "  background-color: #e0f295;\n",
       "  color: #000000;\n",
       "}\n",
       "#T_2a4d3_row9_col4 {\n",
       "  background-color: #b30d26;\n",
       "  color: #f1f1f1;\n",
       "}\n",
       "#T_2a4d3_row9_col6 {\n",
       "  background-color: #fdc574;\n",
       "  color: #000000;\n",
       "}\n",
       "#T_2a4d3_row10_col2 {\n",
       "  background-color: #63bc62;\n",
       "  color: #f1f1f1;\n",
       "}\n",
       "#T_2a4d3_row10_col4 {\n",
       "  background-color: #e3f399;\n",
       "  color: #000000;\n",
       "}\n",
       "#T_2a4d3_row11_col2, #T_2a4d3_row25_col2 {\n",
       "  background-color: #cdea83;\n",
       "  color: #000000;\n",
       "}\n",
       "#T_2a4d3_row11_col4 {\n",
       "  background-color: #d3ec87;\n",
       "  color: #000000;\n",
       "}\n",
       "#T_2a4d3_row11_col6 {\n",
       "  background-color: #f47044;\n",
       "  color: #f1f1f1;\n",
       "}\n",
       "#T_2a4d3_row12_col2 {\n",
       "  background-color: #fffab6;\n",
       "  color: #000000;\n",
       "}\n",
       "#T_2a4d3_row12_col4 {\n",
       "  background-color: #fff8b4;\n",
       "  color: #000000;\n",
       "}\n",
       "#T_2a4d3_row12_col6, #T_2a4d3_row24_col4 {\n",
       "  background-color: #e14430;\n",
       "  color: #f1f1f1;\n",
       "}\n",
       "#T_2a4d3_row13_col2, #T_2a4d3_row29_col6 {\n",
       "  background-color: #fff5ae;\n",
       "  color: #000000;\n",
       "}\n",
       "#T_2a4d3_row13_col4 {\n",
       "  background-color: #fee797;\n",
       "  color: #000000;\n",
       "}\n",
       "#T_2a4d3_row13_col6 {\n",
       "  background-color: #fdb365;\n",
       "  color: #000000;\n",
       "}\n",
       "#T_2a4d3_row14_col2 {\n",
       "  background-color: #96d268;\n",
       "  color: #000000;\n",
       "}\n",
       "#T_2a4d3_row14_col4 {\n",
       "  background-color: #d1ec86;\n",
       "  color: #000000;\n",
       "}\n",
       "#T_2a4d3_row14_col6 {\n",
       "  background-color: #fff1a8;\n",
       "  color: #000000;\n",
       "}\n",
       "#T_2a4d3_row15_col2, #T_2a4d3_row18_col4, #T_2a4d3_row20_col6 {\n",
       "  background-color: #006837;\n",
       "  color: #f1f1f1;\n",
       "}\n",
       "#T_2a4d3_row15_col4, #T_2a4d3_row21_col6 {\n",
       "  background-color: #fee08b;\n",
       "  color: #000000;\n",
       "}\n",
       "#T_2a4d3_row15_col6 {\n",
       "  background-color: #c9e881;\n",
       "  color: #000000;\n",
       "}\n",
       "#T_2a4d3_row16_col2 {\n",
       "  background-color: #2aa054;\n",
       "  color: #f1f1f1;\n",
       "}\n",
       "#T_2a4d3_row16_col6 {\n",
       "  background-color: #fca55d;\n",
       "  color: #000000;\n",
       "}\n",
       "#T_2a4d3_row17_col2 {\n",
       "  background-color: #f67f4b;\n",
       "  color: #f1f1f1;\n",
       "}\n",
       "#T_2a4d3_row17_col4 {\n",
       "  background-color: #fed07e;\n",
       "  color: #000000;\n",
       "}\n",
       "#T_2a4d3_row17_col6 {\n",
       "  background-color: #f67a49;\n",
       "  color: #f1f1f1;\n",
       "}\n",
       "#T_2a4d3_row18_col6 {\n",
       "  background-color: #78c565;\n",
       "  color: #000000;\n",
       "}\n",
       "#T_2a4d3_row19_col2 {\n",
       "  background-color: #dff293;\n",
       "  color: #000000;\n",
       "}\n",
       "#T_2a4d3_row19_col4 {\n",
       "  background-color: #feefa3;\n",
       "  color: #000000;\n",
       "}\n",
       "#T_2a4d3_row19_col6 {\n",
       "  background-color: #138c4a;\n",
       "  color: #f1f1f1;\n",
       "}\n",
       "#T_2a4d3_row20_col2 {\n",
       "  background-color: #4eb15d;\n",
       "  color: #f1f1f1;\n",
       "}\n",
       "#T_2a4d3_row21_col4, #T_2a4d3_row22_col2, #T_2a4d3_row24_col6 {\n",
       "  background-color: #fff0a6;\n",
       "  color: #000000;\n",
       "}\n",
       "#T_2a4d3_row22_col4 {\n",
       "  background-color: #ebf7a3;\n",
       "  color: #000000;\n",
       "}\n",
       "#T_2a4d3_row22_col6 {\n",
       "  background-color: #f57748;\n",
       "  color: #f1f1f1;\n",
       "}\n",
       "#T_2a4d3_row23_col2 {\n",
       "  background-color: #feffbe;\n",
       "  color: #000000;\n",
       "}\n",
       "#T_2a4d3_row23_col4 {\n",
       "  background-color: #84ca66;\n",
       "  color: #000000;\n",
       "}\n",
       "#T_2a4d3_row23_col6 {\n",
       "  background-color: #e65036;\n",
       "  color: #f1f1f1;\n",
       "}\n",
       "#T_2a4d3_row24_col2 {\n",
       "  background-color: #e0422f;\n",
       "  color: #f1f1f1;\n",
       "}\n",
       "#T_2a4d3_row25_col4 {\n",
       "  background-color: #98d368;\n",
       "  color: #000000;\n",
       "}\n",
       "#T_2a4d3_row25_col6 {\n",
       "  background-color: #82c966;\n",
       "  color: #000000;\n",
       "}\n",
       "#T_2a4d3_row26_col2 {\n",
       "  background-color: #fdb163;\n",
       "  color: #000000;\n",
       "}\n",
       "#T_2a4d3_row26_col6 {\n",
       "  background-color: #fb9d59;\n",
       "  color: #000000;\n",
       "}\n",
       "#T_2a4d3_row27_col4 {\n",
       "  background-color: #e8f59f;\n",
       "  color: #000000;\n",
       "}\n",
       "#T_2a4d3_row27_col6 {\n",
       "  background-color: #fee28f;\n",
       "  color: #000000;\n",
       "}\n",
       "#T_2a4d3_row28_col2 {\n",
       "  background-color: #fdb567;\n",
       "  color: #000000;\n",
       "}\n",
       "#T_2a4d3_row28_col6 {\n",
       "  background-color: #fed683;\n",
       "  color: #000000;\n",
       "}\n",
       "#T_2a4d3_row29_col2 {\n",
       "  background-color: #33a456;\n",
       "  color: #f1f1f1;\n",
       "}\n",
       "#T_2a4d3_row30_col2 {\n",
       "  background-color: #fdc171;\n",
       "  color: #000000;\n",
       "}\n",
       "#T_2a4d3_row30_col4 {\n",
       "  background-color: #15904c;\n",
       "  color: #f1f1f1;\n",
       "}\n",
       "#T_2a4d3_row31_col2 {\n",
       "  background-color: #ec5c3b;\n",
       "  color: #f1f1f1;\n",
       "}\n",
       "#T_2a4d3_row31_col4 {\n",
       "  background-color: #fed481;\n",
       "  color: #000000;\n",
       "}\n",
       "#T_2a4d3_row31_col6 {\n",
       "  background-color: #f8fcb6;\n",
       "  color: #000000;\n",
       "}\n",
       "</style>\n",
       "<table id=\"T_2a4d3\">\n",
       "  <caption><div style=\"background-color: #423c41; padding: 10px; border: 4px solid black;\"><span style=\"font-size: 18px; font-weight: bold;\">2022 Passing, Rushing, and Receiving Leaders by Team</span></br><span style=\"font-size: 15px;\"> <span style=\"color: green;font-weight: bold;\">GREEN</span> represents the strong performers in each statistic, <span style=\"color: red;font-weight: bold;\">RED</span> represents the weaker performers</span></br><span style=\"font-size: 15px;\"> <span style=\"font-weight: bold; font-size: 18px\">+</span> indicates the player was an All-Pro selection, <span style=\"font-weight: bold; font-size: 18px;\">*</span> indicates the player was an All-Star selection </span></div></caption>\n",
       "  <thead>\n",
       "    <tr>\n",
       "      <th class=\"blank level0\" >&nbsp;</th>\n",
       "      <th id=\"T_2a4d3_level0_col0\" class=\"col_heading level0 col0\" >Tm</th>\n",
       "      <th id=\"T_2a4d3_level0_col1\" class=\"col_heading level0 col1\" >Passing Leader</th>\n",
       "      <th id=\"T_2a4d3_level0_col2\" class=\"col_heading level0 col2\" >Passing YDS</th>\n",
       "      <th id=\"T_2a4d3_level0_col3\" class=\"col_heading level0 col3\" >Rushing Leader</th>\n",
       "      <th id=\"T_2a4d3_level0_col4\" class=\"col_heading level0 col4\" >Rushing YDS</th>\n",
       "      <th id=\"T_2a4d3_level0_col5\" class=\"col_heading level0 col5\" >Receiving Leader</th>\n",
       "      <th id=\"T_2a4d3_level0_col6\" class=\"col_heading level0 col6\" >Receiving YDS</th>\n",
       "    </tr>\n",
       "  </thead>\n",
       "  <tbody>\n",
       "    <tr>\n",
       "      <th id=\"T_2a4d3_level0_row0\" class=\"row_heading level0 row0\" >0</th>\n",
       "      <td id=\"T_2a4d3_row0_col0\" class=\"data row0 col0\" >ARI</td>\n",
       "      <td id=\"T_2a4d3_row0_col1\" class=\"data row0 col1\" >Kyler Murray</td>\n",
       "      <td id=\"T_2a4d3_row0_col2\" class=\"data row0 col2\" >2368</td>\n",
       "      <td id=\"T_2a4d3_row0_col3\" class=\"data row0 col3\" >James Conner</td>\n",
       "      <td id=\"T_2a4d3_row0_col4\" class=\"data row0 col4\" >782</td>\n",
       "      <td id=\"T_2a4d3_row0_col5\" class=\"data row0 col5\" >DeAndre Hopkins</td>\n",
       "      <td id=\"T_2a4d3_row0_col6\" class=\"data row0 col6\" >717</td>\n",
       "    </tr>\n",
       "    <tr>\n",
       "      <th id=\"T_2a4d3_level0_row1\" class=\"row_heading level0 row1\" >1</th>\n",
       "      <td id=\"T_2a4d3_row1_col0\" class=\"data row1 col0\" >ATL</td>\n",
       "      <td id=\"T_2a4d3_row1_col1\" class=\"data row1 col1\" >Marcus Mariota</td>\n",
       "      <td id=\"T_2a4d3_row1_col2\" class=\"data row1 col2\" >2219</td>\n",
       "      <td id=\"T_2a4d3_row1_col3\" class=\"data row1 col3\" >Tyler Allgeier</td>\n",
       "      <td id=\"T_2a4d3_row1_col4\" class=\"data row1 col4\" >1035</td>\n",
       "      <td id=\"T_2a4d3_row1_col5\" class=\"data row1 col5\" >Drake London</td>\n",
       "      <td id=\"T_2a4d3_row1_col6\" class=\"data row1 col6\" >866</td>\n",
       "    </tr>\n",
       "    <tr>\n",
       "      <th id=\"T_2a4d3_level0_row2\" class=\"row_heading level0 row2\" >2</th>\n",
       "      <td id=\"T_2a4d3_row2_col0\" class=\"data row2 col0\" >BAL</td>\n",
       "      <td id=\"T_2a4d3_row2_col1\" class=\"data row2 col1\" >Lamar Jackson</td>\n",
       "      <td id=\"T_2a4d3_row2_col2\" class=\"data row2 col2\" >2242</td>\n",
       "      <td id=\"T_2a4d3_row2_col3\" class=\"data row2 col3\" >Lamar Jackson</td>\n",
       "      <td id=\"T_2a4d3_row2_col4\" class=\"data row2 col4\" >764</td>\n",
       "      <td id=\"T_2a4d3_row2_col5\" class=\"data row2 col5\" >Mark Andrews*</td>\n",
       "      <td id=\"T_2a4d3_row2_col6\" class=\"data row2 col6\" >847</td>\n",
       "    </tr>\n",
       "    <tr>\n",
       "      <th id=\"T_2a4d3_level0_row3\" class=\"row_heading level0 row3\" >3</th>\n",
       "      <td id=\"T_2a4d3_row3_col0\" class=\"data row3 col0\" >BUF</td>\n",
       "      <td id=\"T_2a4d3_row3_col1\" class=\"data row3 col1\" >Josh Allen*</td>\n",
       "      <td id=\"T_2a4d3_row3_col2\" class=\"data row3 col2\" >4283</td>\n",
       "      <td id=\"T_2a4d3_row3_col3\" class=\"data row3 col3\" >Devin Singletary</td>\n",
       "      <td id=\"T_2a4d3_row3_col4\" class=\"data row3 col4\" >819</td>\n",
       "      <td id=\"T_2a4d3_row3_col5\" class=\"data row3 col5\" >Stefon Diggs*</td>\n",
       "      <td id=\"T_2a4d3_row3_col6\" class=\"data row3 col6\" >1429</td>\n",
       "    </tr>\n",
       "    <tr>\n",
       "      <th id=\"T_2a4d3_level0_row4\" class=\"row_heading level0 row4\" >4</th>\n",
       "      <td id=\"T_2a4d3_row4_col0\" class=\"data row4 col0\" >CAR</td>\n",
       "      <td id=\"T_2a4d3_row4_col1\" class=\"data row4 col1\" >Sam Darnold</td>\n",
       "      <td id=\"T_2a4d3_row4_col2\" class=\"data row4 col2\" >1143</td>\n",
       "      <td id=\"T_2a4d3_row4_col3\" class=\"data row4 col3\" >D'Onta Foreman</td>\n",
       "      <td id=\"T_2a4d3_row4_col4\" class=\"data row4 col4\" >914</td>\n",
       "      <td id=\"T_2a4d3_row4_col5\" class=\"data row4 col5\" >D.J. Moore</td>\n",
       "      <td id=\"T_2a4d3_row4_col6\" class=\"data row4 col6\" >888</td>\n",
       "    </tr>\n",
       "    <tr>\n",
       "      <th id=\"T_2a4d3_level0_row5\" class=\"row_heading level0 row5\" >5</th>\n",
       "      <td id=\"T_2a4d3_row5_col0\" class=\"data row5 col0\" >CHI</td>\n",
       "      <td id=\"T_2a4d3_row5_col1\" class=\"data row5 col1\" >Justin Fields</td>\n",
       "      <td id=\"T_2a4d3_row5_col2\" class=\"data row5 col2\" >2242</td>\n",
       "      <td id=\"T_2a4d3_row5_col3\" class=\"data row5 col3\" >Justin Fields</td>\n",
       "      <td id=\"T_2a4d3_row5_col4\" class=\"data row5 col4\" >1143</td>\n",
       "      <td id=\"T_2a4d3_row5_col5\" class=\"data row5 col5\" >Cole Kmet</td>\n",
       "      <td id=\"T_2a4d3_row5_col6\" class=\"data row5 col6\" >544</td>\n",
       "    </tr>\n",
       "    <tr>\n",
       "      <th id=\"T_2a4d3_level0_row6\" class=\"row_heading level0 row6\" >6</th>\n",
       "      <td id=\"T_2a4d3_row6_col0\" class=\"data row6 col0\" >CIN</td>\n",
       "      <td id=\"T_2a4d3_row6_col1\" class=\"data row6 col1\" >Joe Burrow*</td>\n",
       "      <td id=\"T_2a4d3_row6_col2\" class=\"data row6 col2\" >4475</td>\n",
       "      <td id=\"T_2a4d3_row6_col3\" class=\"data row6 col3\" >Joe Mixon</td>\n",
       "      <td id=\"T_2a4d3_row6_col4\" class=\"data row6 col4\" >814</td>\n",
       "      <td id=\"T_2a4d3_row6_col5\" class=\"data row6 col5\" >Ja'Marr Chase*</td>\n",
       "      <td id=\"T_2a4d3_row6_col6\" class=\"data row6 col6\" >1046</td>\n",
       "    </tr>\n",
       "    <tr>\n",
       "      <th id=\"T_2a4d3_level0_row7\" class=\"row_heading level0 row7\" >7</th>\n",
       "      <td id=\"T_2a4d3_row7_col0\" class=\"data row7 col0\" >CLE</td>\n",
       "      <td id=\"T_2a4d3_row7_col1\" class=\"data row7 col1\" >Jacoby Brissett</td>\n",
       "      <td id=\"T_2a4d3_row7_col2\" class=\"data row7 col2\" >2608</td>\n",
       "      <td id=\"T_2a4d3_row7_col3\" class=\"data row7 col3\" >Nick Chubb*</td>\n",
       "      <td id=\"T_2a4d3_row7_col4\" class=\"data row7 col4\" >1525</td>\n",
       "      <td id=\"T_2a4d3_row7_col5\" class=\"data row7 col5\" >Amari Cooper</td>\n",
       "      <td id=\"T_2a4d3_row7_col6\" class=\"data row7 col6\" >1160</td>\n",
       "    </tr>\n",
       "    <tr>\n",
       "      <th id=\"T_2a4d3_level0_row8\" class=\"row_heading level0 row8\" >8</th>\n",
       "      <td id=\"T_2a4d3_row8_col0\" class=\"data row8 col0\" >DAL</td>\n",
       "      <td id=\"T_2a4d3_row8_col1\" class=\"data row8 col1\" >Dak Prescott</td>\n",
       "      <td id=\"T_2a4d3_row8_col2\" class=\"data row8 col2\" >2860</td>\n",
       "      <td id=\"T_2a4d3_row8_col3\" class=\"data row8 col3\" >Tony Pollard*</td>\n",
       "      <td id=\"T_2a4d3_row8_col4\" class=\"data row8 col4\" >1007</td>\n",
       "      <td id=\"T_2a4d3_row8_col5\" class=\"data row8 col5\" >CeeDee Lamb*</td>\n",
       "      <td id=\"T_2a4d3_row8_col6\" class=\"data row8 col6\" >1359</td>\n",
       "    </tr>\n",
       "    <tr>\n",
       "      <th id=\"T_2a4d3_level0_row9\" class=\"row_heading level0 row9\" >9</th>\n",
       "      <td id=\"T_2a4d3_row9_col0\" class=\"data row9 col0\" >DEN</td>\n",
       "      <td id=\"T_2a4d3_row9_col1\" class=\"data row9 col1\" >Russell Wilson</td>\n",
       "      <td id=\"T_2a4d3_row9_col2\" class=\"data row9 col2\" >3524</td>\n",
       "      <td id=\"T_2a4d3_row9_col3\" class=\"data row9 col3\" >Melvin Gordon</td>\n",
       "      <td id=\"T_2a4d3_row9_col4\" class=\"data row9 col4\" >318</td>\n",
       "      <td id=\"T_2a4d3_row9_col5\" class=\"data row9 col5\" >Jerry Jeudy</td>\n",
       "      <td id=\"T_2a4d3_row9_col6\" class=\"data row9 col6\" >972</td>\n",
       "    </tr>\n",
       "    <tr>\n",
       "      <th id=\"T_2a4d3_level0_row10\" class=\"row_heading level0 row10\" >10</th>\n",
       "      <td id=\"T_2a4d3_row10_col0\" class=\"data row10 col0\" >DET</td>\n",
       "      <td id=\"T_2a4d3_row10_col1\" class=\"data row10 col1\" >Jared Goff*</td>\n",
       "      <td id=\"T_2a4d3_row10_col2\" class=\"data row10 col2\" >4438</td>\n",
       "      <td id=\"T_2a4d3_row10_col3\" class=\"data row10 col3\" >Jamaal Williams</td>\n",
       "      <td id=\"T_2a4d3_row10_col4\" class=\"data row10 col4\" >1066</td>\n",
       "      <td id=\"T_2a4d3_row10_col5\" class=\"data row10 col5\" >Amon-Ra St. Brown*</td>\n",
       "      <td id=\"T_2a4d3_row10_col6\" class=\"data row10 col6\" >1161</td>\n",
       "    </tr>\n",
       "    <tr>\n",
       "      <th id=\"T_2a4d3_level0_row11\" class=\"row_heading level0 row11\" >11</th>\n",
       "      <td id=\"T_2a4d3_row11_col0\" class=\"data row11 col0\" >GNB</td>\n",
       "      <td id=\"T_2a4d3_row11_col1\" class=\"data row11 col1\" >Aaron Rodgers</td>\n",
       "      <td id=\"T_2a4d3_row11_col2\" class=\"data row11 col2\" >3695</td>\n",
       "      <td id=\"T_2a4d3_row11_col3\" class=\"data row11 col3\" >Aaron Jones</td>\n",
       "      <td id=\"T_2a4d3_row11_col4\" class=\"data row11 col4\" >1121</td>\n",
       "      <td id=\"T_2a4d3_row11_col5\" class=\"data row11 col5\" >Allen Lazard</td>\n",
       "      <td id=\"T_2a4d3_row11_col6\" class=\"data row11 col6\" >788</td>\n",
       "    </tr>\n",
       "    <tr>\n",
       "      <th id=\"T_2a4d3_level0_row12\" class=\"row_heading level0 row12\" >12</th>\n",
       "      <td id=\"T_2a4d3_row12_col0\" class=\"data row12 col0\" >HOU</td>\n",
       "      <td id=\"T_2a4d3_row12_col1\" class=\"data row12 col1\" >Davis Mills</td>\n",
       "      <td id=\"T_2a4d3_row12_col2\" class=\"data row12 col2\" >3118</td>\n",
       "      <td id=\"T_2a4d3_row12_col3\" class=\"data row12 col3\" >Dameon Pierce</td>\n",
       "      <td id=\"T_2a4d3_row12_col4\" class=\"data row12 col4\" >939</td>\n",
       "      <td id=\"T_2a4d3_row12_col5\" class=\"data row12 col5\" >Brandin Cooks</td>\n",
       "      <td id=\"T_2a4d3_row12_col6\" class=\"data row12 col6\" >699</td>\n",
       "    </tr>\n",
       "    <tr>\n",
       "      <th id=\"T_2a4d3_level0_row13\" class=\"row_heading level0 row13\" >13</th>\n",
       "      <td id=\"T_2a4d3_row13_col0\" class=\"data row13 col0\" >IND</td>\n",
       "      <td id=\"T_2a4d3_row13_col1\" class=\"data row13 col1\" >Matt Ryan</td>\n",
       "      <td id=\"T_2a4d3_row13_col2\" class=\"data row13 col2\" >3057</td>\n",
       "      <td id=\"T_2a4d3_row13_col3\" class=\"data row13 col3\" >Jonathan Taylor</td>\n",
       "      <td id=\"T_2a4d3_row13_col4\" class=\"data row13 col4\" >861</td>\n",
       "      <td id=\"T_2a4d3_row13_col5\" class=\"data row13 col5\" >Michael Pittman Jr.</td>\n",
       "      <td id=\"T_2a4d3_row13_col6\" class=\"data row13 col6\" >925</td>\n",
       "    </tr>\n",
       "    <tr>\n",
       "      <th id=\"T_2a4d3_level0_row14\" class=\"row_heading level0 row14\" >14</th>\n",
       "      <td id=\"T_2a4d3_row14_col0\" class=\"data row14 col0\" >JAX</td>\n",
       "      <td id=\"T_2a4d3_row14_col1\" class=\"data row14 col1\" >Trevor Lawrence*</td>\n",
       "      <td id=\"T_2a4d3_row14_col2\" class=\"data row14 col2\" >4113</td>\n",
       "      <td id=\"T_2a4d3_row14_col3\" class=\"data row14 col3\" >Travis Etienne</td>\n",
       "      <td id=\"T_2a4d3_row14_col4\" class=\"data row14 col4\" >1125</td>\n",
       "      <td id=\"T_2a4d3_row14_col5\" class=\"data row14 col5\" >Christian Kirk</td>\n",
       "      <td id=\"T_2a4d3_row14_col6\" class=\"data row14 col6\" >1108</td>\n",
       "    </tr>\n",
       "    <tr>\n",
       "      <th id=\"T_2a4d3_level0_row15\" class=\"row_heading level0 row15\" >15</th>\n",
       "      <td id=\"T_2a4d3_row15_col0\" class=\"data row15 col0\" >KAN</td>\n",
       "      <td id=\"T_2a4d3_row15_col1\" class=\"data row15 col1\" >Patrick Mahomes*+</td>\n",
       "      <td id=\"T_2a4d3_row15_col2\" class=\"data row15 col2\" >5250</td>\n",
       "      <td id=\"T_2a4d3_row15_col3\" class=\"data row15 col3\" >Isiah Pacheco</td>\n",
       "      <td id=\"T_2a4d3_row15_col4\" class=\"data row15 col4\" >830</td>\n",
       "      <td id=\"T_2a4d3_row15_col5\" class=\"data row15 col5\" >Travis Kelce*+</td>\n",
       "      <td id=\"T_2a4d3_row15_col6\" class=\"data row15 col6\" >1338</td>\n",
       "    </tr>\n",
       "    <tr>\n",
       "      <th id=\"T_2a4d3_level0_row16\" class=\"row_heading level0 row16\" >16</th>\n",
       "      <td id=\"T_2a4d3_row16_col0\" class=\"data row16 col0\" >LAC</td>\n",
       "      <td id=\"T_2a4d3_row16_col1\" class=\"data row16 col1\" >Justin Herbert</td>\n",
       "      <td id=\"T_2a4d3_row16_col2\" class=\"data row16 col2\" >4739</td>\n",
       "      <td id=\"T_2a4d3_row16_col3\" class=\"data row16 col3\" >Austin Ekeler</td>\n",
       "      <td id=\"T_2a4d3_row16_col4\" class=\"data row16 col4\" >915</td>\n",
       "      <td id=\"T_2a4d3_row16_col5\" class=\"data row16 col5\" >Mike Williams</td>\n",
       "      <td id=\"T_2a4d3_row16_col6\" class=\"data row16 col6\" >895</td>\n",
       "    </tr>\n",
       "    <tr>\n",
       "      <th id=\"T_2a4d3_level0_row17\" class=\"row_heading level0 row17\" >17</th>\n",
       "      <td id=\"T_2a4d3_row17_col0\" class=\"data row17 col0\" >LAR</td>\n",
       "      <td id=\"T_2a4d3_row17_col1\" class=\"data row17 col1\" >Matthew Stafford</td>\n",
       "      <td id=\"T_2a4d3_row17_col2\" class=\"data row17 col2\" >2087</td>\n",
       "      <td id=\"T_2a4d3_row17_col3\" class=\"data row17 col3\" >Cam Akers</td>\n",
       "      <td id=\"T_2a4d3_row17_col4\" class=\"data row17 col4\" >786</td>\n",
       "      <td id=\"T_2a4d3_row17_col5\" class=\"data row17 col5\" >Cooper Kupp</td>\n",
       "      <td id=\"T_2a4d3_row17_col6\" class=\"data row17 col6\" >812</td>\n",
       "    </tr>\n",
       "    <tr>\n",
       "      <th id=\"T_2a4d3_level0_row18\" class=\"row_heading level0 row18\" >18</th>\n",
       "      <td id=\"T_2a4d3_row18_col0\" class=\"data row18 col0\" >LVR</td>\n",
       "      <td id=\"T_2a4d3_row18_col1\" class=\"data row18 col1\" >Derek Carr*</td>\n",
       "      <td id=\"T_2a4d3_row18_col2\" class=\"data row18 col2\" >3522</td>\n",
       "      <td id=\"T_2a4d3_row18_col3\" class=\"data row18 col3\" >Josh Jacobs*+</td>\n",
       "      <td id=\"T_2a4d3_row18_col4\" class=\"data row18 col4\" >1653</td>\n",
       "      <td id=\"T_2a4d3_row18_col5\" class=\"data row18 col5\" >Davante Adams*+</td>\n",
       "      <td id=\"T_2a4d3_row18_col6\" class=\"data row18 col6\" >1516</td>\n",
       "    </tr>\n",
       "    <tr>\n",
       "      <th id=\"T_2a4d3_level0_row19\" class=\"row_heading level0 row19\" >19</th>\n",
       "      <td id=\"T_2a4d3_row19_col0\" class=\"data row19 col0\" >MIA</td>\n",
       "      <td id=\"T_2a4d3_row19_col1\" class=\"data row19 col1\" >Tua Tagovailoa</td>\n",
       "      <td id=\"T_2a4d3_row19_col2\" class=\"data row19 col2\" >3548</td>\n",
       "      <td id=\"T_2a4d3_row19_col3\" class=\"data row19 col3\" >Raheem Mostert</td>\n",
       "      <td id=\"T_2a4d3_row19_col4\" class=\"data row19 col4\" >891</td>\n",
       "      <td id=\"T_2a4d3_row19_col5\" class=\"data row19 col5\" >Tyreek Hill*+</td>\n",
       "      <td id=\"T_2a4d3_row19_col6\" class=\"data row19 col6\" >1710</td>\n",
       "    </tr>\n",
       "    <tr>\n",
       "      <th id=\"T_2a4d3_level0_row20\" class=\"row_heading level0 row20\" >20</th>\n",
       "      <td id=\"T_2a4d3_row20_col0\" class=\"data row20 col0\" >MIN</td>\n",
       "      <td id=\"T_2a4d3_row20_col1\" class=\"data row20 col1\" >Kirk Cousins*</td>\n",
       "      <td id=\"T_2a4d3_row20_col2\" class=\"data row20 col2\" >4547</td>\n",
       "      <td id=\"T_2a4d3_row20_col3\" class=\"data row20 col3\" >Dalvin Cook*</td>\n",
       "      <td id=\"T_2a4d3_row20_col4\" class=\"data row20 col4\" >1173</td>\n",
       "      <td id=\"T_2a4d3_row20_col5\" class=\"data row20 col5\" >Justin Jefferson*+</td>\n",
       "      <td id=\"T_2a4d3_row20_col6\" class=\"data row20 col6\" >1809</td>\n",
       "    </tr>\n",
       "    <tr>\n",
       "      <th id=\"T_2a4d3_level0_row21\" class=\"row_heading level0 row21\" >21</th>\n",
       "      <td id=\"T_2a4d3_row21_col0\" class=\"data row21 col0\" >NOR</td>\n",
       "      <td id=\"T_2a4d3_row21_col1\" class=\"data row21 col1\" >Andy Dalton</td>\n",
       "      <td id=\"T_2a4d3_row21_col2\" class=\"data row21 col2\" >2871</td>\n",
       "      <td id=\"T_2a4d3_row21_col3\" class=\"data row21 col3\" >Alvin Kamara</td>\n",
       "      <td id=\"T_2a4d3_row21_col4\" class=\"data row21 col4\" >897</td>\n",
       "      <td id=\"T_2a4d3_row21_col5\" class=\"data row21 col5\" >Chris Olave</td>\n",
       "      <td id=\"T_2a4d3_row21_col6\" class=\"data row21 col6\" >1042</td>\n",
       "    </tr>\n",
       "    <tr>\n",
       "      <th id=\"T_2a4d3_level0_row22\" class=\"row_heading level0 row22\" >22</th>\n",
       "      <td id=\"T_2a4d3_row22_col0\" class=\"data row22 col0\" >NWE</td>\n",
       "      <td id=\"T_2a4d3_row22_col1\" class=\"data row22 col1\" >Mac Jones</td>\n",
       "      <td id=\"T_2a4d3_row22_col2\" class=\"data row22 col2\" >2997</td>\n",
       "      <td id=\"T_2a4d3_row22_col3\" class=\"data row22 col3\" >Rhamondre Stevenson</td>\n",
       "      <td id=\"T_2a4d3_row22_col4\" class=\"data row22 col4\" >1040</td>\n",
       "      <td id=\"T_2a4d3_row22_col5\" class=\"data row22 col5\" >Jakobi Meyers</td>\n",
       "      <td id=\"T_2a4d3_row22_col6\" class=\"data row22 col6\" >804</td>\n",
       "    </tr>\n",
       "    <tr>\n",
       "      <th id=\"T_2a4d3_level0_row23\" class=\"row_heading level0 row23\" >23</th>\n",
       "      <td id=\"T_2a4d3_row23_col0\" class=\"data row23 col0\" >NYG</td>\n",
       "      <td id=\"T_2a4d3_row23_col1\" class=\"data row23 col1\" >Daniel Jones</td>\n",
       "      <td id=\"T_2a4d3_row23_col2\" class=\"data row23 col2\" >3205</td>\n",
       "      <td id=\"T_2a4d3_row23_col3\" class=\"data row23 col3\" >Saquon Barkley*</td>\n",
       "      <td id=\"T_2a4d3_row23_col4\" class=\"data row23 col4\" >1312</td>\n",
       "      <td id=\"T_2a4d3_row23_col5\" class=\"data row23 col5\" >Darius Slayton</td>\n",
       "      <td id=\"T_2a4d3_row23_col6\" class=\"data row23 col6\" >724</td>\n",
       "    </tr>\n",
       "    <tr>\n",
       "      <th id=\"T_2a4d3_level0_row24\" class=\"row_heading level0 row24\" >24</th>\n",
       "      <td id=\"T_2a4d3_row24_col0\" class=\"data row24 col0\" >NYJ</td>\n",
       "      <td id=\"T_2a4d3_row24_col1\" class=\"data row24 col1\" >Zach Wilson</td>\n",
       "      <td id=\"T_2a4d3_row24_col2\" class=\"data row24 col2\" >1688</td>\n",
       "      <td id=\"T_2a4d3_row24_col3\" class=\"data row24 col3\" >Breece Hall</td>\n",
       "      <td id=\"T_2a4d3_row24_col4\" class=\"data row24 col4\" >463</td>\n",
       "      <td id=\"T_2a4d3_row24_col5\" class=\"data row24 col5\" >Garrett Wilson</td>\n",
       "      <td id=\"T_2a4d3_row24_col6\" class=\"data row24 col6\" >1103</td>\n",
       "    </tr>\n",
       "    <tr>\n",
       "      <th id=\"T_2a4d3_level0_row25\" class=\"row_heading level0 row25\" >25</th>\n",
       "      <td id=\"T_2a4d3_row25_col0\" class=\"data row25 col0\" >PHI</td>\n",
       "      <td id=\"T_2a4d3_row25_col1\" class=\"data row25 col1\" >Jalen Hurts*</td>\n",
       "      <td id=\"T_2a4d3_row25_col2\" class=\"data row25 col2\" >3701</td>\n",
       "      <td id=\"T_2a4d3_row25_col3\" class=\"data row25 col3\" >Miles Sanders*</td>\n",
       "      <td id=\"T_2a4d3_row25_col4\" class=\"data row25 col4\" >1269</td>\n",
       "      <td id=\"T_2a4d3_row25_col5\" class=\"data row25 col5\" >A.J. Brown*</td>\n",
       "      <td id=\"T_2a4d3_row25_col6\" class=\"data row25 col6\" >1496</td>\n",
       "    </tr>\n",
       "    <tr>\n",
       "      <th id=\"T_2a4d3_level0_row26\" class=\"row_heading level0 row26\" >26</th>\n",
       "      <td id=\"T_2a4d3_row26_col0\" class=\"data row26 col0\" >PIT</td>\n",
       "      <td id=\"T_2a4d3_row26_col1\" class=\"data row26 col1\" >Kenny Pickett</td>\n",
       "      <td id=\"T_2a4d3_row26_col2\" class=\"data row26 col2\" >2404</td>\n",
       "      <td id=\"T_2a4d3_row26_col3\" class=\"data row26 col3\" >Najee Harris</td>\n",
       "      <td id=\"T_2a4d3_row26_col4\" class=\"data row26 col4\" >1034</td>\n",
       "      <td id=\"T_2a4d3_row26_col5\" class=\"data row26 col5\" >Diontae Johnson</td>\n",
       "      <td id=\"T_2a4d3_row26_col6\" class=\"data row26 col6\" >882</td>\n",
       "    </tr>\n",
       "    <tr>\n",
       "      <th id=\"T_2a4d3_level0_row27\" class=\"row_heading level0 row27\" >27</th>\n",
       "      <td id=\"T_2a4d3_row27_col0\" class=\"data row27 col0\" >SEA</td>\n",
       "      <td id=\"T_2a4d3_row27_col1\" class=\"data row27 col1\" >Geno Smith*</td>\n",
       "      <td id=\"T_2a4d3_row27_col2\" class=\"data row27 col2\" >4282</td>\n",
       "      <td id=\"T_2a4d3_row27_col3\" class=\"data row27 col3\" >Kenneth Walker III</td>\n",
       "      <td id=\"T_2a4d3_row27_col4\" class=\"data row27 col4\" >1050</td>\n",
       "      <td id=\"T_2a4d3_row27_col5\" class=\"data row27 col5\" >D.K. Metcalf</td>\n",
       "      <td id=\"T_2a4d3_row27_col6\" class=\"data row27 col6\" >1048</td>\n",
       "    </tr>\n",
       "    <tr>\n",
       "      <th id=\"T_2a4d3_level0_row28\" class=\"row_heading level0 row28\" >28</th>\n",
       "      <td id=\"T_2a4d3_row28_col0\" class=\"data row28 col0\" >SFO</td>\n",
       "      <td id=\"T_2a4d3_row28_col1\" class=\"data row28 col1\" >Jimmy Garoppolo</td>\n",
       "      <td id=\"T_2a4d3_row28_col2\" class=\"data row28 col2\" >2437</td>\n",
       "      <td id=\"T_2a4d3_row28_col3\" class=\"data row28 col3\" >Elijah Mitchell</td>\n",
       "      <td id=\"T_2a4d3_row28_col4\" class=\"data row28 col4\" >279</td>\n",
       "      <td id=\"T_2a4d3_row28_col5\" class=\"data row28 col5\" >Brandon Aiyuk</td>\n",
       "      <td id=\"T_2a4d3_row28_col6\" class=\"data row28 col6\" >1015</td>\n",
       "    </tr>\n",
       "    <tr>\n",
       "      <th id=\"T_2a4d3_level0_row29\" class=\"row_heading level0 row29\" >29</th>\n",
       "      <td id=\"T_2a4d3_row29_col0\" class=\"data row29 col0\" >TAM</td>\n",
       "      <td id=\"T_2a4d3_row29_col1\" class=\"data row29 col1\" >Tom Brady</td>\n",
       "      <td id=\"T_2a4d3_row29_col2\" class=\"data row29 col2\" >4694</td>\n",
       "      <td id=\"T_2a4d3_row29_col3\" class=\"data row29 col3\" >Leonard Fournette</td>\n",
       "      <td id=\"T_2a4d3_row29_col4\" class=\"data row29 col4\" >668</td>\n",
       "      <td id=\"T_2a4d3_row29_col5\" class=\"data row29 col5\" >Mike Evans</td>\n",
       "      <td id=\"T_2a4d3_row29_col6\" class=\"data row29 col6\" >1124</td>\n",
       "    </tr>\n",
       "    <tr>\n",
       "      <th id=\"T_2a4d3_level0_row30\" class=\"row_heading level0 row30\" >30</th>\n",
       "      <td id=\"T_2a4d3_row30_col0\" class=\"data row30 col0\" >TEN</td>\n",
       "      <td id=\"T_2a4d3_row30_col1\" class=\"data row30 col1\" >Ryan Tannehill</td>\n",
       "      <td id=\"T_2a4d3_row30_col2\" class=\"data row30 col2\" >2536</td>\n",
       "      <td id=\"T_2a4d3_row30_col3\" class=\"data row30 col3\" >Derrick Henry*</td>\n",
       "      <td id=\"T_2a4d3_row30_col4\" class=\"data row30 col4\" >1538</td>\n",
       "      <td id=\"T_2a4d3_row30_col5\" class=\"data row30 col5\" >Robert Woods</td>\n",
       "      <td id=\"T_2a4d3_row30_col6\" class=\"data row30 col6\" >527</td>\n",
       "    </tr>\n",
       "    <tr>\n",
       "      <th id=\"T_2a4d3_level0_row31\" class=\"row_heading level0 row31\" >31</th>\n",
       "      <td id=\"T_2a4d3_row31_col0\" class=\"data row31 col0\" >WAS</td>\n",
       "      <td id=\"T_2a4d3_row31_col1\" class=\"data row31 col1\" >Taylor Heinicke</td>\n",
       "      <td id=\"T_2a4d3_row31_col2\" class=\"data row31 col2\" >1859</td>\n",
       "      <td id=\"T_2a4d3_row31_col3\" class=\"data row31 col3\" >Brian Robinson Jr.</td>\n",
       "      <td id=\"T_2a4d3_row31_col4\" class=\"data row31 col4\" >797</td>\n",
       "      <td id=\"T_2a4d3_row31_col5\" class=\"data row31 col5\" >Terry McLaurin*</td>\n",
       "      <td id=\"T_2a4d3_row31_col6\" class=\"data row31 col6\" >1191</td>\n",
       "    </tr>\n",
       "  </tbody>\n",
       "</table>\n"
      ],
      "text/plain": [
       "<pandas.io.formats.style.Styler at 0x1ffa2c81490>"
      ]
     },
     "execution_count": 3,
     "metadata": {},
     "output_type": "execute_result"
    }
   ],
   "source": [
    "# summarized_view table\n",
    "# ===================================================================================================================================================\n",
    "summarized_view = pd.read_csv(\n",
    "    \"C:\\\\Users\\\\AlexFrench\\OneDrive - Bluegrass Data Analytics\\\\Desktop\\\\BAS476\\\\summarized_view.csv\"\n",
    ")\n",
    "summarized_view = summarized_view.drop(summarized_view.columns[0], axis=1)\n",
    "\n",
    "# Define the formatted caption with a line break\n",
    "formatted_caption = (\n",
    "    '<div style=\"background-color: #423c41; padding: 10px; border: 4px solid black;\">'\n",
    "    '<span style=\"font-size: 18px; font-weight: bold;\">2022 Passing, Rushing, and Receiving Leaders by Team</span></br>'\n",
    "    '<span style=\"font-size: 15px;\"> <span style=\"color: green;font-weight: bold;\">GREEN</span> represents the strong performers in each statistic, <span style=\"color: red;font-weight: bold;\">RED</span> represents the weaker performers</span></br>'\n",
    "    '<span style=\"font-size: 15px;\"> <span style=\"font-weight: bold; font-size: 18px\">+</span> indicates the player was an All-Pro selection, <span style=\"font-weight: bold; font-size: 18px;\">*</span> indicates the player was an All-Star selection </span></div>'\n",
    ")\n",
    "\n",
    "# Apply background gradient to the DataFrame\n",
    "styled_view = summarized_view.style.background_gradient(axis=0, cmap=\"RdYlGn\")\n",
    "\n",
    "# Set the formatted caption\n",
    "styled_view = styled_view.set_caption(formatted_caption)\n",
    "\n",
    "# Define CSS styles for row banding and header cells together\n",
    "css_styles = [\n",
    "    {\"selector\": \"tr:nth-child(2n+1)\", \"props\": [(\"background-color\", \"#524f51\")]},\n",
    "    {\"selector\": \"tr:nth-child(2n)\", \"props\": [(\"background-color\", \"#302e2f\")]},\n",
    "    {\n",
    "        \"selector\": \"th\",\n",
    "        \"props\": [(\"background-color\", \"#000000\"), (\"color\", \"#e3d9dd\")],\n",
    "    },\n",
    "]\n",
    "\n",
    "# Apply styles using Styler.set_table_styles\n",
    "styled_view = styled_view.set_table_styles(css_styles)\n",
    "\n",
    "# Display the styled DataFrame with the caption, custom row banding, and header styles\n",
    "styled_view"
   ]
  },
  {
   "cell_type": "code",
   "execution_count": 4,
   "metadata": {},
   "outputs": [
    {
     "data": {
      "application/vnd.plotly.v1+json": {
       "config": {
        "plotlyServerURL": "https://plot.ly"
       },
       "data": [
        {
         "alignmentgroup": "True",
         "hovertemplate": "Player_x=%{x}<br>TgtDiff=%{marker.color}<extra></extra>",
         "legendgroup": "",
         "marker": {
          "color": [
           4.15,
           3.94,
           3.14,
           3,
           2.78,
           2.12,
           1.33,
           0.3,
           0.19,
           -0.02,
           -0.12,
           -0.27,
           -0.31,
           -0.53,
           -0.62,
           -0.79,
           -0.95,
           -1.23,
           -1.67,
           -1.67,
           -1.8,
           -2.06,
           -2.44,
           -2.62,
           -2.67,
           -2.82,
           -2.85,
           -3.15,
           -3.62,
           -3.73,
           -3.75,
           -3.83
          ],
          "coloraxis": "coloraxis",
          "pattern": {
           "shape": ""
          }
         },
         "name": "",
         "offsetgroup": "",
         "orientation": "v",
         "showlegend": false,
         "textposition": "auto",
         "type": "bar",
         "x": [
          "Robert Woods",
          "Elijah Moore",
          "Jakobi Meyers",
          "Deonte Harty",
          "Kadarius Toney",
          "Braxton Berrios",
          "Lil'Jordan Humphrey",
          "Allen Robinson",
          "JuJu Smith-Schuster",
          "Parris Campbell",
          "Zach Pascal",
          "Chase Claypool",
          "Nelson Agholor",
          "Mack Hollins",
          "Noah Brown",
          "Adam Thielen",
          "Byron Pringle",
          "Marquise Goodwin",
          "DeAndre Hopkins",
          "Phillip Dorsett",
          "Isaiah Hodgins",
          "Marvin Jones",
          "D.J. Moore",
          "Richie James",
          "Allen Lazard",
          "DeAndre Carter",
          "Randall Cobb",
          "Brandin Cooks",
          "Chris Moore",
          "DJ Chark",
          "Mecole Hardman",
          "Isaiah McKenzie"
         ],
         "xaxis": "x",
         "y": [
          4.15,
          3.94,
          3.14,
          3,
          2.78,
          2.12,
          1.33,
          0.3,
          0.19,
          -0.02,
          -0.12,
          -0.27,
          -0.31,
          -0.53,
          -0.62,
          -0.79,
          -0.95,
          -1.23,
          -1.67,
          -1.67,
          -1.8,
          -2.06,
          -2.44,
          -2.62,
          -2.67,
          -2.82,
          -2.85,
          -3.15,
          -3.62,
          -3.73,
          -3.75,
          -3.83
         ],
         "yaxis": "y"
        }
       ],
       "layout": {
        "annotations": [
         {
          "align": "left",
          "font": {
           "color": "lightgray",
           "family": "Arial",
           "size": 15
          },
          "showarrow": false,
          "text": "\n    This chart shows the difference in number of targets (balls thrown their way) among WR's who changed teams from the 2022 to the 2023 season. As we can see, the majority of WR's who match this description<br>\n    have seen a decrease in their number of targets. This chart can be useful to fantasy managers trying to find players breaking out or taking a step back as they begin their season with new teams ",
          "x": 0,
          "xref": "paper",
          "y": 1.26,
          "yref": "paper"
         }
        ],
        "barmode": "relative",
        "coloraxis": {
         "colorbar": {
          "tickfont": {
           "color": "white"
          },
          "title": {
           "font": {
            "color": "white"
           },
           "text": "TgtDiff"
          }
         },
         "colorscale": [
          [
           0,
           "rgb(165,0,38)"
          ],
          [
           0.1,
           "rgb(215,48,39)"
          ],
          [
           0.2,
           "rgb(244,109,67)"
          ],
          [
           0.3,
           "rgb(253,174,97)"
          ],
          [
           0.4,
           "rgb(254,224,139)"
          ],
          [
           0.5,
           "rgb(255,255,191)"
          ],
          [
           0.6,
           "rgb(217,239,139)"
          ],
          [
           0.7,
           "rgb(166,217,106)"
          ],
          [
           0.8,
           "rgb(102,189,99)"
          ],
          [
           0.9,
           "rgb(26,152,80)"
          ],
          [
           1,
           "rgb(0,104,55)"
          ]
         ]
        },
        "height": 600,
        "legend": {
         "tracegroupgap": 0
        },
        "margin": {
         "b": 75,
         "l": 75,
         "r": 20,
         "t": 190
        },
        "paper_bgcolor": "#1c1b1c",
        "plot_bgcolor": "#545454",
        "template": {
         "data": {
          "bar": [
           {
            "error_x": {
             "color": "#2a3f5f"
            },
            "error_y": {
             "color": "#2a3f5f"
            },
            "marker": {
             "line": {
              "color": "#E5ECF6",
              "width": 0.5
             },
             "pattern": {
              "fillmode": "overlay",
              "size": 10,
              "solidity": 0.2
             }
            },
            "type": "bar"
           }
          ],
          "barpolar": [
           {
            "marker": {
             "line": {
              "color": "#E5ECF6",
              "width": 0.5
             },
             "pattern": {
              "fillmode": "overlay",
              "size": 10,
              "solidity": 0.2
             }
            },
            "type": "barpolar"
           }
          ],
          "carpet": [
           {
            "aaxis": {
             "endlinecolor": "#2a3f5f",
             "gridcolor": "white",
             "linecolor": "white",
             "minorgridcolor": "white",
             "startlinecolor": "#2a3f5f"
            },
            "baxis": {
             "endlinecolor": "#2a3f5f",
             "gridcolor": "white",
             "linecolor": "white",
             "minorgridcolor": "white",
             "startlinecolor": "#2a3f5f"
            },
            "type": "carpet"
           }
          ],
          "choropleth": [
           {
            "colorbar": {
             "outlinewidth": 0,
             "ticks": ""
            },
            "type": "choropleth"
           }
          ],
          "contour": [
           {
            "colorbar": {
             "outlinewidth": 0,
             "ticks": ""
            },
            "colorscale": [
             [
              0,
              "#0d0887"
             ],
             [
              0.1111111111111111,
              "#46039f"
             ],
             [
              0.2222222222222222,
              "#7201a8"
             ],
             [
              0.3333333333333333,
              "#9c179e"
             ],
             [
              0.4444444444444444,
              "#bd3786"
             ],
             [
              0.5555555555555556,
              "#d8576b"
             ],
             [
              0.6666666666666666,
              "#ed7953"
             ],
             [
              0.7777777777777778,
              "#fb9f3a"
             ],
             [
              0.8888888888888888,
              "#fdca26"
             ],
             [
              1,
              "#f0f921"
             ]
            ],
            "type": "contour"
           }
          ],
          "contourcarpet": [
           {
            "colorbar": {
             "outlinewidth": 0,
             "ticks": ""
            },
            "type": "contourcarpet"
           }
          ],
          "heatmap": [
           {
            "colorbar": {
             "outlinewidth": 0,
             "ticks": ""
            },
            "colorscale": [
             [
              0,
              "#0d0887"
             ],
             [
              0.1111111111111111,
              "#46039f"
             ],
             [
              0.2222222222222222,
              "#7201a8"
             ],
             [
              0.3333333333333333,
              "#9c179e"
             ],
             [
              0.4444444444444444,
              "#bd3786"
             ],
             [
              0.5555555555555556,
              "#d8576b"
             ],
             [
              0.6666666666666666,
              "#ed7953"
             ],
             [
              0.7777777777777778,
              "#fb9f3a"
             ],
             [
              0.8888888888888888,
              "#fdca26"
             ],
             [
              1,
              "#f0f921"
             ]
            ],
            "type": "heatmap"
           }
          ],
          "heatmapgl": [
           {
            "colorbar": {
             "outlinewidth": 0,
             "ticks": ""
            },
            "colorscale": [
             [
              0,
              "#0d0887"
             ],
             [
              0.1111111111111111,
              "#46039f"
             ],
             [
              0.2222222222222222,
              "#7201a8"
             ],
             [
              0.3333333333333333,
              "#9c179e"
             ],
             [
              0.4444444444444444,
              "#bd3786"
             ],
             [
              0.5555555555555556,
              "#d8576b"
             ],
             [
              0.6666666666666666,
              "#ed7953"
             ],
             [
              0.7777777777777778,
              "#fb9f3a"
             ],
             [
              0.8888888888888888,
              "#fdca26"
             ],
             [
              1,
              "#f0f921"
             ]
            ],
            "type": "heatmapgl"
           }
          ],
          "histogram": [
           {
            "marker": {
             "pattern": {
              "fillmode": "overlay",
              "size": 10,
              "solidity": 0.2
             }
            },
            "type": "histogram"
           }
          ],
          "histogram2d": [
           {
            "colorbar": {
             "outlinewidth": 0,
             "ticks": ""
            },
            "colorscale": [
             [
              0,
              "#0d0887"
             ],
             [
              0.1111111111111111,
              "#46039f"
             ],
             [
              0.2222222222222222,
              "#7201a8"
             ],
             [
              0.3333333333333333,
              "#9c179e"
             ],
             [
              0.4444444444444444,
              "#bd3786"
             ],
             [
              0.5555555555555556,
              "#d8576b"
             ],
             [
              0.6666666666666666,
              "#ed7953"
             ],
             [
              0.7777777777777778,
              "#fb9f3a"
             ],
             [
              0.8888888888888888,
              "#fdca26"
             ],
             [
              1,
              "#f0f921"
             ]
            ],
            "type": "histogram2d"
           }
          ],
          "histogram2dcontour": [
           {
            "colorbar": {
             "outlinewidth": 0,
             "ticks": ""
            },
            "colorscale": [
             [
              0,
              "#0d0887"
             ],
             [
              0.1111111111111111,
              "#46039f"
             ],
             [
              0.2222222222222222,
              "#7201a8"
             ],
             [
              0.3333333333333333,
              "#9c179e"
             ],
             [
              0.4444444444444444,
              "#bd3786"
             ],
             [
              0.5555555555555556,
              "#d8576b"
             ],
             [
              0.6666666666666666,
              "#ed7953"
             ],
             [
              0.7777777777777778,
              "#fb9f3a"
             ],
             [
              0.8888888888888888,
              "#fdca26"
             ],
             [
              1,
              "#f0f921"
             ]
            ],
            "type": "histogram2dcontour"
           }
          ],
          "mesh3d": [
           {
            "colorbar": {
             "outlinewidth": 0,
             "ticks": ""
            },
            "type": "mesh3d"
           }
          ],
          "parcoords": [
           {
            "line": {
             "colorbar": {
              "outlinewidth": 0,
              "ticks": ""
             }
            },
            "type": "parcoords"
           }
          ],
          "pie": [
           {
            "automargin": true,
            "type": "pie"
           }
          ],
          "scatter": [
           {
            "fillpattern": {
             "fillmode": "overlay",
             "size": 10,
             "solidity": 0.2
            },
            "type": "scatter"
           }
          ],
          "scatter3d": [
           {
            "line": {
             "colorbar": {
              "outlinewidth": 0,
              "ticks": ""
             }
            },
            "marker": {
             "colorbar": {
              "outlinewidth": 0,
              "ticks": ""
             }
            },
            "type": "scatter3d"
           }
          ],
          "scattercarpet": [
           {
            "marker": {
             "colorbar": {
              "outlinewidth": 0,
              "ticks": ""
             }
            },
            "type": "scattercarpet"
           }
          ],
          "scattergeo": [
           {
            "marker": {
             "colorbar": {
              "outlinewidth": 0,
              "ticks": ""
             }
            },
            "type": "scattergeo"
           }
          ],
          "scattergl": [
           {
            "marker": {
             "colorbar": {
              "outlinewidth": 0,
              "ticks": ""
             }
            },
            "type": "scattergl"
           }
          ],
          "scattermapbox": [
           {
            "marker": {
             "colorbar": {
              "outlinewidth": 0,
              "ticks": ""
             }
            },
            "type": "scattermapbox"
           }
          ],
          "scatterpolar": [
           {
            "marker": {
             "colorbar": {
              "outlinewidth": 0,
              "ticks": ""
             }
            },
            "type": "scatterpolar"
           }
          ],
          "scatterpolargl": [
           {
            "marker": {
             "colorbar": {
              "outlinewidth": 0,
              "ticks": ""
             }
            },
            "type": "scatterpolargl"
           }
          ],
          "scatterternary": [
           {
            "marker": {
             "colorbar": {
              "outlinewidth": 0,
              "ticks": ""
             }
            },
            "type": "scatterternary"
           }
          ],
          "surface": [
           {
            "colorbar": {
             "outlinewidth": 0,
             "ticks": ""
            },
            "colorscale": [
             [
              0,
              "#0d0887"
             ],
             [
              0.1111111111111111,
              "#46039f"
             ],
             [
              0.2222222222222222,
              "#7201a8"
             ],
             [
              0.3333333333333333,
              "#9c179e"
             ],
             [
              0.4444444444444444,
              "#bd3786"
             ],
             [
              0.5555555555555556,
              "#d8576b"
             ],
             [
              0.6666666666666666,
              "#ed7953"
             ],
             [
              0.7777777777777778,
              "#fb9f3a"
             ],
             [
              0.8888888888888888,
              "#fdca26"
             ],
             [
              1,
              "#f0f921"
             ]
            ],
            "type": "surface"
           }
          ],
          "table": [
           {
            "cells": {
             "fill": {
              "color": "#EBF0F8"
             },
             "line": {
              "color": "white"
             }
            },
            "header": {
             "fill": {
              "color": "#C8D4E3"
             },
             "line": {
              "color": "white"
             }
            },
            "type": "table"
           }
          ]
         },
         "layout": {
          "annotationdefaults": {
           "arrowcolor": "#2a3f5f",
           "arrowhead": 0,
           "arrowwidth": 1
          },
          "autotypenumbers": "strict",
          "coloraxis": {
           "colorbar": {
            "outlinewidth": 0,
            "ticks": ""
           }
          },
          "colorscale": {
           "diverging": [
            [
             0,
             "#8e0152"
            ],
            [
             0.1,
             "#c51b7d"
            ],
            [
             0.2,
             "#de77ae"
            ],
            [
             0.3,
             "#f1b6da"
            ],
            [
             0.4,
             "#fde0ef"
            ],
            [
             0.5,
             "#f7f7f7"
            ],
            [
             0.6,
             "#e6f5d0"
            ],
            [
             0.7,
             "#b8e186"
            ],
            [
             0.8,
             "#7fbc41"
            ],
            [
             0.9,
             "#4d9221"
            ],
            [
             1,
             "#276419"
            ]
           ],
           "sequential": [
            [
             0,
             "#0d0887"
            ],
            [
             0.1111111111111111,
             "#46039f"
            ],
            [
             0.2222222222222222,
             "#7201a8"
            ],
            [
             0.3333333333333333,
             "#9c179e"
            ],
            [
             0.4444444444444444,
             "#bd3786"
            ],
            [
             0.5555555555555556,
             "#d8576b"
            ],
            [
             0.6666666666666666,
             "#ed7953"
            ],
            [
             0.7777777777777778,
             "#fb9f3a"
            ],
            [
             0.8888888888888888,
             "#fdca26"
            ],
            [
             1,
             "#f0f921"
            ]
           ],
           "sequentialminus": [
            [
             0,
             "#0d0887"
            ],
            [
             0.1111111111111111,
             "#46039f"
            ],
            [
             0.2222222222222222,
             "#7201a8"
            ],
            [
             0.3333333333333333,
             "#9c179e"
            ],
            [
             0.4444444444444444,
             "#bd3786"
            ],
            [
             0.5555555555555556,
             "#d8576b"
            ],
            [
             0.6666666666666666,
             "#ed7953"
            ],
            [
             0.7777777777777778,
             "#fb9f3a"
            ],
            [
             0.8888888888888888,
             "#fdca26"
            ],
            [
             1,
             "#f0f921"
            ]
           ]
          },
          "colorway": [
           "#636efa",
           "#EF553B",
           "#00cc96",
           "#ab63fa",
           "#FFA15A",
           "#19d3f3",
           "#FF6692",
           "#B6E880",
           "#FF97FF",
           "#FECB52"
          ],
          "font": {
           "color": "#2a3f5f"
          },
          "geo": {
           "bgcolor": "white",
           "lakecolor": "white",
           "landcolor": "#E5ECF6",
           "showlakes": true,
           "showland": true,
           "subunitcolor": "white"
          },
          "hoverlabel": {
           "align": "left"
          },
          "hovermode": "closest",
          "mapbox": {
           "style": "light"
          },
          "paper_bgcolor": "white",
          "plot_bgcolor": "#E5ECF6",
          "polar": {
           "angularaxis": {
            "gridcolor": "white",
            "linecolor": "white",
            "ticks": ""
           },
           "bgcolor": "#E5ECF6",
           "radialaxis": {
            "gridcolor": "white",
            "linecolor": "white",
            "ticks": ""
           }
          },
          "scene": {
           "xaxis": {
            "backgroundcolor": "#E5ECF6",
            "gridcolor": "white",
            "gridwidth": 2,
            "linecolor": "white",
            "showbackground": true,
            "ticks": "",
            "zerolinecolor": "white"
           },
           "yaxis": {
            "backgroundcolor": "#E5ECF6",
            "gridcolor": "white",
            "gridwidth": 2,
            "linecolor": "white",
            "showbackground": true,
            "ticks": "",
            "zerolinecolor": "white"
           },
           "zaxis": {
            "backgroundcolor": "#E5ECF6",
            "gridcolor": "white",
            "gridwidth": 2,
            "linecolor": "white",
            "showbackground": true,
            "ticks": "",
            "zerolinecolor": "white"
           }
          },
          "shapedefaults": {
           "line": {
            "color": "#2a3f5f"
           }
          },
          "ternary": {
           "aaxis": {
            "gridcolor": "white",
            "linecolor": "white",
            "ticks": ""
           },
           "baxis": {
            "gridcolor": "white",
            "linecolor": "white",
            "ticks": ""
           },
           "bgcolor": "#E5ECF6",
           "caxis": {
            "gridcolor": "white",
            "linecolor": "white",
            "ticks": ""
           }
          },
          "title": {
           "x": 0.05
          },
          "xaxis": {
           "automargin": true,
           "gridcolor": "white",
           "linecolor": "white",
           "ticks": "",
           "title": {
            "standoff": 15
           },
           "zerolinecolor": "white",
           "zerolinewidth": 2
          },
          "yaxis": {
           "automargin": true,
           "gridcolor": "white",
           "linecolor": "white",
           "ticks": "",
           "title": {
            "standoff": 15
           },
           "zerolinecolor": "white",
           "zerolinewidth": 2
          }
         }
        },
        "title": {
         "font": {
          "color": "white",
          "size": 30
         },
         "text": "The Grass is Always Greener on the Other Side?",
         "x": 0.055,
         "y": 0.88
        },
        "width": 1600,
        "xaxis": {
         "anchor": "y",
         "categoryarray": [
          "Isaiah McKenzie",
          "Mecole Hardman",
          "DJ Chark",
          "Chris Moore",
          "Brandin Cooks",
          "Randall Cobb",
          "DeAndre Carter",
          "Allen Lazard",
          "Richie James",
          "D.J. Moore",
          "Marvin Jones",
          "Isaiah Hodgins",
          "Phillip Dorsett",
          "DeAndre Hopkins",
          "Marquise Goodwin",
          "Byron Pringle",
          "Adam Thielen",
          "Noah Brown",
          "Mack Hollins",
          "Nelson Agholor",
          "Chase Claypool",
          "Zach Pascal",
          "Parris Campbell",
          "JuJu Smith-Schuster",
          "Allen Robinson",
          "Lil'Jordan Humphrey",
          "Braxton Berrios",
          "Kadarius Toney",
          "Deonte Harty",
          "Jakobi Meyers",
          "Elijah Moore",
          "Robert Woods"
         ],
         "categoryorder": "array",
         "domain": [
          0,
          1
         ],
         "tickfont": {
          "color": "white",
          "family": "Arial",
          "size": 12
         },
         "title": {
          "text": ""
         }
        },
        "yaxis": {
         "anchor": "x",
         "domain": [
          0,
          1
         ],
         "tickfont": {
          "color": "white",
          "family": "Arial",
          "size": 14
         },
         "title": {
          "font": {
           "color": "white",
           "family": "Arial",
           "size": 18
          },
          "text": "Target Differential"
         }
        }
       }
      }
     },
     "metadata": {},
     "output_type": "display_data"
    }
   ],
   "source": [
    "NFLRecievingUsageChanges = pd.read_csv(\n",
    "    \"C:\\\\Users\\\\AlexFrench\\OneDrive - Bluegrass Data Analytics\\\\Desktop\\\\BAS476\\\\full_data.csv\"\n",
    ")\n",
    "\n",
    "# Assuming you have a DataFrame with 'NewTeam' as boolean values True/False\n",
    "NFLRecievingUsageChanges_newteam = NFLRecievingUsageChanges[\n",
    "    NFLRecievingUsageChanges[\"NewTeam\"] == False\n",
    "]\n",
    "\n",
    "# Replace 0 values in 'TgtDiff' with NaN in the filtered dataframe\n",
    "condition = NFLRecievingUsageChanges_newteam[\"TgtDiff\"] == 0\n",
    "NFLRecievingUsageChanges_newteam.loc[condition, \"TgtDiff\"] = np.nan\n",
    "\n",
    "# Create the bar chart with a continuous color scale\n",
    "fig = px.bar(\n",
    "    NFLRecievingUsageChanges_newteam,\n",
    "    x=\"Player_x\",\n",
    "    y=\"TgtDiff\",\n",
    "    title=\"The Grass is Always Greener on the Other Side?\",\n",
    "    color=\"TgtDiff\",  # Use 'TgtValue' for color mapping\n",
    "    color_continuous_scale=\"RdYlGn\",\n",
    "    category_orders={\n",
    "        \"Player_x\": NFLRecievingUsageChanges_newteam.sort_values(\n",
    "            \"TgtDiff\", ascending=True\n",
    "        )[\"Player_x\"]\n",
    "    },\n",
    ")\n",
    "\n",
    "# Customize the layout\n",
    "fig.update_layout(\n",
    "    margin=dict(t=190, r=20, b=75, l=75),\n",
    "    plot_bgcolor=\"#545454\",\n",
    "    paper_bgcolor=\"#1c1b1c\",\n",
    "    width=1600,\n",
    "    height=600,\n",
    "    xaxis_title=\"\",\n",
    "    xaxis=dict(tickfont=dict(color=\"white\", size=12, family=\"Arial\")),\n",
    "    yaxis_title=\"Target Differential\",\n",
    "    yaxis=dict(tickfont=dict(color=\"white\", size=14, family=\"Arial\")),\n",
    "    yaxis_title_font=dict(color=\"white\", size=18, family=\"Arial\"),\n",
    "    title_y=0.88,\n",
    "    title_x=0.055,\n",
    "    title_font=dict(color=\"white\", size=30),\n",
    "    coloraxis_colorbar=dict(\n",
    "        title_font=dict(color=\"white\"), tickfont=dict(color=\"white\")\n",
    "    ),\n",
    ")\n",
    "\n",
    "fig.add_annotation(\n",
    "    text=\"\"\"\n",
    "    This chart shows the difference in number of targets (balls thrown their way) among WR's who changed teams from the 2022 to the 2023 season. As we can see, the majority of WR's who match this description<br>\n",
    "    have seen a decrease in their number of targets. This chart can be useful to fantasy managers trying to find players breaking out or taking a step back as they begin their season with new teams \"\"\",\n",
    "    x=0,\n",
    "    y=1.26,\n",
    "    showarrow=False,\n",
    "    font=dict(size=15, color=\"lightgray\", family=\"Arial\"),\n",
    "    xref=\"paper\",\n",
    "    yref=\"paper\",\n",
    "    align=\"left\",\n",
    ")\n",
    "\n",
    "fig.show()"
   ]
  },
  {
   "cell_type": "code",
   "execution_count": 5,
   "metadata": {},
   "outputs": [
    {
     "data": {
      "application/vnd.plotly.v1+json": {
       "config": {
        "plotlyServerURL": "https://plot.ly"
       },
       "data": [
        {
         "customdata": [
          [
           "Patrick Mahomes*+"
          ]
         ],
         "hovertemplate": "SelectionCategory=AllPro<br>Sacks/G=%{x}<br>FantasyPoints=%{y}<br>Player=%{customdata[0]}<extra></extra>",
         "legendgroup": "AllPro",
         "marker": {
          "color": "#64b2fa",
          "line": {
           "color": "black",
           "width": 1
          },
          "size": [
           81,
           87.375,
           91.625,
           80.375,
           75.75,
           73.375,
           70.875,
           71.5,
           73,
           57.5,
           67.75,
           50,
           60.375,
           62.75,
           59,
           59.875,
           57.625,
           55.25,
           47.25,
           49.25,
           46.125,
           40.625,
           38.5,
           48.625,
           48.75,
           39.75,
           40.75,
           37.5,
           41.875,
           37.875,
           32.375,
           34.5,
           30.25,
           22.5,
           21.875,
           23.875
          ],
          "symbol": "circle"
         },
         "mode": "markers",
         "name": "AllPro",
         "orientation": "v",
         "showlegend": true,
         "type": "scatter",
         "x": [
          1.5294117647058822
         ],
         "xaxis": "x",
         "y": [
          21.294117647058822
         ],
         "yaxis": "y"
        },
        {
         "customdata": [
          [
           "Justin Herbert"
          ],
          [
           "Tom Brady"
          ],
          [
           "Aaron Rodgers"
          ],
          [
           "Tua Tagovailoa"
          ],
          [
           "Russell Wilson"
          ],
          [
           "Daniel Jones"
          ],
          [
           "Davis Mills"
          ],
          [
           "Matt Ryan"
          ],
          [
           "Mac Jones"
          ],
          [
           "Andy Dalton"
          ],
          [
           "Dak Prescott"
          ],
          [
           "Jacoby Brissett"
          ],
          [
           "Ryan Tannehill"
          ],
          [
           "Jimmy Garoppolo"
          ],
          [
           "Kenny Pickett"
          ],
          [
           "Kyler Murray"
          ],
          [
           "Justin Fields"
          ],
          [
           "Lamar Jackson"
          ],
          [
           "Marcus Mariota"
          ],
          [
           "Baker Mayfield"
          ],
          [
           "Matthew Stafford"
          ],
          [
           "Taylor Heinicke"
          ],
          [
           "Carson Wentz"
          ],
          [
           "Zach Wilson"
          ],
          [
           "Mitchell Trubisky"
          ],
          [
           "Mike White"
          ],
          [
           "Joe Flacco"
          ]
         ],
         "hovertemplate": "SelectionCategory=No Selections<br>Sacks/G=%{x}<br>FantasyPoints=%{y}<br>Player=%{customdata[0]}<extra></extra>",
         "legendgroup": "No Selections",
         "marker": {
          "color": "#ffffff",
          "line": {
           "color": "black",
           "width": 1
          },
          "size": [
           81,
           87.375,
           91.625,
           80.375,
           75.75,
           73.375,
           70.875,
           71.5,
           73,
           57.5,
           67.75,
           50,
           60.375,
           62.75,
           59,
           59.875,
           57.625,
           55.25,
           47.25,
           49.25,
           46.125,
           40.625,
           38.5,
           48.625,
           48.75,
           39.75,
           40.75,
           37.5,
           41.875,
           37.875,
           32.375,
           34.5,
           30.25,
           22.5,
           21.875,
           23.875
          ],
          "symbol": "circle"
         },
         "mode": "markers",
         "name": "No Selections",
         "orientation": "v",
         "showlegend": true,
         "type": "scatter",
         "x": [
          2.235294117647059,
          1.2941176470588236,
          1.8823529411764703,
          1.6153846153846154,
          3.6666666666666665,
          2.75,
          2.066666666666667,
          3.1666666666666665,
          2.4285714285714284,
          1.7857142857142858,
          1.6666666666666667,
          1.5,
          2.75,
          1.6363636363636365,
          2.076923076923077,
          2.272727272727273,
          3.6666666666666665,
          2.1666666666666665,
          2.1538461538461537,
          3,
          3.2222222222222223,
          2.111111111111111,
          3.25,
          2.555555555555556,
          1.5714285714285714,
          2.25,
          2
         ],
         "xaxis": "x",
         "y": [
          16.44470588235294,
          16.39764705882353,
          14.105882352941178,
          17.993846153846157,
          12.930666666666667,
          11.45,
          11.848,
          13.773333333333332,
          11.777142857142858,
          12.702857142857145,
          15.95,
          9.145,
          12.286666666666669,
          14.316363636363638,
          8.858461538461539,
          13.065454545454545,
          9.778666666666668,
          12.556666666666668,
          10.75076923076923,
          9.876666666666669,
          12.831111111111111,
          12.928888888888888,
          13.15,
          9.39111111111111,
          8.725714285714286,
          13.92,
          11.808
         ],
         "yaxis": "y"
        },
        {
         "customdata": [
          [
           "Kirk Cousins*"
          ],
          [
           "Joe Burrow*"
          ],
          [
           "Jared Goff*"
          ],
          [
           "Josh Allen*"
          ],
          [
           "Geno Smith*"
          ],
          [
           "Trevor Lawrence*"
          ],
          [
           "Jalen Hurts*"
          ],
          [
           "Derek Carr*"
          ]
         ],
         "hovertemplate": "SelectionCategory=AllStar<br>Sacks/G=%{x}<br>FantasyPoints=%{y}<br>Player=%{customdata[0]}<extra></extra>",
         "legendgroup": "AllStar",
         "marker": {
          "color": "#44f71c",
          "line": {
           "color": "black",
           "width": 1
          },
          "size": [
           81,
           87.375,
           91.625,
           80.375,
           75.75,
           73.375,
           70.875,
           71.5,
           73,
           57.5,
           67.75,
           50,
           60.375,
           62.75,
           59,
           59.875,
           57.625,
           55.25,
           47.25,
           49.25,
           46.125,
           40.625,
           38.5,
           48.625,
           48.75,
           39.75,
           40.75,
           37.5,
           41.875,
           37.875,
           32.375,
           34.5,
           30.25,
           22.5,
           21.875,
           23.875
          ],
          "symbol": "circle"
         },
         "mode": "markers",
         "name": "AllStar",
         "orientation": "v",
         "showlegend": true,
         "type": "scatter",
         "x": [
          2.7058823529411766,
          2.5625,
          1.3529411764705883,
          2.0625,
          2.7058823529411766,
          1.588235294117647,
          2.533333333333333,
          1.8
         ],
         "xaxis": "x",
         "y": [
          16.698823529411765,
          19.1875,
          16.85411764705882,
          18.5825,
          16.48705882352941,
          15.08941176470588,
          15.336,
          14.858666666666666
         ],
         "yaxis": "y"
        }
       ],
       "layout": {
        "annotations": [
         {
          "bgcolor": "white",
          "font": {
           "color": "black",
           "family": "Arial",
           "size": 14
          },
          "showarrow": false,
          "text": "Less Sacks, <br> Less Fantasy Points",
          "x": 1.75,
          "y": 5
         },
         {
          "bgcolor": "white",
          "font": {
           "color": "black",
           "family": "Arial",
           "size": 14
          },
          "showarrow": false,
          "text": "Less Sacks, <br> More Fantasy Points",
          "x": 1.85,
          "y": 22.5
         },
         {
          "bgcolor": "white",
          "font": {
           "color": "black",
           "family": "Arial",
           "size": 14
          },
          "showarrow": false,
          "text": "More Sacks, <br>More Fantasy Points",
          "x": 3.25,
          "y": 22.5
         },
         {
          "bgcolor": "white",
          "font": {
           "color": "black",
           "family": "Arial",
           "size": 14
          },
          "showarrow": false,
          "text": "More Sacks, <br>Less Fantasy Points",
          "x": 3.25,
          "y": 5
         },
         {
          "align": "left",
          "font": {
           "color": "lightgray",
           "family": "Arial",
           "size": 14
          },
          "showarrow": false,
          "text": "\n    This scatterplot features Sacks per Game on the x-axis and Fantasy Points per game on the y-axis, the black reference lines are indicative of the axis average value. The size of the circle representing each quarterback <br>\n    is representative of the total number of throwing attempts the quarteback had during the 2022 season. I used a simplied version of my fantasy leagues scoring system to calculate each qb's fantasy score, the formula <br>\n    for these scores is: YDS*0.4 + TD*4 - INT<br><br>\n    Quarterbacks that fall in the Top Left or Bottom Right quadrant follow a pattern we would expect; that is, the more sacks they take the less fantasy points they score and vice versa. Contrary to that, quarterbacks that fall<br>\n    in the Top Right are especially impressive. These QBs are scoring above average in fantasy, while alse enduring more sacks. For the exact opposite reasons, QBs in the Bottom Left Quadrant are especially stinky ",
          "x": 0,
          "xref": "paper",
          "y": 1.26,
          "yref": "paper"
         }
        ],
        "height": 800,
        "legend": {
         "font": {
          "color": "white"
         },
         "title": {
          "font": {
           "color": "white"
          },
          "text": "SelectionCategory"
         },
         "tracegroupgap": 0
        },
        "margin": {
         "b": 75,
         "l": 75,
         "r": 20,
         "t": 200
        },
        "paper_bgcolor": "#1f1e1b",
        "plot_bgcolor": "#8a887e",
        "shapes": [
         {
          "line": {
           "color": "black",
           "width": 3
          },
          "type": "line",
          "x0": 1,
          "x1": 4,
          "y0": 13.698661626137117,
          "y1": 13.698661626137117
         },
         {
          "line": {
           "color": "black",
           "width": 3
          },
          "type": "line",
          "x0": 2.2661749697288918,
          "x1": 2.2661749697288918,
          "y1": 25
         }
        ],
        "template": {
         "data": {
          "bar": [
           {
            "error_x": {
             "color": "#2a3f5f"
            },
            "error_y": {
             "color": "#2a3f5f"
            },
            "marker": {
             "line": {
              "color": "#E5ECF6",
              "width": 0.5
             },
             "pattern": {
              "fillmode": "overlay",
              "size": 10,
              "solidity": 0.2
             }
            },
            "type": "bar"
           }
          ],
          "barpolar": [
           {
            "marker": {
             "line": {
              "color": "#E5ECF6",
              "width": 0.5
             },
             "pattern": {
              "fillmode": "overlay",
              "size": 10,
              "solidity": 0.2
             }
            },
            "type": "barpolar"
           }
          ],
          "carpet": [
           {
            "aaxis": {
             "endlinecolor": "#2a3f5f",
             "gridcolor": "white",
             "linecolor": "white",
             "minorgridcolor": "white",
             "startlinecolor": "#2a3f5f"
            },
            "baxis": {
             "endlinecolor": "#2a3f5f",
             "gridcolor": "white",
             "linecolor": "white",
             "minorgridcolor": "white",
             "startlinecolor": "#2a3f5f"
            },
            "type": "carpet"
           }
          ],
          "choropleth": [
           {
            "colorbar": {
             "outlinewidth": 0,
             "ticks": ""
            },
            "type": "choropleth"
           }
          ],
          "contour": [
           {
            "colorbar": {
             "outlinewidth": 0,
             "ticks": ""
            },
            "colorscale": [
             [
              0,
              "#0d0887"
             ],
             [
              0.1111111111111111,
              "#46039f"
             ],
             [
              0.2222222222222222,
              "#7201a8"
             ],
             [
              0.3333333333333333,
              "#9c179e"
             ],
             [
              0.4444444444444444,
              "#bd3786"
             ],
             [
              0.5555555555555556,
              "#d8576b"
             ],
             [
              0.6666666666666666,
              "#ed7953"
             ],
             [
              0.7777777777777778,
              "#fb9f3a"
             ],
             [
              0.8888888888888888,
              "#fdca26"
             ],
             [
              1,
              "#f0f921"
             ]
            ],
            "type": "contour"
           }
          ],
          "contourcarpet": [
           {
            "colorbar": {
             "outlinewidth": 0,
             "ticks": ""
            },
            "type": "contourcarpet"
           }
          ],
          "heatmap": [
           {
            "colorbar": {
             "outlinewidth": 0,
             "ticks": ""
            },
            "colorscale": [
             [
              0,
              "#0d0887"
             ],
             [
              0.1111111111111111,
              "#46039f"
             ],
             [
              0.2222222222222222,
              "#7201a8"
             ],
             [
              0.3333333333333333,
              "#9c179e"
             ],
             [
              0.4444444444444444,
              "#bd3786"
             ],
             [
              0.5555555555555556,
              "#d8576b"
             ],
             [
              0.6666666666666666,
              "#ed7953"
             ],
             [
              0.7777777777777778,
              "#fb9f3a"
             ],
             [
              0.8888888888888888,
              "#fdca26"
             ],
             [
              1,
              "#f0f921"
             ]
            ],
            "type": "heatmap"
           }
          ],
          "heatmapgl": [
           {
            "colorbar": {
             "outlinewidth": 0,
             "ticks": ""
            },
            "colorscale": [
             [
              0,
              "#0d0887"
             ],
             [
              0.1111111111111111,
              "#46039f"
             ],
             [
              0.2222222222222222,
              "#7201a8"
             ],
             [
              0.3333333333333333,
              "#9c179e"
             ],
             [
              0.4444444444444444,
              "#bd3786"
             ],
             [
              0.5555555555555556,
              "#d8576b"
             ],
             [
              0.6666666666666666,
              "#ed7953"
             ],
             [
              0.7777777777777778,
              "#fb9f3a"
             ],
             [
              0.8888888888888888,
              "#fdca26"
             ],
             [
              1,
              "#f0f921"
             ]
            ],
            "type": "heatmapgl"
           }
          ],
          "histogram": [
           {
            "marker": {
             "pattern": {
              "fillmode": "overlay",
              "size": 10,
              "solidity": 0.2
             }
            },
            "type": "histogram"
           }
          ],
          "histogram2d": [
           {
            "colorbar": {
             "outlinewidth": 0,
             "ticks": ""
            },
            "colorscale": [
             [
              0,
              "#0d0887"
             ],
             [
              0.1111111111111111,
              "#46039f"
             ],
             [
              0.2222222222222222,
              "#7201a8"
             ],
             [
              0.3333333333333333,
              "#9c179e"
             ],
             [
              0.4444444444444444,
              "#bd3786"
             ],
             [
              0.5555555555555556,
              "#d8576b"
             ],
             [
              0.6666666666666666,
              "#ed7953"
             ],
             [
              0.7777777777777778,
              "#fb9f3a"
             ],
             [
              0.8888888888888888,
              "#fdca26"
             ],
             [
              1,
              "#f0f921"
             ]
            ],
            "type": "histogram2d"
           }
          ],
          "histogram2dcontour": [
           {
            "colorbar": {
             "outlinewidth": 0,
             "ticks": ""
            },
            "colorscale": [
             [
              0,
              "#0d0887"
             ],
             [
              0.1111111111111111,
              "#46039f"
             ],
             [
              0.2222222222222222,
              "#7201a8"
             ],
             [
              0.3333333333333333,
              "#9c179e"
             ],
             [
              0.4444444444444444,
              "#bd3786"
             ],
             [
              0.5555555555555556,
              "#d8576b"
             ],
             [
              0.6666666666666666,
              "#ed7953"
             ],
             [
              0.7777777777777778,
              "#fb9f3a"
             ],
             [
              0.8888888888888888,
              "#fdca26"
             ],
             [
              1,
              "#f0f921"
             ]
            ],
            "type": "histogram2dcontour"
           }
          ],
          "mesh3d": [
           {
            "colorbar": {
             "outlinewidth": 0,
             "ticks": ""
            },
            "type": "mesh3d"
           }
          ],
          "parcoords": [
           {
            "line": {
             "colorbar": {
              "outlinewidth": 0,
              "ticks": ""
             }
            },
            "type": "parcoords"
           }
          ],
          "pie": [
           {
            "automargin": true,
            "type": "pie"
           }
          ],
          "scatter": [
           {
            "fillpattern": {
             "fillmode": "overlay",
             "size": 10,
             "solidity": 0.2
            },
            "type": "scatter"
           }
          ],
          "scatter3d": [
           {
            "line": {
             "colorbar": {
              "outlinewidth": 0,
              "ticks": ""
             }
            },
            "marker": {
             "colorbar": {
              "outlinewidth": 0,
              "ticks": ""
             }
            },
            "type": "scatter3d"
           }
          ],
          "scattercarpet": [
           {
            "marker": {
             "colorbar": {
              "outlinewidth": 0,
              "ticks": ""
             }
            },
            "type": "scattercarpet"
           }
          ],
          "scattergeo": [
           {
            "marker": {
             "colorbar": {
              "outlinewidth": 0,
              "ticks": ""
             }
            },
            "type": "scattergeo"
           }
          ],
          "scattergl": [
           {
            "marker": {
             "colorbar": {
              "outlinewidth": 0,
              "ticks": ""
             }
            },
            "type": "scattergl"
           }
          ],
          "scattermapbox": [
           {
            "marker": {
             "colorbar": {
              "outlinewidth": 0,
              "ticks": ""
             }
            },
            "type": "scattermapbox"
           }
          ],
          "scatterpolar": [
           {
            "marker": {
             "colorbar": {
              "outlinewidth": 0,
              "ticks": ""
             }
            },
            "type": "scatterpolar"
           }
          ],
          "scatterpolargl": [
           {
            "marker": {
             "colorbar": {
              "outlinewidth": 0,
              "ticks": ""
             }
            },
            "type": "scatterpolargl"
           }
          ],
          "scatterternary": [
           {
            "marker": {
             "colorbar": {
              "outlinewidth": 0,
              "ticks": ""
             }
            },
            "type": "scatterternary"
           }
          ],
          "surface": [
           {
            "colorbar": {
             "outlinewidth": 0,
             "ticks": ""
            },
            "colorscale": [
             [
              0,
              "#0d0887"
             ],
             [
              0.1111111111111111,
              "#46039f"
             ],
             [
              0.2222222222222222,
              "#7201a8"
             ],
             [
              0.3333333333333333,
              "#9c179e"
             ],
             [
              0.4444444444444444,
              "#bd3786"
             ],
             [
              0.5555555555555556,
              "#d8576b"
             ],
             [
              0.6666666666666666,
              "#ed7953"
             ],
             [
              0.7777777777777778,
              "#fb9f3a"
             ],
             [
              0.8888888888888888,
              "#fdca26"
             ],
             [
              1,
              "#f0f921"
             ]
            ],
            "type": "surface"
           }
          ],
          "table": [
           {
            "cells": {
             "fill": {
              "color": "#EBF0F8"
             },
             "line": {
              "color": "white"
             }
            },
            "header": {
             "fill": {
              "color": "#C8D4E3"
             },
             "line": {
              "color": "white"
             }
            },
            "type": "table"
           }
          ]
         },
         "layout": {
          "annotationdefaults": {
           "arrowcolor": "#2a3f5f",
           "arrowhead": 0,
           "arrowwidth": 1
          },
          "autotypenumbers": "strict",
          "coloraxis": {
           "colorbar": {
            "outlinewidth": 0,
            "ticks": ""
           }
          },
          "colorscale": {
           "diverging": [
            [
             0,
             "#8e0152"
            ],
            [
             0.1,
             "#c51b7d"
            ],
            [
             0.2,
             "#de77ae"
            ],
            [
             0.3,
             "#f1b6da"
            ],
            [
             0.4,
             "#fde0ef"
            ],
            [
             0.5,
             "#f7f7f7"
            ],
            [
             0.6,
             "#e6f5d0"
            ],
            [
             0.7,
             "#b8e186"
            ],
            [
             0.8,
             "#7fbc41"
            ],
            [
             0.9,
             "#4d9221"
            ],
            [
             1,
             "#276419"
            ]
           ],
           "sequential": [
            [
             0,
             "#0d0887"
            ],
            [
             0.1111111111111111,
             "#46039f"
            ],
            [
             0.2222222222222222,
             "#7201a8"
            ],
            [
             0.3333333333333333,
             "#9c179e"
            ],
            [
             0.4444444444444444,
             "#bd3786"
            ],
            [
             0.5555555555555556,
             "#d8576b"
            ],
            [
             0.6666666666666666,
             "#ed7953"
            ],
            [
             0.7777777777777778,
             "#fb9f3a"
            ],
            [
             0.8888888888888888,
             "#fdca26"
            ],
            [
             1,
             "#f0f921"
            ]
           ],
           "sequentialminus": [
            [
             0,
             "#0d0887"
            ],
            [
             0.1111111111111111,
             "#46039f"
            ],
            [
             0.2222222222222222,
             "#7201a8"
            ],
            [
             0.3333333333333333,
             "#9c179e"
            ],
            [
             0.4444444444444444,
             "#bd3786"
            ],
            [
             0.5555555555555556,
             "#d8576b"
            ],
            [
             0.6666666666666666,
             "#ed7953"
            ],
            [
             0.7777777777777778,
             "#fb9f3a"
            ],
            [
             0.8888888888888888,
             "#fdca26"
            ],
            [
             1,
             "#f0f921"
            ]
           ]
          },
          "colorway": [
           "#636efa",
           "#EF553B",
           "#00cc96",
           "#ab63fa",
           "#FFA15A",
           "#19d3f3",
           "#FF6692",
           "#B6E880",
           "#FF97FF",
           "#FECB52"
          ],
          "font": {
           "color": "#2a3f5f"
          },
          "geo": {
           "bgcolor": "white",
           "lakecolor": "white",
           "landcolor": "#E5ECF6",
           "showlakes": true,
           "showland": true,
           "subunitcolor": "white"
          },
          "hoverlabel": {
           "align": "left"
          },
          "hovermode": "closest",
          "mapbox": {
           "style": "light"
          },
          "paper_bgcolor": "white",
          "plot_bgcolor": "#E5ECF6",
          "polar": {
           "angularaxis": {
            "gridcolor": "white",
            "linecolor": "white",
            "ticks": ""
           },
           "bgcolor": "#E5ECF6",
           "radialaxis": {
            "gridcolor": "white",
            "linecolor": "white",
            "ticks": ""
           }
          },
          "scene": {
           "xaxis": {
            "backgroundcolor": "#E5ECF6",
            "gridcolor": "white",
            "gridwidth": 2,
            "linecolor": "white",
            "showbackground": true,
            "ticks": "",
            "zerolinecolor": "white"
           },
           "yaxis": {
            "backgroundcolor": "#E5ECF6",
            "gridcolor": "white",
            "gridwidth": 2,
            "linecolor": "white",
            "showbackground": true,
            "ticks": "",
            "zerolinecolor": "white"
           },
           "zaxis": {
            "backgroundcolor": "#E5ECF6",
            "gridcolor": "white",
            "gridwidth": 2,
            "linecolor": "white",
            "showbackground": true,
            "ticks": "",
            "zerolinecolor": "white"
           }
          },
          "shapedefaults": {
           "line": {
            "color": "#2a3f5f"
           }
          },
          "ternary": {
           "aaxis": {
            "gridcolor": "white",
            "linecolor": "white",
            "ticks": ""
           },
           "baxis": {
            "gridcolor": "white",
            "linecolor": "white",
            "ticks": ""
           },
           "bgcolor": "#E5ECF6",
           "caxis": {
            "gridcolor": "white",
            "linecolor": "white",
            "ticks": ""
           }
          },
          "title": {
           "x": 0.05
          },
          "xaxis": {
           "automargin": true,
           "gridcolor": "white",
           "linecolor": "white",
           "ticks": "",
           "title": {
            "standoff": 15
           },
           "zerolinecolor": "white",
           "zerolinewidth": 2
          },
          "yaxis": {
           "automargin": true,
           "gridcolor": "white",
           "linecolor": "white",
           "ticks": "",
           "title": {
            "standoff": 15
           },
           "zerolinecolor": "white",
           "zerolinewidth": 2
          }
         }
        },
        "title": {
         "font": {
          "color": "white",
          "size": 38
         },
         "text": "Scatter Plot: QB Sacks vs. Fantasy Points (2022)",
         "x": 0.06,
         "y": 0.97
        },
        "width": 1600,
        "xaxis": {
         "anchor": "y",
         "domain": [
          0,
          1
         ],
         "linecolor": "white",
         "linewidth": 1,
         "showline": false,
         "tickfont": {
          "color": "white"
         },
         "title": {
          "font": {
           "color": "white"
          },
          "text": "Sacks/G"
         }
        },
        "yaxis": {
         "anchor": "x",
         "domain": [
          0,
          1
         ],
         "linecolor": "White",
         "linewidth": 1,
         "showline": false,
         "tickfont": {
          "color": "white"
         },
         "title": {
          "font": {
           "color": "white"
          },
          "text": "FantasyPoints"
         }
        }
       }
      }
     },
     "metadata": {},
     "output_type": "display_data"
    }
   ],
   "source": [
    "passing2022 = pd.read_csv(\n",
    "    \"C:\\\\Users\\\\AlexFrench\\OneDrive - Bluegrass Data Analytics\\\\Desktop\\\\BAS476\\\\passing_aboveavgatt.csv\"\n",
    ")\n",
    "\n",
    "color_map = {\"AllPro\": \"#64b2fa\", \"AllStar\": \"#44f71c\", \"No Selections\": \"#ffffff\"}\n",
    "\n",
    "# Create the scatter plot\n",
    "fig = px.scatter(\n",
    "    passing2022,\n",
    "    x=\"Sacks/G\",\n",
    "    y=\"FantasyPoints\",\n",
    "    title=\"Scatter Plot: QB Sacks vs. Fantasy Points (2022)\",\n",
    "    hover_data=[\"Player\"],\n",
    "    color=\"SelectionCategory\",\n",
    "    color_discrete_map=color_map,\n",
    ")\n",
    "\n",
    "fig.update_layout(\n",
    "    margin=dict(t=200, r=20, b=75, l=75),\n",
    "    width=1600,\n",
    "    height=800,\n",
    "    plot_bgcolor=\"#8a887e\",\n",
    "    paper_bgcolor=\"#1f1e1b\",\n",
    "    title_font=dict(color=\"white\", size=38),\n",
    "    xaxis_title_font=dict(color=\"white\"),\n",
    "    yaxis_title_font=dict(color=\"white\"),\n",
    "    legend_title_font=dict(color=\"white\"),\n",
    "    legend_font=dict(color=\"white\"),\n",
    "    xaxis=dict(\n",
    "        tickfont=dict(color=\"white\"), showline=False, linewidth=1, linecolor=\"white\"\n",
    "    ),\n",
    "    yaxis=dict(\n",
    "        tickfont=dict(color=\"white\"), showline=False, linewidth=1, linecolor=\"White\"\n",
    "    ),\n",
    "    title_x=0.060,\n",
    "    title_y=0.97,\n",
    ")\n",
    "\n",
    "\n",
    "fig.add_shape(\n",
    "    type=\"line\",\n",
    "    x0=1,\n",
    "    x1=4,\n",
    "    y0=passing2022[\"FantasyPoints\"].mean(),\n",
    "    y1=passing2022[\"FantasyPoints\"].mean(),\n",
    "    line=dict(color=\"black\", width=3),\n",
    ")\n",
    "fig.add_shape(\n",
    "    type=\"line\",\n",
    "    x0=passing2022[\"Sacks/G\"].mean(),\n",
    "    x1=passing2022[\"Sacks/G\"].mean(),\n",
    "    y1=25,\n",
    "    line=dict(color=\"black\", width=3),\n",
    ")\n",
    "\n",
    "# Make the dots larger\n",
    "fig.update_traces(\n",
    "    marker=dict(size=(passing2022[\"Att\"]) / 8),\n",
    "    marker_line_color=\"black\",\n",
    "    marker_line_width=1,\n",
    ")\n",
    "\n",
    "fig.add_annotation(\n",
    "    x=1.75,\n",
    "    y=5,\n",
    "    text=\"Less Sacks, <br> Less Fantasy Points\",\n",
    "    showarrow=False,\n",
    "    font=dict(color=\"black\", family=\"Arial\", size=14),\n",
    "    bgcolor=\"white\",\n",
    ")\n",
    "fig.add_annotation(\n",
    "    x=1.85,\n",
    "    y=22.5,\n",
    "    text=\"Less Sacks, <br> More Fantasy Points\",\n",
    "    showarrow=False,\n",
    "    font=dict(color=\"black\", family=\"Arial\", size=14),\n",
    "    bgcolor=\"white\",\n",
    ")\n",
    "fig.add_annotation(\n",
    "    x=3.25,\n",
    "    y=22.5,\n",
    "    text=\"More Sacks, <br>More Fantasy Points\",\n",
    "    showarrow=False,\n",
    "    font=dict(color=\"black\", family=\"Arial\", size=14),\n",
    "    bgcolor=\"white\",\n",
    ")\n",
    "fig.add_annotation(\n",
    "    x=3.25,\n",
    "    y=5,\n",
    "    text=\"More Sacks, <br>Less Fantasy Points\",\n",
    "    showarrow=False,\n",
    "    font=dict(color=\"black\", family=\"Arial\", size=14),\n",
    "    bgcolor=\"white\",\n",
    ")\n",
    "\n",
    "fig.add_annotation(\n",
    "    text=\"\"\"\n",
    "    This scatterplot features Sacks per Game on the x-axis and Fantasy Points per game on the y-axis, the black reference lines are indicative of the axis average value. The size of the circle representing each quarterback <br>\n",
    "    is representative of the total number of throwing attempts the quarteback had during the 2022 season. I used a simplied version of my fantasy leagues scoring system to calculate each qb's fantasy score, the formula <br>\n",
    "    for these scores is: YDS*0.4 + TD*4 - INT<br><br>\n",
    "    Quarterbacks that fall in the Top Left or Bottom Right quadrant follow a pattern we would expect; that is, the more sacks they take the less fantasy points they score and vice versa. Contrary to that, quarterbacks that fall<br>\n",
    "    in the Top Right are especially impressive. These QBs are scoring above average in fantasy, while alse enduring more sacks. For the exact opposite reasons, QBs in the Bottom Left Quadrant are especially stinky \"\"\",\n",
    "    x=0,\n",
    "    y=1.26,\n",
    "    showarrow=False,\n",
    "    font=dict(size=14, color=\"lightgray\", family=\"Arial\"),\n",
    "    xref=\"paper\",\n",
    "    yref=\"paper\",\n",
    "    align=\"left\",\n",
    ")\n",
    "\n",
    "\n",
    "# Show the plot\n",
    "fig.show()"
   ]
  },
  {
   "cell_type": "code",
   "execution_count": 6,
   "metadata": {},
   "outputs": [
    {
     "data": {
      "application/vnd.plotly.v1+json": {
       "config": {
        "plotlyServerURL": "https://plot.ly"
       },
       "data": [
        {
         "marker": {
          "color": "#4F2683"
         },
         "name": "MIN",
         "type": "bar",
         "x": [
          "Justin Jefferson*+",
          "Adam Thielen",
          "K.J. Osborn",
          "Dalvin Cook*",
          "Irv Smith Jr."
         ],
         "xaxis": "x",
         "y": [
          0.3315315315315315,
          0.1927927927927928,
          0.1621621621621621,
          0.1009009009009009,
          0.0648648648648648
         ],
         "yaxis": "y"
        },
        {
         "marker": {
          "color": "#008E97"
         },
         "name": "MIA",
         "type": "bar",
         "x": [
          "Tyreek Hill*+",
          "Jaylen Waddle",
          "Mike Gesicki",
          "Trent Sherfield",
          "Raheem Mostert"
         ],
         "xaxis": "x2",
         "y": [
          0.3262955854126679,
          0.2245681381957773,
          0.0998080614203454,
          0.0978886756238003,
          0.0806142034548944
         ],
         "yaxis": "y2"
        },
        {
         "marker": {
          "color": "#E31837"
         },
         "name": "KAN",
         "type": "bar",
         "x": [
          "Travis Kelce*+",
          "JuJu Smith-Schuster",
          "Marquez Valdes-Scantling",
          "Jerick McKinnon",
          "Noah Gray"
         ],
         "xaxis": "x3",
         "y": [
          0.254606365159129,
          0.169179229480737,
          0.135678391959799,
          0.1189279731993299,
          0.0569514237855946
         ],
         "yaxis": "y3"
        },
        {
         "marker": {
          "color": "#00338D"
         },
         "name": "BUF",
         "type": "bar",
         "x": [
          "Stefon Diggs*",
          "Gabriel Davis",
          "Dawson Knox*",
          "Isaiah McKenzie",
          "Devin Singletary"
         ],
         "xaxis": "x4",
         "y": [
          0.2927756653992395,
          0.1768060836501901,
          0.123574144486692,
          0.123574144486692,
          0.0988593155893536
         ],
         "yaxis": "y4"
        },
        {
         "marker": {
          "color": "#0080C6"
         },
         "name": "LAC",
         "type": "bar",
         "x": [
          "Austin Ekeler",
          "Josh Palmer",
          "Mike Williams",
          "Keenan Allen",
          "Gerald Everett"
         ],
         "xaxis": "x5",
         "y": [
          0.1848617176128093,
          0.155749636098981,
          0.1353711790393013,
          0.1295487627365356,
          0.1266375545851528
         ],
         "yaxis": "y5"
        },
        {
         "marker": {
          "color": "#041E42"
         },
         "name": "DAL",
         "type": "bar",
         "x": [
          "CeeDee Lamb*",
          "Dalton Schultz",
          "Noah Brown",
          "Michael Gallup",
          "Tony Pollard*"
         ],
         "xaxis": "x6",
         "y": [
          0.2862385321100917,
          0.163302752293578,
          0.1357798165137614,
          0.1357798165137614,
          0.1009174311926605
         ],
         "yaxis": "y6"
        },
        {
         "marker": {
          "color": "#0076B6"
         },
         "name": "DET",
         "type": "bar",
         "x": [
          "Amon-Ra St. Brown*",
          "D'Andre Swift",
          "Kalif Raymond",
          "Josh Reynolds",
          "DJ Chark"
         ],
         "xaxis": "x7",
         "y": [
          0.2807692307692307,
          0.1346153846153846,
          0.123076923076923,
          0.1134615384615384,
          0.1
         ],
         "yaxis": "y7"
        },
        {
         "marker": {
          "color": "#D50A0A"
         },
         "name": "TAM",
         "type": "bar",
         "x": [
          "Chris Godwin",
          "Mike Evans",
          "Leonard Fournette",
          "Russell Gage",
          "Cade Otton"
         ],
         "xaxis": "x8",
         "y": [
          0.1980474198047419,
          0.1771269177126917,
          0.1157601115760111,
          0.0976290097629009,
          0.0906555090655509
         ],
         "yaxis": "y8"
        },
        {
         "marker": {
          "color": "#000000"
         },
         "name": "LVR",
         "type": "bar",
         "x": [
          "Davante Adams*+",
          "Mack Hollins",
          "Josh Jacobs*+",
          "Foster Moreau",
          "Hunter Renfrow"
         ],
         "xaxis": "x9",
         "y": [
          0.3225806451612903,
          0.1684587813620071,
          0.1146953405017921,
          0.0967741935483871,
          0.089605734767025
         ],
         "yaxis": "y9"
        },
        {
         "marker": {
          "color": "#003D79"
         },
         "name": "IND",
         "type": "bar",
         "x": [
          "Michael Pittman Jr.",
          "Parris Campbell",
          "Alec Pierce",
          "Kylen Granson",
          "Jonathan Taylor"
         ],
         "xaxis": "x10",
         "y": [
          0.2582417582417582,
          0.1666666666666666,
          0.1428571428571428,
          0.0732600732600732,
          0.0732600732600732
         ],
         "yaxis": "y10"
        },
        {
         "marker": {
          "color": "#014A53"
         },
         "name": "PHI",
         "type": "bar",
         "x": [
          "A.J. Brown*",
          "DeVonta Smith",
          "Dallas Goedert",
          "Quez Watkins",
          "Kenneth Gainwell"
         ],
         "xaxis": "x11",
         "y": [
          0.2871287128712871,
          0.2693069306930693,
          0.1366336633663366,
          0.100990099009901,
          0.0574257425742574
         ],
         "yaxis": "y11"
        },
        {
         "marker": {
          "color": "#7AC142"
         },
         "name": "SEA",
         "type": "bar",
         "x": [
          "D.K. Metcalf",
          "Tyler Lockett",
          "Noah Fant",
          "Marquise Goodwin",
          "Will Dissly"
         ],
         "xaxis": "x12",
         "y": [
          0.2577696526508227,
          0.2138939670932358,
          0.1151736745886654,
          0.0767824497257769,
          0.0694698354661791
         ],
         "yaxis": "y12"
        },
        {
         "marker": {
          "color": "#FB4F14"
         },
         "name": "CIN",
         "type": "bar",
         "x": [
          "Ja'Marr Chase*",
          "Tee Higgins",
          "Tyler Boyd",
          "Joe Mixon",
          "Hayden Hurst"
         ],
         "xaxis": "x13",
         "y": [
          0.2255892255892256,
          0.1835016835016835,
          0.138047138047138,
          0.1262626262626262,
          0.1144781144781144
         ],
         "yaxis": "y13"
        },
        {
         "marker": {
          "color": "#FFB612"
         },
         "name": "PIT",
         "type": "bar",
         "x": [
          "Diontae Johnson",
          "Pat Freiermuth",
          "George Pickens",
          "Najee Harris",
          "Jaylen Warren"
         ],
         "xaxis": "x14",
         "y": [
          0.2951807228915662,
          0.1967871485943775,
          0.1686746987951807,
          0.1064257028112449,
          0.0662650602409638
         ],
         "yaxis": "y14"
        },
        {
         "marker": {
          "color": "#136677"
         },
         "name": "JAX",
         "type": "bar",
         "x": [
          "Christian Kirk",
          "Zay Jones",
          "Evan Engram",
          "Marvin Jones",
          "Travis Etienne"
         ],
         "xaxis": "x15",
         "y": [
          0.236234458259325,
          0.2149200710479573,
          0.1740674955595026,
          0.1438721136767318,
          0.0799289520426287
         ],
         "yaxis": "y15"
        },
        {
         "marker": {
          "color": "#125740"
         },
         "name": "NYJ",
         "type": "bar",
         "x": [
          "Garrett Wilson",
          "Tyler Conklin",
          "Elijah Moore",
          "Corey Davis",
          "Michael Carter"
         ],
         "xaxis": "x16",
         "y": [
          0.2517123287671233,
          0.148972602739726,
          0.1113013698630137,
          0.1095890410958904,
          0.0924657534246575
         ],
         "yaxis": "y16"
        },
        {
         "marker": {
          "color": "#AA0000"
         },
         "name": "SFO",
         "type": "bar",
         "x": [
          "Brandon Aiyuk",
          "Deebo Samuel",
          "George Kittle*",
          "Jauan Jennings",
          "Ray-Ray McCloud"
         ],
         "xaxis": "x17",
         "y": [
          0.2676056338028169,
          0.2206572769953051,
          0.2018779342723004,
          0.1314553990610328,
          0.0586854460093896
         ],
         "yaxis": "y17"
        },
        {
         "marker": {
          "color": "#FB4F14"
         },
         "name": "CLE",
         "type": "bar",
         "x": [
          "Amari Cooper",
          "Donovan Peoples-Jones",
          "David Njoku",
          "Kareem Hunt",
          "Harrison Bryant"
         ],
         "xaxis": "x18",
         "y": [
          0.2655935613682093,
          0.193158953722334,
          0.1609657947686116,
          0.0885311871227364,
          0.0845070422535211
         ],
         "yaxis": "y18"
        },
        {
         "marker": {
          "color": "#773141"
         },
         "name": "WAS",
         "type": "bar",
         "x": [
          "Terry McLaurin*",
          "Curtis Samuel",
          "Logan Thomas",
          "Jahan Dotson",
          "Antonio Gibson"
         ],
         "xaxis": "x19",
         "y": [
          0.2259887005649717,
          0.1732580037664783,
          0.1148775894538606,
          0.1148775894538606,
          0.1092278719397363
         ],
         "yaxis": "y19"
        },
        {
         "marker": {
          "color": "#003594"
         },
         "name": "LAR",
         "type": "bar",
         "x": [
          "Tyler Higbee",
          "Cooper Kupp",
          "Ben Skowronek",
          "Allen Robinson",
          "Van Jefferson"
         ],
         "xaxis": "x20",
         "y": [
          0.2088974854932301,
          0.1895551257253385,
          0.1179883945841392,
          0.1005802707930367,
          0.0851063829787234
         ],
         "yaxis": "y20"
        },
        {
         "marker": {
          "color": "#241773"
         },
         "name": "BAL",
         "type": "bar",
         "x": [
          "Mark Andrews*",
          "Demarcus Robinson",
          "Isaiah Likely",
          "Devin Duvernay*",
          "Rashod Bateman"
         ],
         "xaxis": "x21",
         "y": [
          0.2456521739130434,
          0.1630434782608695,
          0.1304347826086956,
          0.1065217391304347,
          0.0608695652173913
         ],
         "yaxis": "y21"
        },
        {
         "marker": {
          "color": "#A71930"
         },
         "name": "ATL",
         "type": "bar",
         "x": [
          "Drake London",
          "Olamide Zaccheaus",
          "Kyle Pitts",
          "Cordarrelle Patterson",
          "Damiere Byrd"
         ],
         "xaxis": "x22",
         "y": [
          0.2925,
          0.1525,
          0.1475,
          0.0775,
          0.0575
         ],
         "yaxis": "y22"
        },
        {
         "marker": {
          "color": "#A08A58"
         },
         "name": "NOR",
         "type": "bar",
         "x": [
          "Chris Olave",
          "Alvin Kamara",
          "Juwan Johnson",
          "Jarvis Landry",
          "Rashid Shaheed"
         ],
         "xaxis": "x23",
         "y": [
          0.24435318275154,
          0.1581108829568788,
          0.1334702258726899,
          0.0800821355236139,
          0.0698151950718685
         ],
         "yaxis": "y23"
        },
        {
         "marker": {
          "color": "#0A2342"
         },
         "name": "NWE",
         "type": "bar",
         "x": [
          "Jakobi Meyers",
          "Rhamondre Stevenson",
          "Hunter Henry",
          "Nelson Agholor",
          "Kendrick Bourne"
         ],
         "xaxis": "x24",
         "y": [
          0.1853281853281853,
          0.1698841698841698,
          0.1138996138996139,
          0.1023166023166023,
          0.0926640926640926
         ],
         "yaxis": "y24"
        },
        {
         "marker": {
          "color": "#97233F"
         },
         "name": "ARI",
         "type": "bar",
         "x": [
          "Marquise Brown",
          "DeAndre Hopkins",
          "Zach Ertz",
          "Greg Dortch",
          "James Conner"
         ],
         "xaxis": "x25",
         "y": [
          0.1848013816925734,
          0.1658031088082901,
          0.1191709844559585,
          0.1105354058721934,
          0.1001727115716753
         ],
         "yaxis": "y25"
        },
        {
         "marker": {
          "color": "#FB4F14"
         },
         "name": "DEN",
         "type": "bar",
         "x": [
          "Courtland Sutton",
          "Jerry Jeudy",
          "Greg Dulcich",
          "Kendall Hinton",
          "Melvin Gordon"
         ],
         "xaxis": "x26",
         "y": [
          0.2252066115702479,
          0.2066115702479339,
          0.1136363636363636,
          0.0681818181818181,
          0.0661157024793388
         ],
         "yaxis": "y26"
        },
        {
         "marker": {
          "color": "#0085CA"
         },
         "name": "CAR",
         "type": "bar",
         "x": [
          "D.J. Moore",
          "Terrace Marshall Jr.",
          "Shi Smith",
          "Laviska Shenault Jr.",
          "Tommy Tremble"
         ],
         "xaxis": "x27",
         "y": [
          0.330532212885154,
          0.1316526610644257,
          0.1148459383753501,
          0.0896358543417367,
          0.0896358543417367
         ],
         "yaxis": "y27"
        },
        {
         "marker": {
          "color": "#24423C"
         },
         "name": "GNB",
         "type": "bar",
         "x": [
          "Allen Lazard",
          "Aaron Jones",
          "Robert Tonyan",
          "Romeo Doubs",
          "Christian Watson"
         ],
         "xaxis": "x28",
         "y": [
          0.196078431372549,
          0.1411764705882353,
          0.1313725490196078,
          0.1313725490196078,
          0.1294117647058823
         ],
         "yaxis": "y28"
        },
        {
         "marker": {
          "color": "#192E6C"
         },
         "name": "NYG",
         "type": "bar",
         "x": [
          "Saquon Barkley*",
          "Darius Slayton",
          "Richie James",
          "Daniel Bellinger",
          "Wan'Dale Robinson"
         ],
         "xaxis": "x29",
         "y": [
          0.1813842482100238,
          0.1694510739856801,
          0.1670644391408114,
          0.0835322195704057,
          0.0739856801909307
         ],
         "yaxis": "y29"
        },
        {
         "marker": {
          "color": "#C9243F"
         },
         "name": "HOU",
         "type": "bar",
         "x": [
          "Brandin Cooks",
          "Chris Moore",
          "Nico Collins",
          "Jordan Akins",
          "Rex Burkhead"
         ],
         "xaxis": "x30",
         "y": [
          0.1761363636363636,
          0.1401515151515151,
          0.125,
          0.1022727272727272,
          0.096590909090909
         ],
         "yaxis": "y30"
        },
        {
         "marker": {
          "color": "#4B92DB"
         },
         "name": "TEN",
         "type": "bar",
         "x": [
          "Robert Woods",
          "Austin Hooper",
          "Treylon Burks",
          "Nick Westbrook-Ikhine",
          "Chigoziem Okonkwo"
         ],
         "xaxis": "x31",
         "y": [
          0.2126168224299065,
          0.1401869158878504,
          0.1261682242990654,
          0.116822429906542,
          0.1074766355140186
         ],
         "yaxis": "y31"
        },
        {
         "marker": {
          "color": "#0B162A"
         },
         "name": "CHI",
         "type": "bar",
         "x": [
          "Cole Kmet",
          "Darnell Mooney",
          "Dante Pettis",
          "David Montgomery",
          "Equanimeous St. Brown"
         ],
         "xaxis": "x32",
         "y": [
          0.2116564417177914,
          0.1871165644171779,
          0.1257668711656441,
          0.1226993865030674,
          0.1165644171779141
         ],
         "yaxis": "y32"
        }
       ],
       "layout": {
        "annotations": [
         {
          "font": {
           "size": 16
          },
          "showarrow": false,
          "text": "MIN",
          "x": 0.0515625,
          "xanchor": "center",
          "xref": "paper",
          "y": 1,
          "yanchor": "bottom",
          "yref": "paper"
         },
         {
          "font": {
           "size": 16
          },
          "showarrow": false,
          "text": "MIA",
          "x": 0.1796875,
          "xanchor": "center",
          "xref": "paper",
          "y": 1,
          "yanchor": "bottom",
          "yref": "paper"
         },
         {
          "font": {
           "size": 16
          },
          "showarrow": false,
          "text": "KAN",
          "x": 0.3078125,
          "xanchor": "center",
          "xref": "paper",
          "y": 1,
          "yanchor": "bottom",
          "yref": "paper"
         },
         {
          "font": {
           "size": 16
          },
          "showarrow": false,
          "text": "BUF",
          "x": 0.4359375,
          "xanchor": "center",
          "xref": "paper",
          "y": 1,
          "yanchor": "bottom",
          "yref": "paper"
         },
         {
          "font": {
           "size": 16
          },
          "showarrow": false,
          "text": "LAC",
          "x": 0.5640624999999999,
          "xanchor": "center",
          "xref": "paper",
          "y": 1,
          "yanchor": "bottom",
          "yref": "paper"
         },
         {
          "font": {
           "size": 16
          },
          "showarrow": false,
          "text": "DAL",
          "x": 0.6921875,
          "xanchor": "center",
          "xref": "paper",
          "y": 1,
          "yanchor": "bottom",
          "yref": "paper"
         },
         {
          "font": {
           "size": 16
          },
          "showarrow": false,
          "text": "DET",
          "x": 0.8203125,
          "xanchor": "center",
          "xref": "paper",
          "y": 1,
          "yanchor": "bottom",
          "yref": "paper"
         },
         {
          "font": {
           "size": 16
          },
          "showarrow": false,
          "text": "TAM",
          "x": 0.9484375,
          "xanchor": "center",
          "xref": "paper",
          "y": 1,
          "yanchor": "bottom",
          "yref": "paper"
         },
         {
          "font": {
           "size": 16
          },
          "showarrow": false,
          "text": "LVR",
          "x": 0.0515625,
          "xanchor": "center",
          "xref": "paper",
          "y": 0.71875,
          "yanchor": "bottom",
          "yref": "paper"
         },
         {
          "font": {
           "size": 16
          },
          "showarrow": false,
          "text": "IND",
          "x": 0.1796875,
          "xanchor": "center",
          "xref": "paper",
          "y": 0.71875,
          "yanchor": "bottom",
          "yref": "paper"
         },
         {
          "font": {
           "size": 16
          },
          "showarrow": false,
          "text": "PHI",
          "x": 0.3078125,
          "xanchor": "center",
          "xref": "paper",
          "y": 0.71875,
          "yanchor": "bottom",
          "yref": "paper"
         },
         {
          "font": {
           "size": 16
          },
          "showarrow": false,
          "text": "SEA",
          "x": 0.4359375,
          "xanchor": "center",
          "xref": "paper",
          "y": 0.71875,
          "yanchor": "bottom",
          "yref": "paper"
         },
         {
          "font": {
           "size": 16
          },
          "showarrow": false,
          "text": "CIN",
          "x": 0.5640624999999999,
          "xanchor": "center",
          "xref": "paper",
          "y": 0.71875,
          "yanchor": "bottom",
          "yref": "paper"
         },
         {
          "font": {
           "size": 16
          },
          "showarrow": false,
          "text": "PIT",
          "x": 0.6921875,
          "xanchor": "center",
          "xref": "paper",
          "y": 0.71875,
          "yanchor": "bottom",
          "yref": "paper"
         },
         {
          "font": {
           "size": 16
          },
          "showarrow": false,
          "text": "JAX",
          "x": 0.8203125,
          "xanchor": "center",
          "xref": "paper",
          "y": 0.71875,
          "yanchor": "bottom",
          "yref": "paper"
         },
         {
          "font": {
           "size": 16
          },
          "showarrow": false,
          "text": "NYJ",
          "x": 0.9484375,
          "xanchor": "center",
          "xref": "paper",
          "y": 0.71875,
          "yanchor": "bottom",
          "yref": "paper"
         },
         {
          "font": {
           "size": 16
          },
          "showarrow": false,
          "text": "SFO",
          "x": 0.0515625,
          "xanchor": "center",
          "xref": "paper",
          "y": 0.4375,
          "yanchor": "bottom",
          "yref": "paper"
         },
         {
          "font": {
           "size": 16
          },
          "showarrow": false,
          "text": "CLE",
          "x": 0.1796875,
          "xanchor": "center",
          "xref": "paper",
          "y": 0.4375,
          "yanchor": "bottom",
          "yref": "paper"
         },
         {
          "font": {
           "size": 16
          },
          "showarrow": false,
          "text": "WAS",
          "x": 0.3078125,
          "xanchor": "center",
          "xref": "paper",
          "y": 0.4375,
          "yanchor": "bottom",
          "yref": "paper"
         },
         {
          "font": {
           "size": 16
          },
          "showarrow": false,
          "text": "LAR",
          "x": 0.4359375,
          "xanchor": "center",
          "xref": "paper",
          "y": 0.4375,
          "yanchor": "bottom",
          "yref": "paper"
         },
         {
          "font": {
           "size": 16
          },
          "showarrow": false,
          "text": "BAL",
          "x": 0.5640624999999999,
          "xanchor": "center",
          "xref": "paper",
          "y": 0.4375,
          "yanchor": "bottom",
          "yref": "paper"
         },
         {
          "font": {
           "size": 16
          },
          "showarrow": false,
          "text": "ATL",
          "x": 0.6921875,
          "xanchor": "center",
          "xref": "paper",
          "y": 0.4375,
          "yanchor": "bottom",
          "yref": "paper"
         },
         {
          "font": {
           "size": 16
          },
          "showarrow": false,
          "text": "NOR",
          "x": 0.8203125,
          "xanchor": "center",
          "xref": "paper",
          "y": 0.4375,
          "yanchor": "bottom",
          "yref": "paper"
         },
         {
          "font": {
           "size": 16
          },
          "showarrow": false,
          "text": "NWE",
          "x": 0.9484375,
          "xanchor": "center",
          "xref": "paper",
          "y": 0.4375,
          "yanchor": "bottom",
          "yref": "paper"
         },
         {
          "font": {
           "size": 16
          },
          "showarrow": false,
          "text": "ARI",
          "x": 0.0515625,
          "xanchor": "center",
          "xref": "paper",
          "y": 0.15625,
          "yanchor": "bottom",
          "yref": "paper"
         },
         {
          "font": {
           "size": 16
          },
          "showarrow": false,
          "text": "DEN",
          "x": 0.1796875,
          "xanchor": "center",
          "xref": "paper",
          "y": 0.15625,
          "yanchor": "bottom",
          "yref": "paper"
         },
         {
          "font": {
           "size": 16
          },
          "showarrow": false,
          "text": "CAR",
          "x": 0.3078125,
          "xanchor": "center",
          "xref": "paper",
          "y": 0.15625,
          "yanchor": "bottom",
          "yref": "paper"
         },
         {
          "font": {
           "size": 16
          },
          "showarrow": false,
          "text": "GNB",
          "x": 0.4359375,
          "xanchor": "center",
          "xref": "paper",
          "y": 0.15625,
          "yanchor": "bottom",
          "yref": "paper"
         },
         {
          "font": {
           "size": 16
          },
          "showarrow": false,
          "text": "NYG",
          "x": 0.5640624999999999,
          "xanchor": "center",
          "xref": "paper",
          "y": 0.15625,
          "yanchor": "bottom",
          "yref": "paper"
         },
         {
          "font": {
           "size": 16
          },
          "showarrow": false,
          "text": "HOU",
          "x": 0.6921875,
          "xanchor": "center",
          "xref": "paper",
          "y": 0.15625,
          "yanchor": "bottom",
          "yref": "paper"
         },
         {
          "font": {
           "size": 16
          },
          "showarrow": false,
          "text": "TEN",
          "x": 0.8203125,
          "xanchor": "center",
          "xref": "paper",
          "y": 0.15625,
          "yanchor": "bottom",
          "yref": "paper"
         },
         {
          "font": {
           "size": 16
          },
          "showarrow": false,
          "text": "CHI",
          "x": 0.9484375,
          "xanchor": "center",
          "xref": "paper",
          "y": 0.15625,
          "yanchor": "bottom",
          "yref": "paper"
         },
         {
          "align": "left",
          "font": {
           "color": "lightgray",
           "size": 13
          },
          "showarrow": false,
          "text": "\n    Each bar chart represents one of the 32 NFL teams top 5 players in terms of target share. Target share being the percentage of all passes that are thrown to them. For the sake of readability, player names have been <br>\n    left off the x-axis, but you can view the player name by hovering over the bars.<br><br>\n    As a Fantasy Football manager this could be incredibly valuable. Which teams share the ball more vs which teams rely heavily on their number one target. We can see a team like The Cincinnati Bengals (CIN) or Los Angeles Chargers (LAC) do <br>\n    a good job of making sure everyone gets targets since there is no major skewdness to their plot. As a fantasy manager, you may be able to get value out of WR2 and WR3 on these teams. Compared to teams like The Raiders (LVR) and The Panthers (CAR) where the number one target is dominating the target share.",
          "x": 0,
          "xref": "paper",
          "y": 1.24,
          "yref": "paper"
         }
        ],
        "font": {
         "color": "white"
        },
        "grid": {
         "columns": 8,
         "rows": 4,
         "xgap": 0.5,
         "ygap": 0.1
        },
        "height": 1050,
        "margin": {
         "b": 50,
         "l": 50,
         "r": 50,
         "t": 265
        },
        "paper_bgcolor": "#242320",
        "plot_bgcolor": "#8a887e",
        "showlegend": false,
        "template": {
         "data": {
          "bar": [
           {
            "error_x": {
             "color": "#2a3f5f"
            },
            "error_y": {
             "color": "#2a3f5f"
            },
            "marker": {
             "line": {
              "color": "#E5ECF6",
              "width": 0.5
             },
             "pattern": {
              "fillmode": "overlay",
              "size": 10,
              "solidity": 0.2
             }
            },
            "type": "bar"
           }
          ],
          "barpolar": [
           {
            "marker": {
             "line": {
              "color": "#E5ECF6",
              "width": 0.5
             },
             "pattern": {
              "fillmode": "overlay",
              "size": 10,
              "solidity": 0.2
             }
            },
            "type": "barpolar"
           }
          ],
          "carpet": [
           {
            "aaxis": {
             "endlinecolor": "#2a3f5f",
             "gridcolor": "white",
             "linecolor": "white",
             "minorgridcolor": "white",
             "startlinecolor": "#2a3f5f"
            },
            "baxis": {
             "endlinecolor": "#2a3f5f",
             "gridcolor": "white",
             "linecolor": "white",
             "minorgridcolor": "white",
             "startlinecolor": "#2a3f5f"
            },
            "type": "carpet"
           }
          ],
          "choropleth": [
           {
            "colorbar": {
             "outlinewidth": 0,
             "ticks": ""
            },
            "type": "choropleth"
           }
          ],
          "contour": [
           {
            "colorbar": {
             "outlinewidth": 0,
             "ticks": ""
            },
            "colorscale": [
             [
              0,
              "#0d0887"
             ],
             [
              0.1111111111111111,
              "#46039f"
             ],
             [
              0.2222222222222222,
              "#7201a8"
             ],
             [
              0.3333333333333333,
              "#9c179e"
             ],
             [
              0.4444444444444444,
              "#bd3786"
             ],
             [
              0.5555555555555556,
              "#d8576b"
             ],
             [
              0.6666666666666666,
              "#ed7953"
             ],
             [
              0.7777777777777778,
              "#fb9f3a"
             ],
             [
              0.8888888888888888,
              "#fdca26"
             ],
             [
              1,
              "#f0f921"
             ]
            ],
            "type": "contour"
           }
          ],
          "contourcarpet": [
           {
            "colorbar": {
             "outlinewidth": 0,
             "ticks": ""
            },
            "type": "contourcarpet"
           }
          ],
          "heatmap": [
           {
            "colorbar": {
             "outlinewidth": 0,
             "ticks": ""
            },
            "colorscale": [
             [
              0,
              "#0d0887"
             ],
             [
              0.1111111111111111,
              "#46039f"
             ],
             [
              0.2222222222222222,
              "#7201a8"
             ],
             [
              0.3333333333333333,
              "#9c179e"
             ],
             [
              0.4444444444444444,
              "#bd3786"
             ],
             [
              0.5555555555555556,
              "#d8576b"
             ],
             [
              0.6666666666666666,
              "#ed7953"
             ],
             [
              0.7777777777777778,
              "#fb9f3a"
             ],
             [
              0.8888888888888888,
              "#fdca26"
             ],
             [
              1,
              "#f0f921"
             ]
            ],
            "type": "heatmap"
           }
          ],
          "heatmapgl": [
           {
            "colorbar": {
             "outlinewidth": 0,
             "ticks": ""
            },
            "colorscale": [
             [
              0,
              "#0d0887"
             ],
             [
              0.1111111111111111,
              "#46039f"
             ],
             [
              0.2222222222222222,
              "#7201a8"
             ],
             [
              0.3333333333333333,
              "#9c179e"
             ],
             [
              0.4444444444444444,
              "#bd3786"
             ],
             [
              0.5555555555555556,
              "#d8576b"
             ],
             [
              0.6666666666666666,
              "#ed7953"
             ],
             [
              0.7777777777777778,
              "#fb9f3a"
             ],
             [
              0.8888888888888888,
              "#fdca26"
             ],
             [
              1,
              "#f0f921"
             ]
            ],
            "type": "heatmapgl"
           }
          ],
          "histogram": [
           {
            "marker": {
             "pattern": {
              "fillmode": "overlay",
              "size": 10,
              "solidity": 0.2
             }
            },
            "type": "histogram"
           }
          ],
          "histogram2d": [
           {
            "colorbar": {
             "outlinewidth": 0,
             "ticks": ""
            },
            "colorscale": [
             [
              0,
              "#0d0887"
             ],
             [
              0.1111111111111111,
              "#46039f"
             ],
             [
              0.2222222222222222,
              "#7201a8"
             ],
             [
              0.3333333333333333,
              "#9c179e"
             ],
             [
              0.4444444444444444,
              "#bd3786"
             ],
             [
              0.5555555555555556,
              "#d8576b"
             ],
             [
              0.6666666666666666,
              "#ed7953"
             ],
             [
              0.7777777777777778,
              "#fb9f3a"
             ],
             [
              0.8888888888888888,
              "#fdca26"
             ],
             [
              1,
              "#f0f921"
             ]
            ],
            "type": "histogram2d"
           }
          ],
          "histogram2dcontour": [
           {
            "colorbar": {
             "outlinewidth": 0,
             "ticks": ""
            },
            "colorscale": [
             [
              0,
              "#0d0887"
             ],
             [
              0.1111111111111111,
              "#46039f"
             ],
             [
              0.2222222222222222,
              "#7201a8"
             ],
             [
              0.3333333333333333,
              "#9c179e"
             ],
             [
              0.4444444444444444,
              "#bd3786"
             ],
             [
              0.5555555555555556,
              "#d8576b"
             ],
             [
              0.6666666666666666,
              "#ed7953"
             ],
             [
              0.7777777777777778,
              "#fb9f3a"
             ],
             [
              0.8888888888888888,
              "#fdca26"
             ],
             [
              1,
              "#f0f921"
             ]
            ],
            "type": "histogram2dcontour"
           }
          ],
          "mesh3d": [
           {
            "colorbar": {
             "outlinewidth": 0,
             "ticks": ""
            },
            "type": "mesh3d"
           }
          ],
          "parcoords": [
           {
            "line": {
             "colorbar": {
              "outlinewidth": 0,
              "ticks": ""
             }
            },
            "type": "parcoords"
           }
          ],
          "pie": [
           {
            "automargin": true,
            "type": "pie"
           }
          ],
          "scatter": [
           {
            "fillpattern": {
             "fillmode": "overlay",
             "size": 10,
             "solidity": 0.2
            },
            "type": "scatter"
           }
          ],
          "scatter3d": [
           {
            "line": {
             "colorbar": {
              "outlinewidth": 0,
              "ticks": ""
             }
            },
            "marker": {
             "colorbar": {
              "outlinewidth": 0,
              "ticks": ""
             }
            },
            "type": "scatter3d"
           }
          ],
          "scattercarpet": [
           {
            "marker": {
             "colorbar": {
              "outlinewidth": 0,
              "ticks": ""
             }
            },
            "type": "scattercarpet"
           }
          ],
          "scattergeo": [
           {
            "marker": {
             "colorbar": {
              "outlinewidth": 0,
              "ticks": ""
             }
            },
            "type": "scattergeo"
           }
          ],
          "scattergl": [
           {
            "marker": {
             "colorbar": {
              "outlinewidth": 0,
              "ticks": ""
             }
            },
            "type": "scattergl"
           }
          ],
          "scattermapbox": [
           {
            "marker": {
             "colorbar": {
              "outlinewidth": 0,
              "ticks": ""
             }
            },
            "type": "scattermapbox"
           }
          ],
          "scatterpolar": [
           {
            "marker": {
             "colorbar": {
              "outlinewidth": 0,
              "ticks": ""
             }
            },
            "type": "scatterpolar"
           }
          ],
          "scatterpolargl": [
           {
            "marker": {
             "colorbar": {
              "outlinewidth": 0,
              "ticks": ""
             }
            },
            "type": "scatterpolargl"
           }
          ],
          "scatterternary": [
           {
            "marker": {
             "colorbar": {
              "outlinewidth": 0,
              "ticks": ""
             }
            },
            "type": "scatterternary"
           }
          ],
          "surface": [
           {
            "colorbar": {
             "outlinewidth": 0,
             "ticks": ""
            },
            "colorscale": [
             [
              0,
              "#0d0887"
             ],
             [
              0.1111111111111111,
              "#46039f"
             ],
             [
              0.2222222222222222,
              "#7201a8"
             ],
             [
              0.3333333333333333,
              "#9c179e"
             ],
             [
              0.4444444444444444,
              "#bd3786"
             ],
             [
              0.5555555555555556,
              "#d8576b"
             ],
             [
              0.6666666666666666,
              "#ed7953"
             ],
             [
              0.7777777777777778,
              "#fb9f3a"
             ],
             [
              0.8888888888888888,
              "#fdca26"
             ],
             [
              1,
              "#f0f921"
             ]
            ],
            "type": "surface"
           }
          ],
          "table": [
           {
            "cells": {
             "fill": {
              "color": "#EBF0F8"
             },
             "line": {
              "color": "white"
             }
            },
            "header": {
             "fill": {
              "color": "#C8D4E3"
             },
             "line": {
              "color": "white"
             }
            },
            "type": "table"
           }
          ]
         },
         "layout": {
          "annotationdefaults": {
           "arrowcolor": "#2a3f5f",
           "arrowhead": 0,
           "arrowwidth": 1
          },
          "autotypenumbers": "strict",
          "coloraxis": {
           "colorbar": {
            "outlinewidth": 0,
            "ticks": ""
           }
          },
          "colorscale": {
           "diverging": [
            [
             0,
             "#8e0152"
            ],
            [
             0.1,
             "#c51b7d"
            ],
            [
             0.2,
             "#de77ae"
            ],
            [
             0.3,
             "#f1b6da"
            ],
            [
             0.4,
             "#fde0ef"
            ],
            [
             0.5,
             "#f7f7f7"
            ],
            [
             0.6,
             "#e6f5d0"
            ],
            [
             0.7,
             "#b8e186"
            ],
            [
             0.8,
             "#7fbc41"
            ],
            [
             0.9,
             "#4d9221"
            ],
            [
             1,
             "#276419"
            ]
           ],
           "sequential": [
            [
             0,
             "#0d0887"
            ],
            [
             0.1111111111111111,
             "#46039f"
            ],
            [
             0.2222222222222222,
             "#7201a8"
            ],
            [
             0.3333333333333333,
             "#9c179e"
            ],
            [
             0.4444444444444444,
             "#bd3786"
            ],
            [
             0.5555555555555556,
             "#d8576b"
            ],
            [
             0.6666666666666666,
             "#ed7953"
            ],
            [
             0.7777777777777778,
             "#fb9f3a"
            ],
            [
             0.8888888888888888,
             "#fdca26"
            ],
            [
             1,
             "#f0f921"
            ]
           ],
           "sequentialminus": [
            [
             0,
             "#0d0887"
            ],
            [
             0.1111111111111111,
             "#46039f"
            ],
            [
             0.2222222222222222,
             "#7201a8"
            ],
            [
             0.3333333333333333,
             "#9c179e"
            ],
            [
             0.4444444444444444,
             "#bd3786"
            ],
            [
             0.5555555555555556,
             "#d8576b"
            ],
            [
             0.6666666666666666,
             "#ed7953"
            ],
            [
             0.7777777777777778,
             "#fb9f3a"
            ],
            [
             0.8888888888888888,
             "#fdca26"
            ],
            [
             1,
             "#f0f921"
            ]
           ]
          },
          "colorway": [
           "#636efa",
           "#EF553B",
           "#00cc96",
           "#ab63fa",
           "#FFA15A",
           "#19d3f3",
           "#FF6692",
           "#B6E880",
           "#FF97FF",
           "#FECB52"
          ],
          "font": {
           "color": "#2a3f5f"
          },
          "geo": {
           "bgcolor": "white",
           "lakecolor": "white",
           "landcolor": "#E5ECF6",
           "showlakes": true,
           "showland": true,
           "subunitcolor": "white"
          },
          "hoverlabel": {
           "align": "left"
          },
          "hovermode": "closest",
          "mapbox": {
           "style": "light"
          },
          "paper_bgcolor": "white",
          "plot_bgcolor": "#E5ECF6",
          "polar": {
           "angularaxis": {
            "gridcolor": "white",
            "linecolor": "white",
            "ticks": ""
           },
           "bgcolor": "#E5ECF6",
           "radialaxis": {
            "gridcolor": "white",
            "linecolor": "white",
            "ticks": ""
           }
          },
          "scene": {
           "xaxis": {
            "backgroundcolor": "#E5ECF6",
            "gridcolor": "white",
            "gridwidth": 2,
            "linecolor": "white",
            "showbackground": true,
            "ticks": "",
            "zerolinecolor": "white"
           },
           "yaxis": {
            "backgroundcolor": "#E5ECF6",
            "gridcolor": "white",
            "gridwidth": 2,
            "linecolor": "white",
            "showbackground": true,
            "ticks": "",
            "zerolinecolor": "white"
           },
           "zaxis": {
            "backgroundcolor": "#E5ECF6",
            "gridcolor": "white",
            "gridwidth": 2,
            "linecolor": "white",
            "showbackground": true,
            "ticks": "",
            "zerolinecolor": "white"
           }
          },
          "shapedefaults": {
           "line": {
            "color": "#2a3f5f"
           }
          },
          "ternary": {
           "aaxis": {
            "gridcolor": "white",
            "linecolor": "white",
            "ticks": ""
           },
           "baxis": {
            "gridcolor": "white",
            "linecolor": "white",
            "ticks": ""
           },
           "bgcolor": "#E5ECF6",
           "caxis": {
            "gridcolor": "white",
            "linecolor": "white",
            "ticks": ""
           }
          },
          "title": {
           "x": 0.05
          },
          "xaxis": {
           "automargin": true,
           "gridcolor": "white",
           "linecolor": "white",
           "ticks": "",
           "title": {
            "standoff": 15
           },
           "zerolinecolor": "white",
           "zerolinewidth": 2
          },
          "yaxis": {
           "automargin": true,
           "gridcolor": "white",
           "linecolor": "white",
           "ticks": "",
           "title": {
            "standoff": 15
           },
           "zerolinecolor": "white",
           "zerolinewidth": 2
          }
         }
        },
        "title": {
         "font": {
          "color": "white",
          "size": 40
         },
         "text": "Every NFL Teams Top 5 Receiving Targets by Target Share (2022)",
         "x": 0.5,
         "y": 0.97
        },
        "width": 1800,
        "xaxis": {
         "anchor": "y",
         "domain": [
          0,
          0.103125
         ],
         "ticktext": [
          "",
          "",
          "",
          "",
          ""
         ],
         "tickvals": [
          0,
          1,
          2,
          3,
          4
         ],
         "title": {
          "font": {
           "color": "white"
          },
          "text": ""
         }
        },
        "xaxis10": {
         "anchor": "y10",
         "domain": [
          0.128125,
          0.23124999999999998
         ],
         "ticktext": [
          "",
          "",
          "",
          "",
          ""
         ],
         "tickvals": [
          136,
          137,
          138,
          139,
          141
         ],
         "title": {
          "text": ""
         }
        },
        "xaxis11": {
         "anchor": "y11",
         "domain": [
          0.25625,
          0.359375
         ],
         "ticktext": [
          "",
          "",
          "",
          "",
          ""
         ],
         "tickvals": [
          151,
          150,
          152,
          153,
          154
         ],
         "title": {
          "text": ""
         }
        },
        "xaxis12": {
         "anchor": "y12",
         "domain": [
          0.38437499999999997,
          0.48749999999999993
         ],
         "ticktext": [
          "",
          "",
          "",
          "",
          ""
         ],
         "tickvals": [
          161,
          162,
          163,
          165,
          164
         ],
         "title": {
          "text": ""
         }
        },
        "xaxis13": {
         "anchor": "y13",
         "domain": [
          0.5125,
          0.615625
         ],
         "ticktext": [
          "",
          "",
          "",
          "",
          ""
         ],
         "tickvals": [
          178,
          179,
          181,
          180,
          182
         ],
         "title": {
          "text": ""
         }
        },
        "xaxis14": {
         "anchor": "y14",
         "domain": [
          0.640625,
          0.74375
         ],
         "ticktext": [
          "",
          "",
          "",
          "",
          ""
         ],
         "tickvals": [
          193,
          194,
          195,
          196,
          197
         ],
         "title": {
          "text": ""
         }
        },
        "xaxis15": {
         "anchor": "y15",
         "domain": [
          0.76875,
          0.8718750000000001
         ],
         "ticktext": [
          "",
          "",
          "",
          "",
          ""
         ],
         "tickvals": [
          207,
          208,
          209,
          210,
          211
         ],
         "title": {
          "text": ""
         }
        },
        "xaxis16": {
         "anchor": "y16",
         "domain": [
          0.8968750000000001,
          1
         ],
         "ticktext": [
          "",
          "",
          "",
          "",
          ""
         ],
         "tickvals": [
          218,
          219,
          221,
          222,
          220
         ],
         "title": {
          "text": ""
         }
        },
        "xaxis17": {
         "anchor": "y17",
         "domain": [
          0,
          0.103125
         ],
         "ticktext": [
          "",
          "",
          "",
          "",
          ""
         ],
         "tickvals": [
          232,
          234,
          233,
          235,
          237
         ],
         "title": {
          "text": ""
         }
        },
        "xaxis18": {
         "anchor": "y18",
         "domain": [
          0.128125,
          0.23124999999999998
         ],
         "ticktext": [
          "",
          "",
          "",
          "",
          ""
         ],
         "tickvals": [
          245,
          246,
          247,
          248,
          249
         ],
         "title": {
          "text": ""
         }
        },
        "xaxis19": {
         "anchor": "y19",
         "domain": [
          0.25625,
          0.359375
         ],
         "ticktext": [
          "",
          "",
          "",
          "",
          ""
         ],
         "tickvals": [
          259,
          260,
          262,
          263,
          261
         ],
         "title": {
          "text": ""
         }
        },
        "xaxis2": {
         "anchor": "y2",
         "domain": [
          0.128125,
          0.23124999999999998
         ],
         "ticktext": [
          "",
          "",
          "",
          "",
          ""
         ],
         "tickvals": [
          12,
          13,
          14,
          16,
          15
         ],
         "title": {
          "text": ""
         }
        },
        "xaxis20": {
         "anchor": "y20",
         "domain": [
          0.38437499999999997,
          0.48749999999999993
         ],
         "ticktext": [
          "",
          "",
          "",
          "",
          ""
         ],
         "tickvals": [
          275,
          274,
          276,
          277,
          278
         ],
         "title": {
          "text": ""
         }
        },
        "xaxis21": {
         "anchor": "y21",
         "domain": [
          0.5125,
          0.615625
         ],
         "ticktext": [
          "",
          "",
          "",
          "",
          ""
         ],
         "tickvals": [
          292,
          293,
          295,
          294,
          297
         ],
         "title": {
          "text": ""
         }
        },
        "xaxis22": {
         "anchor": "y22",
         "domain": [
          0.640625,
          0.74375
         ],
         "ticktext": [
          "",
          "",
          "",
          "",
          ""
         ],
         "tickvals": [
          308,
          309,
          310,
          311,
          314
         ],
         "title": {
          "text": ""
         }
        },
        "xaxis23": {
         "anchor": "y23",
         "domain": [
          0.76875,
          0.8718750000000001
         ],
         "ticktext": [
          "",
          "",
          "",
          "",
          ""
         ],
         "tickvals": [
          325,
          326,
          327,
          329,
          328
         ],
         "title": {
          "text": ""
         }
        },
        "xaxis24": {
         "anchor": "y24",
         "domain": [
          0.8968750000000001,
          1
         ],
         "ticktext": [
          "",
          "",
          "",
          "",
          ""
         ],
         "tickvals": [
          343,
          342,
          344,
          346,
          345
         ],
         "title": {
          "text": ""
         }
        },
        "xaxis25": {
         "anchor": "y25",
         "domain": [
          0,
          0.103125
         ],
         "ticktext": [
          "",
          "",
          "",
          "",
          ""
         ],
         "tickvals": [
          357,
          358,
          360,
          359,
          361
         ],
         "title": {
          "text": ""
         }
        },
        "xaxis26": {
         "anchor": "y26",
         "domain": [
          0.128125,
          0.23124999999999998
         ],
         "ticktext": [
          "",
          "",
          "",
          "",
          ""
         ],
         "tickvals": [
          374,
          373,
          375,
          377,
          376
         ],
         "title": {
          "text": ""
         }
        },
        "xaxis27": {
         "anchor": "y27",
         "domain": [
          0.25625,
          0.359375
         ],
         "ticktext": [
          "",
          "",
          "",
          "",
          ""
         ],
         "tickvals": [
          392,
          393,
          395,
          394,
          397
         ],
         "title": {
          "text": ""
         }
        },
        "xaxis28": {
         "anchor": "y28",
         "domain": [
          0.38437499999999997,
          0.48749999999999993
         ],
         "ticktext": [
          "",
          "",
          "",
          "",
          ""
         ],
         "tickvals": [
          404,
          405,
          406,
          407,
          408
         ],
         "title": {
          "text": ""
         }
        },
        "xaxis29": {
         "anchor": "y29",
         "domain": [
          0.5125,
          0.615625
         ],
         "ticktext": [
          "",
          "",
          "",
          "",
          ""
         ],
         "tickvals": [
          418,
          420,
          419,
          421,
          422
         ],
         "title": {
          "text": ""
         }
        },
        "xaxis3": {
         "anchor": "y3",
         "domain": [
          0.25625,
          0.359375
         ],
         "ticktext": [
          "",
          "",
          "",
          "",
          ""
         ],
         "tickvals": [
          26,
          27,
          29,
          28,
          30
         ],
         "title": {
          "text": ""
         }
        },
        "xaxis30": {
         "anchor": "y30",
         "domain": [
          0.640625,
          0.74375
         ],
         "ticktext": [
          "",
          "",
          "",
          "",
          ""
         ],
         "tickvals": [
          431,
          432,
          435,
          433,
          434
         ],
         "title": {
          "text": ""
         }
        },
        "xaxis31": {
         "anchor": "y31",
         "domain": [
          0.76875,
          0.8718750000000001
         ],
         "ticktext": [
          "",
          "",
          "",
          "",
          ""
         ],
         "tickvals": [
          447,
          448,
          449,
          452,
          451
         ],
         "title": {
          "text": ""
         }
        },
        "xaxis32": {
         "anchor": "y32",
         "domain": [
          0.8968750000000001,
          1
         ],
         "ticktext": [
          "",
          "",
          "",
          "",
          ""
         ],
         "tickvals": [
          463,
          464,
          467,
          465,
          466
         ],
         "title": {
          "text": ""
         }
        },
        "xaxis4": {
         "anchor": "y4",
         "domain": [
          0.38437499999999997,
          0.48749999999999993
         ],
         "ticktext": [
          "",
          "",
          "",
          "",
          ""
         ],
         "tickvals": [
          41,
          42,
          43,
          44,
          45
         ],
         "title": {
          "text": ""
         }
        },
        "xaxis5": {
         "anchor": "y5",
         "domain": [
          0.5125,
          0.615625
         ],
         "ticktext": [
          "",
          "",
          "",
          "",
          ""
         ],
         "tickvals": [
          55,
          56,
          58,
          57,
          59
         ],
         "title": {
          "text": ""
         }
        },
        "xaxis6": {
         "anchor": "y6",
         "domain": [
          0.640625,
          0.74375
         ],
         "ticktext": [
          "",
          "",
          "",
          "",
          ""
         ],
         "tickvals": [
          74,
          75,
          76,
          77,
          78
         ],
         "title": {
          "text": ""
         }
        },
        "xaxis7": {
         "anchor": "y7",
         "domain": [
          0.76875,
          0.8718750000000001
         ],
         "ticktext": [
          "",
          "",
          "",
          "",
          ""
         ],
         "tickvals": [
          90,
          91,
          92,
          93,
          94
         ],
         "title": {
          "text": ""
         }
        },
        "xaxis8": {
         "anchor": "y8",
         "domain": [
          0.8968750000000001,
          1
         ],
         "ticktext": [
          "",
          "",
          "",
          "",
          ""
         ],
         "tickvals": [
          108,
          109,
          110,
          111,
          113
         ],
         "title": {
          "text": ""
         }
        },
        "xaxis9": {
         "anchor": "y9",
         "domain": [
          0,
          0.103125
         ],
         "ticktext": [
          "",
          "",
          "",
          "",
          ""
         ],
         "tickvals": [
          124,
          125,
          126,
          128,
          127
         ],
         "title": {
          "text": ""
         }
        },
        "yaxis": {
         "anchor": "x",
         "color": "white",
         "domain": [
          0.84375,
          1
         ],
         "range": [
          0,
          0.43153153153153145
         ],
         "ticktext": [
          "0%",
          "20%",
          "40%",
          "60%"
         ],
         "tickvals": [
          0,
          0.2,
          0.4,
          0.6
         ],
         "title": {
          "font": {
           "color": "white"
          }
         }
        },
        "yaxis10": {
         "anchor": "x10",
         "color": "white",
         "domain": [
          0.5625,
          0.71875
         ],
         "range": [
          0,
          0.43153153153153145
         ],
         "ticktext": [
          "0%",
          "20%",
          "40%",
          "60%"
         ],
         "tickvals": [
          0,
          0.2,
          0.4,
          0.6
         ]
        },
        "yaxis11": {
         "anchor": "x11",
         "color": "white",
         "domain": [
          0.5625,
          0.71875
         ],
         "range": [
          0,
          0.43153153153153145
         ],
         "ticktext": [
          "0%",
          "20%",
          "40%",
          "60%"
         ],
         "tickvals": [
          0,
          0.2,
          0.4,
          0.6
         ]
        },
        "yaxis12": {
         "anchor": "x12",
         "color": "white",
         "domain": [
          0.5625,
          0.71875
         ],
         "range": [
          0,
          0.43153153153153145
         ],
         "ticktext": [
          "0%",
          "20%",
          "40%",
          "60%"
         ],
         "tickvals": [
          0,
          0.2,
          0.4,
          0.6
         ]
        },
        "yaxis13": {
         "anchor": "x13",
         "color": "white",
         "domain": [
          0.5625,
          0.71875
         ],
         "range": [
          0,
          0.43153153153153145
         ],
         "ticktext": [
          "0%",
          "20%",
          "40%",
          "60%"
         ],
         "tickvals": [
          0,
          0.2,
          0.4,
          0.6
         ]
        },
        "yaxis14": {
         "anchor": "x14",
         "color": "white",
         "domain": [
          0.5625,
          0.71875
         ],
         "range": [
          0,
          0.43153153153153145
         ],
         "ticktext": [
          "0%",
          "20%",
          "40%",
          "60%"
         ],
         "tickvals": [
          0,
          0.2,
          0.4,
          0.6
         ]
        },
        "yaxis15": {
         "anchor": "x15",
         "color": "white",
         "domain": [
          0.5625,
          0.71875
         ],
         "range": [
          0,
          0.43153153153153145
         ],
         "ticktext": [
          "0%",
          "20%",
          "40%",
          "60%"
         ],
         "tickvals": [
          0,
          0.2,
          0.4,
          0.6
         ]
        },
        "yaxis16": {
         "anchor": "x16",
         "color": "white",
         "domain": [
          0.5625,
          0.71875
         ],
         "range": [
          0,
          0.43153153153153145
         ],
         "ticktext": [
          "0%",
          "20%",
          "40%",
          "60%"
         ],
         "tickvals": [
          0,
          0.2,
          0.4,
          0.6
         ]
        },
        "yaxis17": {
         "anchor": "x17",
         "color": "white",
         "domain": [
          0.28125,
          0.4375
         ],
         "range": [
          0,
          0.43153153153153145
         ],
         "ticktext": [
          "0%",
          "20%",
          "40%",
          "60%"
         ],
         "tickvals": [
          0,
          0.2,
          0.4,
          0.6
         ]
        },
        "yaxis18": {
         "anchor": "x18",
         "color": "white",
         "domain": [
          0.28125,
          0.4375
         ],
         "range": [
          0,
          0.43153153153153145
         ],
         "ticktext": [
          "0%",
          "20%",
          "40%",
          "60%"
         ],
         "tickvals": [
          0,
          0.2,
          0.4,
          0.6
         ]
        },
        "yaxis19": {
         "anchor": "x19",
         "color": "white",
         "domain": [
          0.28125,
          0.4375
         ],
         "range": [
          0,
          0.43153153153153145
         ],
         "ticktext": [
          "0%",
          "20%",
          "40%",
          "60%"
         ],
         "tickvals": [
          0,
          0.2,
          0.4,
          0.6
         ]
        },
        "yaxis2": {
         "anchor": "x2",
         "color": "white",
         "domain": [
          0.84375,
          1
         ],
         "range": [
          0,
          0.43153153153153145
         ],
         "ticktext": [
          "0%",
          "20%",
          "40%",
          "60%"
         ],
         "tickvals": [
          0,
          0.2,
          0.4,
          0.6
         ]
        },
        "yaxis20": {
         "anchor": "x20",
         "color": "white",
         "domain": [
          0.28125,
          0.4375
         ],
         "range": [
          0,
          0.43153153153153145
         ],
         "ticktext": [
          "0%",
          "20%",
          "40%",
          "60%"
         ],
         "tickvals": [
          0,
          0.2,
          0.4,
          0.6
         ]
        },
        "yaxis21": {
         "anchor": "x21",
         "color": "white",
         "domain": [
          0.28125,
          0.4375
         ],
         "range": [
          0,
          0.43153153153153145
         ],
         "ticktext": [
          "0%",
          "20%",
          "40%",
          "60%"
         ],
         "tickvals": [
          0,
          0.2,
          0.4,
          0.6
         ]
        },
        "yaxis22": {
         "anchor": "x22",
         "color": "white",
         "domain": [
          0.28125,
          0.4375
         ],
         "range": [
          0,
          0.43153153153153145
         ],
         "ticktext": [
          "0%",
          "20%",
          "40%",
          "60%"
         ],
         "tickvals": [
          0,
          0.2,
          0.4,
          0.6
         ]
        },
        "yaxis23": {
         "anchor": "x23",
         "color": "white",
         "domain": [
          0.28125,
          0.4375
         ],
         "range": [
          0,
          0.43153153153153145
         ],
         "ticktext": [
          "0%",
          "20%",
          "40%",
          "60%"
         ],
         "tickvals": [
          0,
          0.2,
          0.4,
          0.6
         ]
        },
        "yaxis24": {
         "anchor": "x24",
         "color": "white",
         "domain": [
          0.28125,
          0.4375
         ],
         "range": [
          0,
          0.43153153153153145
         ],
         "ticktext": [
          "0%",
          "20%",
          "40%",
          "60%"
         ],
         "tickvals": [
          0,
          0.2,
          0.4,
          0.6
         ]
        },
        "yaxis25": {
         "anchor": "x25",
         "color": "white",
         "domain": [
          0,
          0.15625
         ],
         "range": [
          0,
          0.43153153153153145
         ],
         "ticktext": [
          "0%",
          "20%",
          "40%",
          "60%"
         ],
         "tickvals": [
          0,
          0.2,
          0.4,
          0.6
         ]
        },
        "yaxis26": {
         "anchor": "x26",
         "color": "white",
         "domain": [
          0,
          0.15625
         ],
         "range": [
          0,
          0.43153153153153145
         ],
         "ticktext": [
          "0%",
          "20%",
          "40%",
          "60%"
         ],
         "tickvals": [
          0,
          0.2,
          0.4,
          0.6
         ]
        },
        "yaxis27": {
         "anchor": "x27",
         "color": "white",
         "domain": [
          0,
          0.15625
         ],
         "range": [
          0,
          0.43153153153153145
         ],
         "ticktext": [
          "0%",
          "20%",
          "40%",
          "60%"
         ],
         "tickvals": [
          0,
          0.2,
          0.4,
          0.6
         ]
        },
        "yaxis28": {
         "anchor": "x28",
         "color": "white",
         "domain": [
          0,
          0.15625
         ],
         "range": [
          0,
          0.43153153153153145
         ],
         "ticktext": [
          "0%",
          "20%",
          "40%",
          "60%"
         ],
         "tickvals": [
          0,
          0.2,
          0.4,
          0.6
         ]
        },
        "yaxis29": {
         "anchor": "x29",
         "color": "white",
         "domain": [
          0,
          0.15625
         ],
         "range": [
          0,
          0.43153153153153145
         ],
         "ticktext": [
          "0%",
          "20%",
          "40%",
          "60%"
         ],
         "tickvals": [
          0,
          0.2,
          0.4,
          0.6
         ]
        },
        "yaxis3": {
         "anchor": "x3",
         "color": "white",
         "domain": [
          0.84375,
          1
         ],
         "range": [
          0,
          0.43153153153153145
         ],
         "ticktext": [
          "0%",
          "20%",
          "40%",
          "60%"
         ],
         "tickvals": [
          0,
          0.2,
          0.4,
          0.6
         ]
        },
        "yaxis30": {
         "anchor": "x30",
         "color": "white",
         "domain": [
          0,
          0.15625
         ],
         "range": [
          0,
          0.43153153153153145
         ],
         "ticktext": [
          "0%",
          "20%",
          "40%",
          "60%"
         ],
         "tickvals": [
          0,
          0.2,
          0.4,
          0.6
         ]
        },
        "yaxis31": {
         "anchor": "x31",
         "color": "white",
         "domain": [
          0,
          0.15625
         ],
         "range": [
          0,
          0.43153153153153145
         ],
         "ticktext": [
          "0%",
          "20%",
          "40%",
          "60%"
         ],
         "tickvals": [
          0,
          0.2,
          0.4,
          0.6
         ]
        },
        "yaxis32": {
         "anchor": "x32",
         "color": "white",
         "domain": [
          0,
          0.15625
         ],
         "range": [
          0,
          0.43153153153153145
         ],
         "ticktext": [
          "0%",
          "20%",
          "40%",
          "60%"
         ],
         "tickvals": [
          0,
          0.2,
          0.4,
          0.6
         ]
        },
        "yaxis4": {
         "anchor": "x4",
         "color": "white",
         "domain": [
          0.84375,
          1
         ],
         "range": [
          0,
          0.43153153153153145
         ],
         "ticktext": [
          "0%",
          "20%",
          "40%",
          "60%"
         ],
         "tickvals": [
          0,
          0.2,
          0.4,
          0.6
         ]
        },
        "yaxis5": {
         "anchor": "x5",
         "color": "white",
         "domain": [
          0.84375,
          1
         ],
         "range": [
          0,
          0.43153153153153145
         ],
         "ticktext": [
          "0%",
          "20%",
          "40%",
          "60%"
         ],
         "tickvals": [
          0,
          0.2,
          0.4,
          0.6
         ]
        },
        "yaxis6": {
         "anchor": "x6",
         "color": "white",
         "domain": [
          0.84375,
          1
         ],
         "range": [
          0,
          0.43153153153153145
         ],
         "ticktext": [
          "0%",
          "20%",
          "40%",
          "60%"
         ],
         "tickvals": [
          0,
          0.2,
          0.4,
          0.6
         ]
        },
        "yaxis7": {
         "anchor": "x7",
         "color": "white",
         "domain": [
          0.84375,
          1
         ],
         "range": [
          0,
          0.43153153153153145
         ],
         "ticktext": [
          "0%",
          "20%",
          "40%",
          "60%"
         ],
         "tickvals": [
          0,
          0.2,
          0.4,
          0.6
         ]
        },
        "yaxis8": {
         "anchor": "x8",
         "color": "white",
         "domain": [
          0.84375,
          1
         ],
         "range": [
          0,
          0.43153153153153145
         ],
         "ticktext": [
          "0%",
          "20%",
          "40%",
          "60%"
         ],
         "tickvals": [
          0,
          0.2,
          0.4,
          0.6
         ]
        },
        "yaxis9": {
         "anchor": "x9",
         "color": "white",
         "domain": [
          0.5625,
          0.71875
         ],
         "range": [
          0,
          0.43153153153153145
         ],
         "ticktext": [
          "0%",
          "20%",
          "40%",
          "60%"
         ],
         "tickvals": [
          0,
          0.2,
          0.4,
          0.6
         ]
        }
       }
      }
     },
     "metadata": {},
     "output_type": "display_data"
    }
   ],
   "source": [
    "team_colors = {\n",
    "    \"ARI\": \"#97233F\",\n",
    "    \"ATL\": \"#A71930\",\n",
    "    \"BAL\": \"#241773\",\n",
    "    \"BUF\": \"#00338D\",\n",
    "    \"CAR\": \"#0085CA\",\n",
    "    \"CHI\": \"#0B162A\",\n",
    "    \"CIN\": \"#FB4F14\",\n",
    "    \"CLE\": \"#FB4F14\",\n",
    "    \"DAL\": \"#041E42\",\n",
    "    \"DEN\": \"#FB4F14\",\n",
    "    \"DET\": \"#0076B6\",\n",
    "    \"GNB\": \"#24423C\",\n",
    "    \"HOU\": \"#C9243F\",\n",
    "    \"IND\": \"#003D79\",\n",
    "    \"JAX\": \"#136677\",\n",
    "    \"KAN\": \"#E31837\",\n",
    "    \"LVR\": \"#000000\",\n",
    "    \"LAC\": \"#0080C6\",\n",
    "    \"LAR\": \"#003594\",\n",
    "    \"MIA\": \"#008E97\",\n",
    "    \"MIN\": \"#4F2683\",\n",
    "    \"NWE\": \"#0A2342\",\n",
    "    \"NOR\": \"#A08A58\",\n",
    "    \"NYG\": \"#192E6C\",\n",
    "    \"NYJ\": \"#125740\",\n",
    "    \"PHI\": \"#014A53\",\n",
    "    \"PIT\": \"#FFB612\",\n",
    "    \"SFO\": \"#AA0000\",\n",
    "    \"SEA\": \"#7AC142\",\n",
    "    \"TAM\": \"#D50A0A\",\n",
    "    \"TEN\": \"#4B92DB\",\n",
    "    \"WAS\": \"#773141\",\n",
    "}\n",
    "\n",
    "merged = pd.read_csv(\n",
    "    \"C:\\\\Users\\\\AlexFrench\\OneDrive - Bluegrass Data Analytics\\\\Desktop\\\\BAS476\\\\receiving_tgt_share.csv\"\n",
    ")\n",
    "merged = merged[merged[\"Tm\"] != \"2TM\"]\n",
    "\n",
    "# Get unique teams and their counts\n",
    "unique_teams = merged[\"Tm\"].unique()\n",
    "num_teams = len(unique_teams)\n",
    "\n",
    "# Calculate the number of rows and columns based on the number of teams\n",
    "num_rows = (num_teams - 1) // 8 + 1\n",
    "num_cols = min(num_teams, 8)\n",
    "\n",
    "# Create subplots\n",
    "fig = sp.make_subplots(rows=num_rows, cols=num_cols, subplot_titles=unique_teams)\n",
    "\n",
    "# Create a list to store the maximum TgtShare value for each team\n",
    "max_tgtshare_values = []\n",
    "\n",
    "# Iterate through teams and add bar charts\n",
    "for i, team in enumerate(unique_teams):\n",
    "    row = (i // num_cols) + 1\n",
    "    col = (i % num_cols) + 1\n",
    "    team_data = merged[merged[\"Tm\"] == team]\n",
    "\n",
    "    # Sort the team data by TgtShare and select the top 5 players\n",
    "    team_data = team_data.sort_values(by=\"TgtShare\", ascending=False).head(5)\n",
    "    trace = go.Bar(\n",
    "        x=team_data[\"Player\"],\n",
    "        y=team_data[\"TgtShare\"],\n",
    "        name=team,\n",
    "        marker=dict(color=team_colors.get(team, \"gray\")),\n",
    "    )\n",
    "    fig.add_trace(trace, row=row, col=col)\n",
    "    fig.update_layout(font_color=\"white\", plot_bgcolor=\"#8a887e\")\n",
    "    fig.update_yaxes(\n",
    "        color=\"white\",\n",
    "        tickvals=[0, 0.20, 0.40, 0.60],\n",
    "        ticktext=[\"0%\", \"20%\", \"40%\", \"60%\"],\n",
    "        row=row,\n",
    "        col=col,\n",
    "    )\n",
    "    # fig.update_xaxes(ticktext=[\"\"])\n",
    "\n",
    "    # Append the maximum TgtShare value to the list\n",
    "    max_tgtshare_values.append(team_data[\"TgtShare\"].max())\n",
    "\n",
    "    fig.update_xaxes(\n",
    "        ticktext=[\"\"] * len(team_data), tickvals=team_data.index, row=row, col=col\n",
    "    )\n",
    "\n",
    "\n",
    "# Set a shared y-axis range based on the maximum TgtShare value across all teams\n",
    "y_axis_range = [0, max(max_tgtshare_values) + 0.1]\n",
    "fig.update_yaxes(range=y_axis_range)\n",
    "\n",
    "# Update layout and show the plot\n",
    "fig.update_layout(\n",
    "    title=\"Every NFL Teams Top 5 Receiving Targets by Target Share (2022)\",\n",
    "    showlegend=False,\n",
    "    margin=dict(l=50, r=50, b=50, t=265),\n",
    "    grid=dict(rows=num_rows, columns=num_cols, xgap=0.5, ygap=0.1),\n",
    "    title_font=dict(color=\"white\", size=40),\n",
    "    xaxis_title_font=dict(color=\"white\"),\n",
    "    yaxis_title_font=dict(color=\"white\"),\n",
    "    paper_bgcolor=\"#242320\",\n",
    "    height=1050,\n",
    "    width=1800,\n",
    "    title_x=0.5,  # Adjust the horizontal position (0.5 centers the title)\n",
    "    title_y=0.97,\n",
    ")\n",
    "\n",
    "fig.add_annotation(\n",
    "    text=\"\"\"\n",
    "    Each bar chart represents one of the 32 NFL teams top 5 players in terms of target share. Target share being the percentage of all passes that are thrown to them. For the sake of readability, player names have been <br>\n",
    "    left off the x-axis, but you can view the player name by hovering over the bars.<br><br>\n",
    "    As a Fantasy Football manager this could be incredibly valuable. Which teams share the ball more vs which teams rely heavily on their number one target. We can see a team like The Cincinnati Bengals (CIN) or Los Angeles Chargers (LAC) do <br>\n",
    "    a good job of making sure everyone gets targets since there is no major skewdness to their plot. As a fantasy manager, you may be able to get value out of WR2 and WR3 on these teams. Compared to teams like The Raiders (LVR) and The Panthers (CAR) where the number one target is dominating the target share.\"\"\",\n",
    "    x=0,\n",
    "    y=1.24,\n",
    "    showarrow=False,\n",
    "    font=dict(size=13, color=\"lightgray\"),\n",
    "    xref=\"paper\",\n",
    "    yref=\"paper\",\n",
    "    align=\"left\",\n",
    ")\n",
    "\n",
    "fig.update_xaxes(title_text=\"\")\n",
    "\n",
    "fig.show()"
   ]
  },
  {
   "cell_type": "code",
   "execution_count": 7,
   "metadata": {},
   "outputs": [
    {
     "data": {
      "application/vnd.plotly.v1+json": {
       "config": {
        "plotlyServerURL": "https://plot.ly"
       },
       "data": [
        {
         "fill": "toself",
         "hovertemplate": "score=%{r}<br>category=%{theta}<extra></extra>",
         "legendgroup": "",
         "line": {
          "color": "#97233F",
          "dash": "solid"
         },
         "marker": {
          "symbol": "circle"
         },
         "mode": "lines",
         "name": "",
         "r": [
          6.935243766282095,
          5.442796610169488,
          2.106871519841807,
          5.59411786589202,
          3.5593892601579986,
          6.935243766282095
         ],
         "showlegend": false,
         "subplot": "polar",
         "theta": [
          "kick",
          "def",
          "pass",
          "rec",
          "rush",
          "kick"
         ],
         "type": "scatterpolar"
        },
        {
         "fill": "toself",
         "hovertemplate": "score=%{r}<br>category=%{theta}<extra></extra>",
         "legendgroup": "",
         "line": {
          "color": "#A71930",
          "dash": "solid"
         },
         "marker": {
          "symbol": "circle"
         },
         "mode": "lines",
         "name": "",
         "r": [
          8.784145887606993,
          2.4968220338983045,
          2.9497115687349598,
          2.789147489771577,
          8.599474404971854,
          8.784145887606993
         ],
         "showlegend": false,
         "subplot": "polar2",
         "theta": [
          "kick",
          "def",
          "pass",
          "rec",
          "rush",
          "kick"
         ],
         "type": "scatterpolar"
        },
        {
         "fill": "toself",
         "hovertemplate": "score=%{r}<br>category=%{theta}<extra></extra>",
         "legendgroup": "",
         "line": {
          "color": "#241773",
          "dash": "solid"
         },
         "marker": {
          "symbol": "circle"
         },
         "mode": "lines",
         "name": "",
         "r": [
          10,
          2.897245762711861,
          3.336417099487045,
          3.226723434425706,
          8.544531052858117,
          10
         ],
         "showlegend": false,
         "subplot": "polar3",
         "theta": [
          "kick",
          "def",
          "pass",
          "rec",
          "rush",
          "kick"
         ],
         "type": "scatterpolar"
        },
        {
         "fill": "toself",
         "hovertemplate": "score=%{r}<br>category=%{theta}<extra></extra>",
         "legendgroup": "",
         "line": {
          "color": "#00338D",
          "dash": "solid"
         },
         "marker": {
          "symbol": "circle"
         },
         "mode": "lines",
         "name": "",
         "r": [
          8.010420543356904,
          4.289194915254235,
          6.805815286269994,
          5.225694097549029,
          6.056484197810274,
          8.010420543356904
         ],
         "showlegend": false,
         "subplot": "polar4",
         "theta": [
          "kick",
          "def",
          "pass",
          "rec",
          "rush",
          "kick"
         ],
         "type": "scatterpolar"
        },
        {
         "fill": "toself",
         "hovertemplate": "score=%{r}<br>category=%{theta}<extra></extra>",
         "legendgroup": "",
         "line": {
          "color": "#0085CA",
          "dash": "solid"
         },
         "marker": {
          "symbol": "circle"
         },
         "mode": "lines",
         "name": "",
         "r": [
          9.182731671008554,
          5.78601694915254,
          1,
          2.443663563990767,
          4.427999600185104,
          9.182731671008554
         ],
         "showlegend": false,
         "subplot": "polar5",
         "theta": [
          "kick",
          "def",
          "pass",
          "rec",
          "rush",
          "kick"
         ],
         "type": "scatterpolar"
        },
        {
         "fill": "toself",
         "hovertemplate": "score=%{r}<br>category=%{theta}<extra></extra>",
         "legendgroup": "",
         "line": {
          "color": "#0B162A",
          "dash": "solid"
         },
         "marker": {
          "symbol": "circle"
         },
         "mode": "lines",
         "name": "",
         "r": [
          5.927056196501674,
          1.4290254237288131,
          1.814481941361738,
          1,
          10,
          5.927056196501674
         ],
         "showlegend": false,
         "subplot": "polar6",
         "theta": [
          "kick",
          "def",
          "pass",
          "rec",
          "rush",
          "kick"
         ],
         "type": "scatterpolar"
        },
        {
         "fill": "toself",
         "hovertemplate": "score=%{r}<br>category=%{theta}<extra></extra>",
         "legendgroup": "",
         "line": {
          "color": "#FB4F14",
          "dash": "solid"
         },
         "marker": {
          "symbol": "circle"
         },
         "mode": "lines",
         "name": "",
         "r": [
          6.730926684034237,
          1.14300847457627,
          6.256444945909736,
          6.529440820906945,
          3.40963797556792,
          6.730926684034237
         ],
         "showlegend": false,
         "subplot": "polar7",
         "theta": [
          "kick",
          "def",
          "pass",
          "rec",
          "rush",
          "kick"
         ],
         "type": "scatterpolar"
        },
        {
         "fill": "toself",
         "hovertemplate": "score=%{r}<br>category=%{theta}<extra></extra>",
         "legendgroup": "",
         "line": {
          "color": "#FB4F14",
          "dash": "solid"
         },
         "marker": {
          "symbol": "circle"
         },
         "mode": "lines",
         "name": "",
         "r": [
          6.821362113881648,
          2.0105932203389827,
          4.334490636304618,
          3.809083290055278,
          7.645215070852839,
          6.821362113881648
         ],
         "showlegend": false,
         "subplot": "polar8",
         "theta": [
          "kick",
          "def",
          "pass",
          "rec",
          "rush",
          "kick"
         ],
         "type": "scatterpolar"
        },
        {
         "fill": "toself",
         "hovertemplate": "score=%{r}<br>category=%{theta}<extra></extra>",
         "legendgroup": "",
         "line": {
          "color": "#041E42",
          "dash": "solid"
         },
         "marker": {
          "symbol": "circle"
         },
         "mode": "lines",
         "name": "",
         "r": [
          8.358764421287677,
          7.997881355932201,
          4.688369365574301,
          4.773828381351228,
          6.964842657361185,
          8.358764421287677
         ],
         "showlegend": false,
         "subplot": "polar9",
         "theta": [
          "kick",
          "def",
          "pass",
          "rec",
          "rush",
          "kick"
         ],
         "type": "scatterpolar"
        },
        {
         "fill": "toself",
         "hovertemplate": "score=%{r}<br>category=%{theta}<extra></extra>",
         "legendgroup": "",
         "line": {
          "color": "#FB4F14",
          "dash": "solid"
         },
         "marker": {
          "symbol": "circle"
         },
         "mode": "lines",
         "name": "",
         "r": [
          7.57164123557871,
          4.279661016949149,
          2.009757718287461,
          4.296473448018016,
          1,
          7.57164123557871
         ],
         "showlegend": false,
         "subplot": "polar10",
         "theta": [
          "kick",
          "def",
          "pass",
          "rec",
          "rush",
          "kick"
         ],
         "type": "scatterpolar"
        },
        {
         "fill": "toself",
         "hovertemplate": "score=%{r}<br>category=%{theta}<extra></extra>",
         "legendgroup": "",
         "line": {
          "color": "#0076B6",
          "dash": "solid"
         },
         "marker": {
          "symbol": "circle"
         },
         "mode": "lines",
         "name": "",
         "r": [
          1,
          4.508474576271183,
          6.082449221696891,
          6.258231968866179,
          6.676028600490859,
          1
         ],
         "showlegend": false,
         "subplot": "polar11",
         "theta": [
          "kick",
          "def",
          "pass",
          "rec",
          "rush",
          "kick"
         ],
         "type": "scatterpolar"
        },
        {
         "fill": "toself",
         "hovertemplate": "score=%{r}<br>category=%{theta}<extra></extra>",
         "legendgroup": "",
         "line": {
          "color": "#24423C",
          "dash": "solid"
         },
         "marker": {
          "symbol": "circle"
         },
         "mode": "lines",
         "name": "",
         "r": [
          7.474506885001858,
          3.907838983050844,
          2.705470723802423,
          4.332382236183712,
          5.894539594383728,
          7.474506885001858
         ],
         "showlegend": false,
         "subplot": "polar12",
         "theta": [
          "kick",
          "def",
          "pass",
          "rec",
          "rush",
          "kick"
         ],
         "type": "scatterpolar"
        },
        {
         "fill": "toself",
         "hovertemplate": "score=%{r}<br>category=%{theta}<extra></extra>",
         "legendgroup": "",
         "line": {
          "color": "#C9243F",
          "dash": "solid"
         },
         "marker": {
          "symbol": "circle"
         },
         "mode": "lines",
         "name": "",
         "r": [
          9.055452177149238,
          7.645127118644069,
          1.3905188163085018,
          4.480817920677977,
          2.941048827400336,
          9.055452177149238
         ],
         "showlegend": false,
         "subplot": "polar13",
         "theta": [
          "kick",
          "def",
          "pass",
          "rec",
          "rush",
          "kick"
         ],
         "type": "scatterpolar"
        },
        {
         "fill": "toself",
         "hovertemplate": "score=%{r}<br>category=%{theta}<extra></extra>",
         "legendgroup": "",
         "line": {
          "color": "#003D79",
          "dash": "solid"
         },
         "marker": {
          "symbol": "circle"
         },
         "mode": "lines",
         "name": "",
         "r": [
          8.867882396724973,
          7.845338983050844,
          2.3862484742377945,
          4.786483510433634,
          2.9468460711015885,
          8.867882396724973
         ],
         "showlegend": false,
         "subplot": "polar14",
         "theta": [
          "kick",
          "def",
          "pass",
          "rec",
          "rush",
          "kick"
         ],
         "type": "scatterpolar"
        },
        {
         "fill": "toself",
         "hovertemplate": "score=%{r}<br>category=%{theta}<extra></extra>",
         "legendgroup": "",
         "line": {
          "color": "#136677",
          "dash": "solid"
         },
         "marker": {
          "symbol": "circle"
         },
         "mode": "lines",
         "name": "",
         "r": [
          8.670264235206549,
          5.938559322033896,
          4.864330320931579,
          6.841336547914516,
          4.454208051610971,
          8.670264235206549
         ],
         "showlegend": false,
         "subplot": "polar15",
         "theta": [
          "kick",
          "def",
          "pass",
          "rec",
          "rush",
          "kick"
         ],
         "type": "scatterpolar"
        },
        {
         "fill": "toself",
         "hovertemplate": "score=%{r}<br>category=%{theta}<extra></extra>",
         "legendgroup": "",
         "line": {
          "color": "#E31837",
          "dash": "solid"
         },
         "marker": {
          "symbol": "circle"
         },
         "mode": "lines",
         "name": "",
         "r": [
          3.145329363602528,
          6.787076271186443,
          10,
          9.999999999999998,
          5.114982797909233,
          3.145329363602528
         ],
         "showlegend": false,
         "subplot": "polar16",
         "theta": [
          "kick",
          "def",
          "pass",
          "rec",
          "rush",
          "kick"
         ],
         "type": "scatterpolar"
        },
        {
         "fill": "toself",
         "hovertemplate": "score=%{r}<br>category=%{theta}<extra></extra>",
         "legendgroup": "",
         "line": {
          "color": "#0080C6",
          "dash": "solid"
         },
         "marker": {
          "symbol": "circle"
         },
         "mode": "lines",
         "name": "",
         "r": [
          6.1916635653144745,
          2.8400423728813564,
          6.495229257777981,
          7.765667151195682,
          3.370971480892453,
          6.1916635653144745
         ],
         "showlegend": false,
         "subplot": "polar17",
         "theta": [
          "kick",
          "def",
          "pass",
          "rec",
          "rush",
          "kick"
         ],
         "type": "scatterpolar"
        },
        {
         "fill": "toself",
         "hovertemplate": "score=%{r}<br>category=%{theta}<extra></extra>",
         "legendgroup": "",
         "line": {
          "color": "#003594",
          "dash": "solid"
         },
         "marker": {
          "symbol": "circle"
         },
         "mode": "lines",
         "name": "",
         "r": [
          8.556382582806101,
          3.126059322033896,
          1.6848205086507204,
          4.845778997654625,
          3.876143516301969,
          8.556382582806101
         ],
         "showlegend": false,
         "subplot": "polar18",
         "theta": [
          "kick",
          "def",
          "pass",
          "rec",
          "rush",
          "kick"
         ],
         "type": "scatterpolar"
        },
        {
         "fill": "toself",
         "hovertemplate": "score=%{r}<br>category=%{theta}<extra></extra>",
         "legendgroup": "",
         "line": {
          "color": "#000000",
          "dash": "solid"
         },
         "marker": {
          "symbol": "circle"
         },
         "mode": "lines",
         "name": "",
         "r": [
          9.618161518422031,
          1,
          3.697279921721448,
          5.807557544647027,
          5.644575259413704,
          9.618161518422031
         ],
         "showlegend": false,
         "subplot": "polar19",
         "theta": [
          "kick",
          "def",
          "pass",
          "rec",
          "rush",
          "kick"
         ],
         "type": "scatterpolar"
        },
        {
         "fill": "toself",
         "hovertemplate": "score=%{r}<br>category=%{theta}<extra></extra>",
         "legendgroup": "",
         "line": {
          "color": "#008E97",
          "dash": "solid"
         },
         "marker": {
          "symbol": "circle"
         },
         "mode": "lines",
         "name": "",
         "r": [
          7.313732787495343,
          2.83050847457627,
          5.275087525739515,
          6.917022828988513,
          1.6930492978584608,
          7.313732787495343
         ],
         "showlegend": false,
         "subplot": "polar20",
         "theta": [
          "kick",
          "def",
          "pass",
          "rec",
          "rush",
          "kick"
         ],
         "type": "scatterpolar"
        },
        {
         "fill": "toself",
         "hovertemplate": "score=%{r}<br>category=%{theta}<extra></extra>",
         "legendgroup": "",
         "line": {
          "color": "#4F2683",
          "dash": "solid"
         },
         "marker": {
          "symbol": "circle"
         },
         "mode": "lines",
         "name": "",
         "r": [
          6.606996650539632,
          6.253177966101696,
          5.024972825295167,
          7.902014775223861,
          4.069154038783419,
          6.606996650539632
         ],
         "showlegend": false,
         "subplot": "polar21",
         "theta": [
          "kick",
          "def",
          "pass",
          "rec",
          "rush",
          "kick"
         ],
         "type": "scatterpolar"
        },
        {
         "fill": "toself",
         "hovertemplate": "score=%{r}<br>category=%{theta}<extra></extra>",
         "legendgroup": "",
         "line": {
          "color": "#A08A58",
          "dash": "solid"
         },
         "marker": {
          "symbol": "circle"
         },
         "mode": "lines",
         "name": "",
         "r": [
          7.11611462597692,
          4.899364406779661,
          3.893812756089748,
          6.503877304793608,
          4.9585874381023824,
          7.11611462597692
         ],
         "showlegend": false,
         "subplot": "polar22",
         "theta": [
          "kick",
          "def",
          "pass",
          "rec",
          "rush",
          "kick"
         ],
         "type": "scatterpolar"
        },
        {
         "fill": "toself",
         "hovertemplate": "score=%{r}<br>category=%{theta}<extra></extra>",
         "legendgroup": "",
         "line": {
          "color": "#0A2342",
          "dash": "solid"
         },
         "marker": {
          "symbol": "circle"
         },
         "mode": "lines",
         "name": "",
         "r": [
          8.492742835876442,
          10,
          1.7150854388157004,
          6.275458577837618,
          4.54816762788905,
          8.492742835876442
         ],
         "showlegend": false,
         "subplot": "polar23",
         "theta": [
          "kick",
          "def",
          "pass",
          "rec",
          "rush",
          "kick"
         ],
         "type": "scatterpolar"
        },
        {
         "fill": "toself",
         "hovertemplate": "score=%{r}<br>category=%{theta}<extra></extra>",
         "legendgroup": "",
         "line": {
          "color": "#192E6C",
          "dash": "solid"
         },
         "marker": {
          "symbol": "circle"
         },
         "mode": "lines",
         "name": "",
         "r": [
          8.338667659099364,
          3.669491525423727,
          4.118468029453132,
          3.0272065875010403,
          7.779776545950078,
          8.338667659099364
         ],
         "showlegend": false,
         "subplot": "polar24",
         "theta": [
          "kick",
          "def",
          "pass",
          "rec",
          "rush",
          "kick"
         ],
         "type": "scatterpolar"
        },
        {
         "fill": "toself",
         "hovertemplate": "score=%{r}<br>category=%{theta}<extra></extra>",
         "legendgroup": "",
         "line": {
          "color": "#125740",
          "dash": "solid"
         },
         "marker": {
          "symbol": "circle"
         },
         "mode": "lines",
         "name": "",
         "r": [
          8.472646073688125,
          4.3463983050847474,
          2.174827224969785,
          5.302042658924783,
          3.68394307857515,
          8.472646073688125
         ],
         "showlegend": false,
         "subplot": "polar25",
         "theta": [
          "kick",
          "def",
          "pass",
          "rec",
          "rush",
          "kick"
         ],
         "type": "scatterpolar"
        },
        {
         "fill": "toself",
         "hovertemplate": "score=%{r}<br>category=%{theta}<extra></extra>",
         "legendgroup": "",
         "line": {
          "color": "#014A53",
          "dash": "solid"
         },
         "marker": {
          "symbol": "circle"
         },
         "mode": "lines",
         "name": "",
         "r": [
          6.680684778563453,
          9.85699152542373,
          5.465149427355153,
          6.327771349353871,
          8.086813954177215,
          6.680684778563453
         ],
         "showlegend": false,
         "subplot": "polar26",
         "theta": [
          "kick",
          "def",
          "pass",
          "rec",
          "rush",
          "kick"
         ],
         "type": "scatterpolar"
        },
        {
         "fill": "toself",
         "hovertemplate": "score=%{r}<br>category=%{theta}<extra></extra>",
         "legendgroup": "",
         "line": {
          "color": "#FFB612",
          "dash": "solid"
         },
         "marker": {
          "symbol": "circle"
         },
         "mode": "lines",
         "name": "",
         "r": [
          8.104205433569035,
          4.336864406779661,
          4.121406982032256,
          5.300554941803783,
          5.613975623520009,
          8.104205433569035
         ],
         "showlegend": false,
         "subplot": "polar27",
         "theta": [
          "kick",
          "def",
          "pass",
          "rec",
          "rush",
          "kick"
         ],
         "type": "scatterpolar"
        },
        {
         "fill": "toself",
         "hovertemplate": "score=%{r}<br>category=%{theta}<extra></extra>",
         "legendgroup": "",
         "line": {
          "color": "#7AC142",
          "dash": "solid"
         },
         "marker": {
          "symbol": "circle"
         },
         "mode": "lines",
         "name": "",
         "r": [
          9.658355042798654,
          6.34851694915254,
          6.29658977567202,
          7.8683889935673506,
          5.463211945830203,
          9.658355042798654
         ],
         "showlegend": false,
         "subplot": "polar28",
         "theta": [
          "kick",
          "def",
          "pass",
          "rec",
          "rush",
          "kick"
         ],
         "type": "scatterpolar"
        },
        {
         "fill": "toself",
         "hovertemplate": "score=%{r}<br>category=%{theta}<extra></extra>",
         "legendgroup": "",
         "line": {
          "color": "#AA0000",
          "dash": "solid"
         },
         "marker": {
          "symbol": "circle"
         },
         "mode": "lines",
         "name": "",
         "r": [
          5.695943431336062,
          5.5286016949152526,
          5.717804151525797,
          3.1473246881333363,
          1.7415433967161222,
          5.695943431336062
         ],
         "showlegend": false,
         "subplot": "polar29",
         "theta": [
          "kick",
          "def",
          "pass",
          "rec",
          "rush",
          "kick"
         ],
         "type": "scatterpolar"
        },
        {
         "fill": "toself",
         "hovertemplate": "score=%{r}<br>category=%{theta}<extra></extra>",
         "legendgroup": "",
         "line": {
          "color": "#D50A0A",
          "dash": "solid"
         },
         "marker": {
          "symbol": "circle"
         },
         "mode": "lines",
         "name": "",
         "r": [
          8.63007071082992,
          4.546610169491522,
          5.564990412441641,
          6.64194244897749,
          2.220316223861205,
          8.63007071082992
         ],
         "showlegend": false,
         "subplot": "polar30",
         "theta": [
          "kick",
          "def",
          "pass",
          "rec",
          "rush",
          "kick"
         ],
         "type": "scatterpolar"
        },
        {
         "fill": "toself",
         "hovertemplate": "score=%{r}<br>category=%{theta}<extra></extra>",
         "legendgroup": "",
         "line": {
          "color": "#4B92DB",
          "dash": "solid"
         },
         "marker": {
          "symbol": "circle"
         },
         "mode": "lines",
         "name": "",
         "r": [
          5.6892445106066205,
          5.004237288135592,
          2.1066368492126206,
          3.708785777538029,
          5.974888534245164,
          5.6892445106066205
         ],
         "showlegend": false,
         "subplot": "polar31",
         "theta": [
          "kick",
          "def",
          "pass",
          "rec",
          "rush",
          "kick"
         ],
         "type": "scatterpolar"
        },
        {
         "fill": "toself",
         "hovertemplate": "score=%{r}<br>category=%{theta}<extra></extra>",
         "legendgroup": "",
         "line": {
          "color": "#773141",
          "dash": "solid"
         },
         "marker": {
          "symbol": "circle"
         },
         "mode": "lines",
         "name": "",
         "r": [
          6.426125790844804,
          3.8697033898305087,
          2.9322207628462937,
          4.039344828135938,
          5.972977223111833,
          6.426125790844804
         ],
         "showlegend": false,
         "subplot": "polar32",
         "theta": [
          "kick",
          "def",
          "pass",
          "rec",
          "rush",
          "kick"
         ],
         "type": "scatterpolar"
        }
       ],
       "layout": {
        "annotations": [
         {
          "font": {
           "size": 16
          },
          "showarrow": false,
          "text": "ARI",
          "x": 0.0515625,
          "xanchor": "center",
          "xref": "paper",
          "y": 1,
          "yanchor": "bottom",
          "yref": "paper"
         },
         {
          "font": {
           "size": 16
          },
          "showarrow": false,
          "text": "ATL",
          "x": 0.1796875,
          "xanchor": "center",
          "xref": "paper",
          "y": 1,
          "yanchor": "bottom",
          "yref": "paper"
         },
         {
          "font": {
           "size": 16
          },
          "showarrow": false,
          "text": "BAL",
          "x": 0.3078125,
          "xanchor": "center",
          "xref": "paper",
          "y": 1,
          "yanchor": "bottom",
          "yref": "paper"
         },
         {
          "font": {
           "size": 16
          },
          "showarrow": false,
          "text": "BUF",
          "x": 0.4359375,
          "xanchor": "center",
          "xref": "paper",
          "y": 1,
          "yanchor": "bottom",
          "yref": "paper"
         },
         {
          "font": {
           "size": 16
          },
          "showarrow": false,
          "text": "CAR",
          "x": 0.5640624999999999,
          "xanchor": "center",
          "xref": "paper",
          "y": 1,
          "yanchor": "bottom",
          "yref": "paper"
         },
         {
          "font": {
           "size": 16
          },
          "showarrow": false,
          "text": "CHI",
          "x": 0.6921875,
          "xanchor": "center",
          "xref": "paper",
          "y": 1,
          "yanchor": "bottom",
          "yref": "paper"
         },
         {
          "font": {
           "size": 16
          },
          "showarrow": false,
          "text": "CIN",
          "x": 0.8203125,
          "xanchor": "center",
          "xref": "paper",
          "y": 1,
          "yanchor": "bottom",
          "yref": "paper"
         },
         {
          "font": {
           "size": 16
          },
          "showarrow": false,
          "text": "CLE",
          "x": 0.9484375,
          "xanchor": "center",
          "xref": "paper",
          "y": 1,
          "yanchor": "bottom",
          "yref": "paper"
         },
         {
          "font": {
           "size": 16
          },
          "showarrow": false,
          "text": "DAL",
          "x": 0.0515625,
          "xanchor": "center",
          "xref": "paper",
          "y": 0.71875,
          "yanchor": "bottom",
          "yref": "paper"
         },
         {
          "font": {
           "size": 16
          },
          "showarrow": false,
          "text": "DEN",
          "x": 0.1796875,
          "xanchor": "center",
          "xref": "paper",
          "y": 0.71875,
          "yanchor": "bottom",
          "yref": "paper"
         },
         {
          "font": {
           "size": 16
          },
          "showarrow": false,
          "text": "DET",
          "x": 0.3078125,
          "xanchor": "center",
          "xref": "paper",
          "y": 0.71875,
          "yanchor": "bottom",
          "yref": "paper"
         },
         {
          "font": {
           "size": 16
          },
          "showarrow": false,
          "text": "GNB",
          "x": 0.4359375,
          "xanchor": "center",
          "xref": "paper",
          "y": 0.71875,
          "yanchor": "bottom",
          "yref": "paper"
         },
         {
          "font": {
           "size": 16
          },
          "showarrow": false,
          "text": "HOU",
          "x": 0.5640624999999999,
          "xanchor": "center",
          "xref": "paper",
          "y": 0.71875,
          "yanchor": "bottom",
          "yref": "paper"
         },
         {
          "font": {
           "size": 16
          },
          "showarrow": false,
          "text": "IND",
          "x": 0.6921875,
          "xanchor": "center",
          "xref": "paper",
          "y": 0.71875,
          "yanchor": "bottom",
          "yref": "paper"
         },
         {
          "font": {
           "size": 16
          },
          "showarrow": false,
          "text": "JAX",
          "x": 0.8203125,
          "xanchor": "center",
          "xref": "paper",
          "y": 0.71875,
          "yanchor": "bottom",
          "yref": "paper"
         },
         {
          "font": {
           "size": 16
          },
          "showarrow": false,
          "text": "KAN",
          "x": 0.9484375,
          "xanchor": "center",
          "xref": "paper",
          "y": 0.71875,
          "yanchor": "bottom",
          "yref": "paper"
         },
         {
          "font": {
           "size": 16
          },
          "showarrow": false,
          "text": "LAC",
          "x": 0.0515625,
          "xanchor": "center",
          "xref": "paper",
          "y": 0.4375,
          "yanchor": "bottom",
          "yref": "paper"
         },
         {
          "font": {
           "size": 16
          },
          "showarrow": false,
          "text": "LAR",
          "x": 0.1796875,
          "xanchor": "center",
          "xref": "paper",
          "y": 0.4375,
          "yanchor": "bottom",
          "yref": "paper"
         },
         {
          "font": {
           "size": 16
          },
          "showarrow": false,
          "text": "LVR",
          "x": 0.3078125,
          "xanchor": "center",
          "xref": "paper",
          "y": 0.4375,
          "yanchor": "bottom",
          "yref": "paper"
         },
         {
          "font": {
           "size": 16
          },
          "showarrow": false,
          "text": "MIA",
          "x": 0.4359375,
          "xanchor": "center",
          "xref": "paper",
          "y": 0.4375,
          "yanchor": "bottom",
          "yref": "paper"
         },
         {
          "font": {
           "size": 16
          },
          "showarrow": false,
          "text": "MIN",
          "x": 0.5640624999999999,
          "xanchor": "center",
          "xref": "paper",
          "y": 0.4375,
          "yanchor": "bottom",
          "yref": "paper"
         },
         {
          "font": {
           "size": 16
          },
          "showarrow": false,
          "text": "NOR",
          "x": 0.6921875,
          "xanchor": "center",
          "xref": "paper",
          "y": 0.4375,
          "yanchor": "bottom",
          "yref": "paper"
         },
         {
          "font": {
           "size": 16
          },
          "showarrow": false,
          "text": "NWE",
          "x": 0.8203125,
          "xanchor": "center",
          "xref": "paper",
          "y": 0.4375,
          "yanchor": "bottom",
          "yref": "paper"
         },
         {
          "font": {
           "size": 16
          },
          "showarrow": false,
          "text": "NYG",
          "x": 0.9484375,
          "xanchor": "center",
          "xref": "paper",
          "y": 0.4375,
          "yanchor": "bottom",
          "yref": "paper"
         },
         {
          "font": {
           "size": 16
          },
          "showarrow": false,
          "text": "NYJ",
          "x": 0.0515625,
          "xanchor": "center",
          "xref": "paper",
          "y": 0.15625,
          "yanchor": "bottom",
          "yref": "paper"
         },
         {
          "font": {
           "size": 16
          },
          "showarrow": false,
          "text": "PHI",
          "x": 0.1796875,
          "xanchor": "center",
          "xref": "paper",
          "y": 0.15625,
          "yanchor": "bottom",
          "yref": "paper"
         },
         {
          "font": {
           "size": 16
          },
          "showarrow": false,
          "text": "PIT",
          "x": 0.3078125,
          "xanchor": "center",
          "xref": "paper",
          "y": 0.15625,
          "yanchor": "bottom",
          "yref": "paper"
         },
         {
          "font": {
           "size": 16
          },
          "showarrow": false,
          "text": "SEA",
          "x": 0.4359375,
          "xanchor": "center",
          "xref": "paper",
          "y": 0.15625,
          "yanchor": "bottom",
          "yref": "paper"
         },
         {
          "font": {
           "size": 16
          },
          "showarrow": false,
          "text": "SFO",
          "x": 0.5640624999999999,
          "xanchor": "center",
          "xref": "paper",
          "y": 0.15625,
          "yanchor": "bottom",
          "yref": "paper"
         },
         {
          "font": {
           "size": 16
          },
          "showarrow": false,
          "text": "TAM",
          "x": 0.6921875,
          "xanchor": "center",
          "xref": "paper",
          "y": 0.15625,
          "yanchor": "bottom",
          "yref": "paper"
         },
         {
          "font": {
           "size": 16
          },
          "showarrow": false,
          "text": "TEN",
          "x": 0.8203125,
          "xanchor": "center",
          "xref": "paper",
          "y": 0.15625,
          "yanchor": "bottom",
          "yref": "paper"
         },
         {
          "font": {
           "size": 16
          },
          "showarrow": false,
          "text": "WAS",
          "x": 0.9484375,
          "xanchor": "center",
          "xref": "paper",
          "y": 0.15625,
          "yanchor": "bottom",
          "yref": "paper"
         },
         {
          "align": "left",
          "font": {
           "color": "lightgray",
           "size": 13
          },
          "showarrow": false,
          "text": "\n    Each radial chart represents one of the 32 NFL teams performance in five phases of the game: Rushing(Rush), Receiving(Rec), Passing(Pass), Kicking(Kick), and Defense(Def). <br>\n    The formulas used for these calcuations can be seen by hovering over the list to the right; all scores were standardized on a scale of 0-10<br>\n    The larger the area of the plot, the better and more well-rounded the team.<br><br>\n    The two teams that competed in the 2022 Superbowl, Chiefs(KAN) and Eagles (PHI), both have large plots with lots of area.<br>\n    Compared to teams like the Broncos (DEN) and the Raiders (LVR), neither of whom made the playoffs, who have relatively small charts with less area.",
          "x": 0.005,
          "xref": "paper",
          "y": 1.28,
          "yref": "paper"
         },
         {
          "align": "right",
          "bgcolor": "black",
          "font": {
           "color": "lightgrey",
           "family": "Arial",
           "size": 14
          },
          "hovertext": "Rushing Superscore = (YDs + (TDs*6) * (1 + (Yards per Attempt/250))) - (Fumbles/Attempts*15)",
          "showarrow": false,
          "text": "Rushing Formula",
          "x": 0.92,
          "xref": "paper",
          "y": 1.28,
          "yref": "paper"
         },
         {
          "align": "right",
          "bgcolor": "black",
          "font": {
           "color": "lightgrey",
           "family": "Arial",
           "size": 14
          },
          "hovertext": "Receiving Superscore = YDs + (TDs*6) * (Catch % /25)",
          "showarrow": false,
          "text": "Receiving Formula",
          "x": 0.92,
          "xref": "paper",
          "y": 1.242,
          "yref": "paper"
         },
         {
          "align": "right",
          "bgcolor": "black",
          "font": {
           "color": "lightgrey",
           "family": "Arial",
           "size": 14
          },
          "hovertext": "Passing Superscore = YDs + (TDs*6) * (Completion % /25)*(Quarterback Rating/100)",
          "showarrow": false,
          "text": "Passing Formula",
          "x": 0.92,
          "xref": "paper",
          "y": 1.204,
          "yref": "paper"
         },
         {
          "align": "right",
          "bgcolor": "black",
          "font": {
           "color": "lightgrey",
           "family": "Arial",
           "size": 14
          },
          "hovertext": "Kicking Superscore = ((FG% + XP%)*120) + (FGA + FGA.1 + FGA.2 + FGA.3 + FGA.4 + FGA.5)",
          "showarrow": false,
          "text": "Kicking Formula",
          "x": 0.92,
          "xref": "paper",
          "y": 1.166,
          "yref": "paper"
         },
         {
          "align": "right",
          "bgcolor": "black",
          "font": {
           "color": "lightgrey",
           "family": "Arial",
           "size": 14
          },
          "hovertext": "Defense Superscore = (Interceptions*4) + (TD*6) + (Fumbles Recovered*4) + (Sacks*3) + (Tackles*0.50) + (TacklesforLoss * 0.75)",
          "showarrow": false,
          "text": "Defense Formula",
          "x": 0.92,
          "xref": "paper",
          "y": 1.1280000000000001,
          "yref": "paper"
         }
        ],
        "font": {
         "color": "white"
        },
        "height": 1000,
        "margin": {
         "b": 50,
         "l": 50,
         "r": 50,
         "t": 300
        },
        "paper_bgcolor": "#242320",
        "polar": {
         "angularaxis": {
          "color": "lightgrey",
          "rotation": -165
         },
         "domain": {
          "x": [
           0,
           0.103125
          ],
          "y": [
           0.84375,
           1
          ]
         },
         "radialaxis": {
          "color": "lightgrey",
          "range": [
           0,
           10.5
          ],
          "showline": false,
          "showticklabels": false
         }
        },
        "polar10": {
         "angularaxis": {
          "color": "lightgrey",
          "rotation": -165
         },
         "domain": {
          "x": [
           0.128125,
           0.23124999999999998
          ],
          "y": [
           0.5625,
           0.71875
          ]
         },
         "radialaxis": {
          "color": "lightgrey",
          "range": [
           0,
           10.5
          ],
          "showline": false,
          "showticklabels": false
         }
        },
        "polar11": {
         "angularaxis": {
          "color": "lightgrey",
          "rotation": -165
         },
         "domain": {
          "x": [
           0.25625,
           0.359375
          ],
          "y": [
           0.5625,
           0.71875
          ]
         },
         "radialaxis": {
          "color": "lightgrey",
          "range": [
           0,
           10.5
          ],
          "showline": false,
          "showticklabels": false
         }
        },
        "polar12": {
         "angularaxis": {
          "color": "lightgrey",
          "rotation": -165
         },
         "domain": {
          "x": [
           0.38437499999999997,
           0.48749999999999993
          ],
          "y": [
           0.5625,
           0.71875
          ]
         },
         "radialaxis": {
          "color": "lightgrey",
          "range": [
           0,
           10.5
          ],
          "showline": false,
          "showticklabels": false
         }
        },
        "polar13": {
         "angularaxis": {
          "color": "lightgrey",
          "rotation": -165
         },
         "domain": {
          "x": [
           0.5125,
           0.615625
          ],
          "y": [
           0.5625,
           0.71875
          ]
         },
         "radialaxis": {
          "color": "lightgrey",
          "range": [
           0,
           10.5
          ],
          "showline": false,
          "showticklabels": false
         }
        },
        "polar14": {
         "angularaxis": {
          "color": "lightgrey",
          "rotation": -165
         },
         "domain": {
          "x": [
           0.640625,
           0.74375
          ],
          "y": [
           0.5625,
           0.71875
          ]
         },
         "radialaxis": {
          "color": "lightgrey",
          "range": [
           0,
           10.5
          ],
          "showline": false,
          "showticklabels": false
         }
        },
        "polar15": {
         "angularaxis": {
          "color": "lightgrey",
          "rotation": -165
         },
         "domain": {
          "x": [
           0.76875,
           0.8718750000000001
          ],
          "y": [
           0.5625,
           0.71875
          ]
         },
         "radialaxis": {
          "color": "lightgrey",
          "range": [
           0,
           10.5
          ],
          "showline": false,
          "showticklabels": false
         }
        },
        "polar16": {
         "angularaxis": {
          "color": "lightgrey",
          "rotation": -165
         },
         "domain": {
          "x": [
           0.8968750000000001,
           1
          ],
          "y": [
           0.5625,
           0.71875
          ]
         },
         "radialaxis": {
          "color": "lightgrey",
          "range": [
           0,
           10.5
          ],
          "showline": false,
          "showticklabels": false
         }
        },
        "polar17": {
         "angularaxis": {
          "color": "lightgrey",
          "rotation": -165
         },
         "domain": {
          "x": [
           0,
           0.103125
          ],
          "y": [
           0.28125,
           0.4375
          ]
         },
         "radialaxis": {
          "color": "lightgrey",
          "range": [
           0,
           10.5
          ],
          "showline": false,
          "showticklabels": false
         }
        },
        "polar18": {
         "angularaxis": {
          "color": "lightgrey",
          "rotation": -165
         },
         "domain": {
          "x": [
           0.128125,
           0.23124999999999998
          ],
          "y": [
           0.28125,
           0.4375
          ]
         },
         "radialaxis": {
          "color": "lightgrey",
          "range": [
           0,
           10.5
          ],
          "showline": false,
          "showticklabels": false
         }
        },
        "polar19": {
         "angularaxis": {
          "color": "lightgrey",
          "rotation": -165
         },
         "domain": {
          "x": [
           0.25625,
           0.359375
          ],
          "y": [
           0.28125,
           0.4375
          ]
         },
         "radialaxis": {
          "color": "lightgrey",
          "range": [
           0,
           10.5
          ],
          "showline": false,
          "showticklabels": false
         }
        },
        "polar2": {
         "angularaxis": {
          "color": "lightgrey",
          "rotation": -165
         },
         "domain": {
          "x": [
           0.128125,
           0.23124999999999998
          ],
          "y": [
           0.84375,
           1
          ]
         },
         "radialaxis": {
          "color": "lightgrey",
          "range": [
           0,
           10.5
          ],
          "showline": false,
          "showticklabels": false
         }
        },
        "polar20": {
         "angularaxis": {
          "color": "lightgrey",
          "rotation": -165
         },
         "domain": {
          "x": [
           0.38437499999999997,
           0.48749999999999993
          ],
          "y": [
           0.28125,
           0.4375
          ]
         },
         "radialaxis": {
          "color": "lightgrey",
          "range": [
           0,
           10.5
          ],
          "showline": false,
          "showticklabels": false
         }
        },
        "polar21": {
         "angularaxis": {
          "color": "lightgrey",
          "rotation": -165
         },
         "domain": {
          "x": [
           0.5125,
           0.615625
          ],
          "y": [
           0.28125,
           0.4375
          ]
         },
         "radialaxis": {
          "color": "lightgrey",
          "range": [
           0,
           10.5
          ],
          "showline": false,
          "showticklabels": false
         }
        },
        "polar22": {
         "angularaxis": {
          "color": "lightgrey",
          "rotation": -165
         },
         "domain": {
          "x": [
           0.640625,
           0.74375
          ],
          "y": [
           0.28125,
           0.4375
          ]
         },
         "radialaxis": {
          "color": "lightgrey",
          "range": [
           0,
           10.5
          ],
          "showline": false,
          "showticklabels": false
         }
        },
        "polar23": {
         "angularaxis": {
          "color": "lightgrey",
          "rotation": -165
         },
         "domain": {
          "x": [
           0.76875,
           0.8718750000000001
          ],
          "y": [
           0.28125,
           0.4375
          ]
         },
         "radialaxis": {
          "color": "lightgrey",
          "range": [
           0,
           10.5
          ],
          "showline": false,
          "showticklabels": false
         }
        },
        "polar24": {
         "angularaxis": {
          "color": "lightgrey",
          "rotation": -165
         },
         "domain": {
          "x": [
           0.8968750000000001,
           1
          ],
          "y": [
           0.28125,
           0.4375
          ]
         },
         "radialaxis": {
          "color": "lightgrey",
          "range": [
           0,
           10.5
          ],
          "showline": false,
          "showticklabels": false
         }
        },
        "polar25": {
         "angularaxis": {
          "color": "lightgrey",
          "rotation": -165
         },
         "domain": {
          "x": [
           0,
           0.103125
          ],
          "y": [
           0,
           0.15625
          ]
         },
         "radialaxis": {
          "color": "lightgrey",
          "range": [
           0,
           10.5
          ],
          "showline": false,
          "showticklabels": false
         }
        },
        "polar26": {
         "angularaxis": {
          "color": "lightgrey",
          "rotation": -165
         },
         "domain": {
          "x": [
           0.128125,
           0.23124999999999998
          ],
          "y": [
           0,
           0.15625
          ]
         },
         "radialaxis": {
          "color": "lightgrey",
          "range": [
           0,
           10.5
          ],
          "showline": false,
          "showticklabels": false
         }
        },
        "polar27": {
         "angularaxis": {
          "color": "lightgrey",
          "rotation": -165
         },
         "domain": {
          "x": [
           0.25625,
           0.359375
          ],
          "y": [
           0,
           0.15625
          ]
         },
         "radialaxis": {
          "color": "lightgrey",
          "range": [
           0,
           10.5
          ],
          "showline": false,
          "showticklabels": false
         }
        },
        "polar28": {
         "angularaxis": {
          "color": "lightgrey",
          "rotation": -165
         },
         "domain": {
          "x": [
           0.38437499999999997,
           0.48749999999999993
          ],
          "y": [
           0,
           0.15625
          ]
         },
         "radialaxis": {
          "color": "lightgrey",
          "range": [
           0,
           10.5
          ],
          "showline": false,
          "showticklabels": false
         }
        },
        "polar29": {
         "angularaxis": {
          "color": "lightgrey",
          "rotation": -165
         },
         "domain": {
          "x": [
           0.5125,
           0.615625
          ],
          "y": [
           0,
           0.15625
          ]
         },
         "radialaxis": {
          "color": "lightgrey",
          "range": [
           0,
           10.5
          ],
          "showline": false,
          "showticklabels": false
         }
        },
        "polar3": {
         "angularaxis": {
          "color": "lightgrey",
          "rotation": -165
         },
         "domain": {
          "x": [
           0.25625,
           0.359375
          ],
          "y": [
           0.84375,
           1
          ]
         },
         "radialaxis": {
          "color": "lightgrey",
          "range": [
           0,
           10.5
          ],
          "showline": false,
          "showticklabels": false
         }
        },
        "polar30": {
         "angularaxis": {
          "color": "lightgrey",
          "rotation": -165
         },
         "domain": {
          "x": [
           0.640625,
           0.74375
          ],
          "y": [
           0,
           0.15625
          ]
         },
         "radialaxis": {
          "color": "lightgrey",
          "range": [
           0,
           10.5
          ],
          "showline": false,
          "showticklabels": false
         }
        },
        "polar31": {
         "angularaxis": {
          "color": "lightgrey",
          "rotation": -165
         },
         "domain": {
          "x": [
           0.76875,
           0.8718750000000001
          ],
          "y": [
           0,
           0.15625
          ]
         },
         "radialaxis": {
          "color": "lightgrey",
          "range": [
           0,
           10.5
          ],
          "showline": false,
          "showticklabels": false
         }
        },
        "polar32": {
         "angularaxis": {
          "color": "lightgrey",
          "rotation": -165
         },
         "domain": {
          "x": [
           0.8968750000000001,
           1
          ],
          "y": [
           0,
           0.15625
          ]
         },
         "radialaxis": {
          "color": "lightgrey",
          "range": [
           0,
           10.5
          ],
          "showline": false,
          "showticklabels": false
         }
        },
        "polar4": {
         "angularaxis": {
          "color": "lightgrey",
          "rotation": -165
         },
         "domain": {
          "x": [
           0.38437499999999997,
           0.48749999999999993
          ],
          "y": [
           0.84375,
           1
          ]
         },
         "radialaxis": {
          "color": "lightgrey",
          "range": [
           0,
           10.5
          ],
          "showline": false,
          "showticklabels": false
         }
        },
        "polar5": {
         "angularaxis": {
          "color": "lightgrey",
          "rotation": -165
         },
         "domain": {
          "x": [
           0.5125,
           0.615625
          ],
          "y": [
           0.84375,
           1
          ]
         },
         "radialaxis": {
          "color": "lightgrey",
          "range": [
           0,
           10.5
          ],
          "showline": false,
          "showticklabels": false
         }
        },
        "polar6": {
         "angularaxis": {
          "color": "lightgrey",
          "rotation": -165
         },
         "domain": {
          "x": [
           0.640625,
           0.74375
          ],
          "y": [
           0.84375,
           1
          ]
         },
         "radialaxis": {
          "color": "lightgrey",
          "range": [
           0,
           10.5
          ],
          "showline": false,
          "showticklabels": false
         }
        },
        "polar7": {
         "angularaxis": {
          "color": "lightgrey",
          "rotation": -165
         },
         "domain": {
          "x": [
           0.76875,
           0.8718750000000001
          ],
          "y": [
           0.84375,
           1
          ]
         },
         "radialaxis": {
          "color": "lightgrey",
          "range": [
           0,
           10.5
          ],
          "showline": false,
          "showticklabels": false
         }
        },
        "polar8": {
         "angularaxis": {
          "color": "lightgrey",
          "rotation": -165
         },
         "domain": {
          "x": [
           0.8968750000000001,
           1
          ],
          "y": [
           0.84375,
           1
          ]
         },
         "radialaxis": {
          "color": "lightgrey",
          "range": [
           0,
           10.5
          ],
          "showline": false,
          "showticklabels": false
         }
        },
        "polar9": {
         "angularaxis": {
          "color": "lightgrey",
          "rotation": -165
         },
         "domain": {
          "x": [
           0,
           0.103125
          ],
          "y": [
           0.5625,
           0.71875
          ]
         },
         "radialaxis": {
          "color": "lightgrey",
          "range": [
           0,
           10.5
          ],
          "showline": false,
          "showticklabels": false
         }
        },
        "showlegend": false,
        "template": {
         "data": {
          "bar": [
           {
            "error_x": {
             "color": "#2a3f5f"
            },
            "error_y": {
             "color": "#2a3f5f"
            },
            "marker": {
             "line": {
              "color": "#E5ECF6",
              "width": 0.5
             },
             "pattern": {
              "fillmode": "overlay",
              "size": 10,
              "solidity": 0.2
             }
            },
            "type": "bar"
           }
          ],
          "barpolar": [
           {
            "marker": {
             "line": {
              "color": "#E5ECF6",
              "width": 0.5
             },
             "pattern": {
              "fillmode": "overlay",
              "size": 10,
              "solidity": 0.2
             }
            },
            "type": "barpolar"
           }
          ],
          "carpet": [
           {
            "aaxis": {
             "endlinecolor": "#2a3f5f",
             "gridcolor": "white",
             "linecolor": "white",
             "minorgridcolor": "white",
             "startlinecolor": "#2a3f5f"
            },
            "baxis": {
             "endlinecolor": "#2a3f5f",
             "gridcolor": "white",
             "linecolor": "white",
             "minorgridcolor": "white",
             "startlinecolor": "#2a3f5f"
            },
            "type": "carpet"
           }
          ],
          "choropleth": [
           {
            "colorbar": {
             "outlinewidth": 0,
             "ticks": ""
            },
            "type": "choropleth"
           }
          ],
          "contour": [
           {
            "colorbar": {
             "outlinewidth": 0,
             "ticks": ""
            },
            "colorscale": [
             [
              0,
              "#0d0887"
             ],
             [
              0.1111111111111111,
              "#46039f"
             ],
             [
              0.2222222222222222,
              "#7201a8"
             ],
             [
              0.3333333333333333,
              "#9c179e"
             ],
             [
              0.4444444444444444,
              "#bd3786"
             ],
             [
              0.5555555555555556,
              "#d8576b"
             ],
             [
              0.6666666666666666,
              "#ed7953"
             ],
             [
              0.7777777777777778,
              "#fb9f3a"
             ],
             [
              0.8888888888888888,
              "#fdca26"
             ],
             [
              1,
              "#f0f921"
             ]
            ],
            "type": "contour"
           }
          ],
          "contourcarpet": [
           {
            "colorbar": {
             "outlinewidth": 0,
             "ticks": ""
            },
            "type": "contourcarpet"
           }
          ],
          "heatmap": [
           {
            "colorbar": {
             "outlinewidth": 0,
             "ticks": ""
            },
            "colorscale": [
             [
              0,
              "#0d0887"
             ],
             [
              0.1111111111111111,
              "#46039f"
             ],
             [
              0.2222222222222222,
              "#7201a8"
             ],
             [
              0.3333333333333333,
              "#9c179e"
             ],
             [
              0.4444444444444444,
              "#bd3786"
             ],
             [
              0.5555555555555556,
              "#d8576b"
             ],
             [
              0.6666666666666666,
              "#ed7953"
             ],
             [
              0.7777777777777778,
              "#fb9f3a"
             ],
             [
              0.8888888888888888,
              "#fdca26"
             ],
             [
              1,
              "#f0f921"
             ]
            ],
            "type": "heatmap"
           }
          ],
          "heatmapgl": [
           {
            "colorbar": {
             "outlinewidth": 0,
             "ticks": ""
            },
            "colorscale": [
             [
              0,
              "#0d0887"
             ],
             [
              0.1111111111111111,
              "#46039f"
             ],
             [
              0.2222222222222222,
              "#7201a8"
             ],
             [
              0.3333333333333333,
              "#9c179e"
             ],
             [
              0.4444444444444444,
              "#bd3786"
             ],
             [
              0.5555555555555556,
              "#d8576b"
             ],
             [
              0.6666666666666666,
              "#ed7953"
             ],
             [
              0.7777777777777778,
              "#fb9f3a"
             ],
             [
              0.8888888888888888,
              "#fdca26"
             ],
             [
              1,
              "#f0f921"
             ]
            ],
            "type": "heatmapgl"
           }
          ],
          "histogram": [
           {
            "marker": {
             "pattern": {
              "fillmode": "overlay",
              "size": 10,
              "solidity": 0.2
             }
            },
            "type": "histogram"
           }
          ],
          "histogram2d": [
           {
            "colorbar": {
             "outlinewidth": 0,
             "ticks": ""
            },
            "colorscale": [
             [
              0,
              "#0d0887"
             ],
             [
              0.1111111111111111,
              "#46039f"
             ],
             [
              0.2222222222222222,
              "#7201a8"
             ],
             [
              0.3333333333333333,
              "#9c179e"
             ],
             [
              0.4444444444444444,
              "#bd3786"
             ],
             [
              0.5555555555555556,
              "#d8576b"
             ],
             [
              0.6666666666666666,
              "#ed7953"
             ],
             [
              0.7777777777777778,
              "#fb9f3a"
             ],
             [
              0.8888888888888888,
              "#fdca26"
             ],
             [
              1,
              "#f0f921"
             ]
            ],
            "type": "histogram2d"
           }
          ],
          "histogram2dcontour": [
           {
            "colorbar": {
             "outlinewidth": 0,
             "ticks": ""
            },
            "colorscale": [
             [
              0,
              "#0d0887"
             ],
             [
              0.1111111111111111,
              "#46039f"
             ],
             [
              0.2222222222222222,
              "#7201a8"
             ],
             [
              0.3333333333333333,
              "#9c179e"
             ],
             [
              0.4444444444444444,
              "#bd3786"
             ],
             [
              0.5555555555555556,
              "#d8576b"
             ],
             [
              0.6666666666666666,
              "#ed7953"
             ],
             [
              0.7777777777777778,
              "#fb9f3a"
             ],
             [
              0.8888888888888888,
              "#fdca26"
             ],
             [
              1,
              "#f0f921"
             ]
            ],
            "type": "histogram2dcontour"
           }
          ],
          "mesh3d": [
           {
            "colorbar": {
             "outlinewidth": 0,
             "ticks": ""
            },
            "type": "mesh3d"
           }
          ],
          "parcoords": [
           {
            "line": {
             "colorbar": {
              "outlinewidth": 0,
              "ticks": ""
             }
            },
            "type": "parcoords"
           }
          ],
          "pie": [
           {
            "automargin": true,
            "type": "pie"
           }
          ],
          "scatter": [
           {
            "fillpattern": {
             "fillmode": "overlay",
             "size": 10,
             "solidity": 0.2
            },
            "type": "scatter"
           }
          ],
          "scatter3d": [
           {
            "line": {
             "colorbar": {
              "outlinewidth": 0,
              "ticks": ""
             }
            },
            "marker": {
             "colorbar": {
              "outlinewidth": 0,
              "ticks": ""
             }
            },
            "type": "scatter3d"
           }
          ],
          "scattercarpet": [
           {
            "marker": {
             "colorbar": {
              "outlinewidth": 0,
              "ticks": ""
             }
            },
            "type": "scattercarpet"
           }
          ],
          "scattergeo": [
           {
            "marker": {
             "colorbar": {
              "outlinewidth": 0,
              "ticks": ""
             }
            },
            "type": "scattergeo"
           }
          ],
          "scattergl": [
           {
            "marker": {
             "colorbar": {
              "outlinewidth": 0,
              "ticks": ""
             }
            },
            "type": "scattergl"
           }
          ],
          "scattermapbox": [
           {
            "marker": {
             "colorbar": {
              "outlinewidth": 0,
              "ticks": ""
             }
            },
            "type": "scattermapbox"
           }
          ],
          "scatterpolar": [
           {
            "marker": {
             "colorbar": {
              "outlinewidth": 0,
              "ticks": ""
             }
            },
            "type": "scatterpolar"
           }
          ],
          "scatterpolargl": [
           {
            "marker": {
             "colorbar": {
              "outlinewidth": 0,
              "ticks": ""
             }
            },
            "type": "scatterpolargl"
           }
          ],
          "scatterternary": [
           {
            "marker": {
             "colorbar": {
              "outlinewidth": 0,
              "ticks": ""
             }
            },
            "type": "scatterternary"
           }
          ],
          "surface": [
           {
            "colorbar": {
             "outlinewidth": 0,
             "ticks": ""
            },
            "colorscale": [
             [
              0,
              "#0d0887"
             ],
             [
              0.1111111111111111,
              "#46039f"
             ],
             [
              0.2222222222222222,
              "#7201a8"
             ],
             [
              0.3333333333333333,
              "#9c179e"
             ],
             [
              0.4444444444444444,
              "#bd3786"
             ],
             [
              0.5555555555555556,
              "#d8576b"
             ],
             [
              0.6666666666666666,
              "#ed7953"
             ],
             [
              0.7777777777777778,
              "#fb9f3a"
             ],
             [
              0.8888888888888888,
              "#fdca26"
             ],
             [
              1,
              "#f0f921"
             ]
            ],
            "type": "surface"
           }
          ],
          "table": [
           {
            "cells": {
             "fill": {
              "color": "#EBF0F8"
             },
             "line": {
              "color": "white"
             }
            },
            "header": {
             "fill": {
              "color": "#C8D4E3"
             },
             "line": {
              "color": "white"
             }
            },
            "type": "table"
           }
          ]
         },
         "layout": {
          "annotationdefaults": {
           "arrowcolor": "#2a3f5f",
           "arrowhead": 0,
           "arrowwidth": 1
          },
          "autotypenumbers": "strict",
          "coloraxis": {
           "colorbar": {
            "outlinewidth": 0,
            "ticks": ""
           }
          },
          "colorscale": {
           "diverging": [
            [
             0,
             "#8e0152"
            ],
            [
             0.1,
             "#c51b7d"
            ],
            [
             0.2,
             "#de77ae"
            ],
            [
             0.3,
             "#f1b6da"
            ],
            [
             0.4,
             "#fde0ef"
            ],
            [
             0.5,
             "#f7f7f7"
            ],
            [
             0.6,
             "#e6f5d0"
            ],
            [
             0.7,
             "#b8e186"
            ],
            [
             0.8,
             "#7fbc41"
            ],
            [
             0.9,
             "#4d9221"
            ],
            [
             1,
             "#276419"
            ]
           ],
           "sequential": [
            [
             0,
             "#0d0887"
            ],
            [
             0.1111111111111111,
             "#46039f"
            ],
            [
             0.2222222222222222,
             "#7201a8"
            ],
            [
             0.3333333333333333,
             "#9c179e"
            ],
            [
             0.4444444444444444,
             "#bd3786"
            ],
            [
             0.5555555555555556,
             "#d8576b"
            ],
            [
             0.6666666666666666,
             "#ed7953"
            ],
            [
             0.7777777777777778,
             "#fb9f3a"
            ],
            [
             0.8888888888888888,
             "#fdca26"
            ],
            [
             1,
             "#f0f921"
            ]
           ],
           "sequentialminus": [
            [
             0,
             "#0d0887"
            ],
            [
             0.1111111111111111,
             "#46039f"
            ],
            [
             0.2222222222222222,
             "#7201a8"
            ],
            [
             0.3333333333333333,
             "#9c179e"
            ],
            [
             0.4444444444444444,
             "#bd3786"
            ],
            [
             0.5555555555555556,
             "#d8576b"
            ],
            [
             0.6666666666666666,
             "#ed7953"
            ],
            [
             0.7777777777777778,
             "#fb9f3a"
            ],
            [
             0.8888888888888888,
             "#fdca26"
            ],
            [
             1,
             "#f0f921"
            ]
           ]
          },
          "colorway": [
           "#636efa",
           "#EF553B",
           "#00cc96",
           "#ab63fa",
           "#FFA15A",
           "#19d3f3",
           "#FF6692",
           "#B6E880",
           "#FF97FF",
           "#FECB52"
          ],
          "font": {
           "color": "#2a3f5f"
          },
          "geo": {
           "bgcolor": "white",
           "lakecolor": "white",
           "landcolor": "#E5ECF6",
           "showlakes": true,
           "showland": true,
           "subunitcolor": "white"
          },
          "hoverlabel": {
           "align": "left"
          },
          "hovermode": "closest",
          "mapbox": {
           "style": "light"
          },
          "paper_bgcolor": "white",
          "plot_bgcolor": "#E5ECF6",
          "polar": {
           "angularaxis": {
            "gridcolor": "white",
            "linecolor": "white",
            "ticks": ""
           },
           "bgcolor": "#E5ECF6",
           "radialaxis": {
            "gridcolor": "white",
            "linecolor": "white",
            "ticks": ""
           }
          },
          "scene": {
           "xaxis": {
            "backgroundcolor": "#E5ECF6",
            "gridcolor": "white",
            "gridwidth": 2,
            "linecolor": "white",
            "showbackground": true,
            "ticks": "",
            "zerolinecolor": "white"
           },
           "yaxis": {
            "backgroundcolor": "#E5ECF6",
            "gridcolor": "white",
            "gridwidth": 2,
            "linecolor": "white",
            "showbackground": true,
            "ticks": "",
            "zerolinecolor": "white"
           },
           "zaxis": {
            "backgroundcolor": "#E5ECF6",
            "gridcolor": "white",
            "gridwidth": 2,
            "linecolor": "white",
            "showbackground": true,
            "ticks": "",
            "zerolinecolor": "white"
           }
          },
          "shapedefaults": {
           "line": {
            "color": "#2a3f5f"
           }
          },
          "ternary": {
           "aaxis": {
            "gridcolor": "white",
            "linecolor": "white",
            "ticks": ""
           },
           "baxis": {
            "gridcolor": "white",
            "linecolor": "white",
            "ticks": ""
           },
           "bgcolor": "#E5ECF6",
           "caxis": {
            "gridcolor": "white",
            "linecolor": "white",
            "ticks": ""
           }
          },
          "title": {
           "x": 0.05
          },
          "xaxis": {
           "automargin": true,
           "gridcolor": "white",
           "linecolor": "white",
           "ticks": "",
           "title": {
            "standoff": 15
           },
           "zerolinecolor": "white",
           "zerolinewidth": 2
          },
          "yaxis": {
           "automargin": true,
           "gridcolor": "white",
           "linecolor": "white",
           "ticks": "",
           "title": {
            "standoff": 15
           },
           "zerolinecolor": "white",
           "zerolinewidth": 2
          }
         }
        },
        "title": {
         "font": {
          "color": "white",
          "size": 40
         },
         "text": "Radial Charts for NFL Teams (2022)",
         "x": 0.05,
         "y": 0.92
        },
        "width": 1600,
        "yaxis": {
         "title": {
          "font": {
           "color": "white"
          }
         }
        }
       }
      }
     },
     "metadata": {},
     "output_type": "display_data"
    }
   ],
   "source": [
    "ssm = pd.read_csv(\n",
    "    \"C:\\\\Users\\\\AlexFrench\\OneDrive - Bluegrass Data Analytics\\\\Desktop\\\\BAS476\\\\superscores_standard_melt.csv\"\n",
    ")\n",
    "unique_teams = ssm[\"Tm\"].unique()\n",
    "num_teams = len(unique_teams)\n",
    "\n",
    "# Define the number of rows and columns for the grid\n",
    "num_rows = 4\n",
    "num_cols = 8\n",
    "\n",
    "team_colors = {\n",
    "    \"ARI\": \"#97233F\",\n",
    "    \"ATL\": \"#A71930\",\n",
    "    \"BAL\": \"#241773\",\n",
    "    \"BUF\": \"#00338D\",\n",
    "    \"CAR\": \"#0085CA\",\n",
    "    \"CHI\": \"#0B162A\",\n",
    "    \"CIN\": \"#FB4F14\",\n",
    "    \"CLE\": \"#FB4F14\",\n",
    "    \"DAL\": \"#041E42\",\n",
    "    \"DEN\": \"#FB4F14\",\n",
    "    \"DET\": \"#0076B6\",\n",
    "    \"GNB\": \"#24423C\",\n",
    "    \"HOU\": \"#C9243F\",\n",
    "    \"IND\": \"#003D79\",\n",
    "    \"JAX\": \"#136677\",\n",
    "    \"KAN\": \"#E31837\",\n",
    "    \"LVR\": \"#000000\",\n",
    "    \"LAC\": \"#0080C6\",\n",
    "    \"LAR\": \"#003594\",\n",
    "    \"MIA\": \"#008E97\",\n",
    "    \"MIN\": \"#4F2683\",\n",
    "    \"NWE\": \"#0A2342\",\n",
    "    \"NOR\": \"#A08A58\",\n",
    "    \"NYG\": \"#192E6C\",\n",
    "    \"NYJ\": \"#125740\",\n",
    "    \"PHI\": \"#014A53\",\n",
    "    \"PIT\": \"#FFB612\",\n",
    "    \"SFO\": \"#AA0000\",\n",
    "    \"SEA\": \"#7AC142\",\n",
    "    \"TAM\": \"#D50A0A\",\n",
    "    \"TEN\": \"#4B92DB\",\n",
    "    \"WAS\": \"#773141\",\n",
    "}\n",
    "\n",
    "# Create a subplot figure\n",
    "fig = sp.make_subplots(\n",
    "    rows=num_rows,\n",
    "    cols=num_cols,\n",
    "    specs=[[{\"type\": \"polar\"}] * num_cols] * num_rows,\n",
    "    subplot_titles=unique_teams,\n",
    ")\n",
    "\n",
    "\n",
    "# Iterate through teams and add radar charts\n",
    "for i, team in enumerate(unique_teams):\n",
    "    row = (i // num_cols) + 1\n",
    "    col = (i % num_cols) + 1\n",
    "    team_data = ssm[ssm[\"Tm\"] == team]\n",
    "\n",
    "    # Create a radar chart for the current team\n",
    "    radar_fig = px.line_polar(\n",
    "        team_data, r=\"score\", theta=\"category\", line_close=True, title=\"Tm\"\n",
    "    )\n",
    "    radar_fig.update_traces(\n",
    "        line=dict(color=team_colors.get(team, \"gray\")), fill=\"toself\"\n",
    "    )\n",
    "\n",
    "    # Add the radar chart to the grid\n",
    "    for trace in radar_fig.data:\n",
    "        fig.add_trace(trace, row=row, col=col)\n",
    "\n",
    "    # Customize the subplot layout\n",
    "    fig.update_xaxes(title_text=\"\", row=row, col=col)\n",
    "    fig.update_yaxes(title_text=\"\", row=row, col=col)\n",
    "\n",
    "\n",
    "# Update the shared layout for the entire grid\n",
    "fig.update_layout(\n",
    "    title_text=\"Radial Charts for NFL Teams (2022)\",\n",
    "    title_x=0.050,\n",
    "    title_y=0.92,\n",
    "    title_font=dict(color=\"white\", size=40),\n",
    "    height=1000,\n",
    "    width=1600,\n",
    "    yaxis_title_font=dict(color=\"white\"),\n",
    "    paper_bgcolor=\"#242320\",\n",
    "    margin=dict(l=50, r=50, b=50, t=300),\n",
    "    showlegend=False,\n",
    ")\n",
    "\n",
    "hover_text = {\n",
    "    \"Rushing\": \"Rushing Superscore = (YDs + (TDs*6) * (1 + (Yards per Attempt/250))) - (Fumbles/Attempts*15)\",\n",
    "    \"Receiving\": \"Receiving Superscore = YDs + (TDs*6) * (Catch % /25)\",\n",
    "    \"Passing\": \"Passing Superscore = YDs + (TDs*6) * (Completion % /25)*(Quarterback Rating/100)\",\n",
    "    \"Kicking\": \"Kicking Superscore = ((FG% + XP%)*120) + (FGA + FGA.1 + FGA.2 + FGA.3 + FGA.4 + FGA.5)\",\n",
    "    \"Defense\": \"Defense Superscore = (Interceptions*4) + (TD*6) + (Fumbles Recovered*4) + (Sacks*3) + (Tackles*0.50) + (TacklesforLoss * 0.75)\",\n",
    "}\n",
    "\n",
    "\n",
    "fig.add_annotation(\n",
    "    text=\"\"\"\n",
    "    Each radial chart represents one of the 32 NFL teams performance in five phases of the game: Rushing(Rush), Receiving(Rec), Passing(Pass), Kicking(Kick), and Defense(Def). <br>\n",
    "    The formulas used for these calcuations can be seen by hovering over the list to the right; all scores were standardized on a scale of 0-10<br>\n",
    "    The larger the area of the plot, the better and more well-rounded the team.<br><br>\n",
    "    The two teams that competed in the 2022 Superbowl, Chiefs(KAN) and Eagles (PHI), both have large plots with lots of area.<br>\n",
    "    Compared to teams like the Broncos (DEN) and the Raiders (LVR), neither of whom made the playoffs, who have relatively small charts with less area.\"\"\",\n",
    "    x=0.005,\n",
    "    y=1.28,\n",
    "    showarrow=False,\n",
    "    font=dict(size=13, color=\"lightgray\"),\n",
    "    xref=\"paper\",\n",
    "    yref=\"paper\",\n",
    "    align=\"left\",\n",
    ")\n",
    "\n",
    "\n",
    "for i, category in enumerate(hover_text):\n",
    "    formula = hover_text[category]\n",
    "    fig.add_annotation(\n",
    "        text=category + \" Formula\",\n",
    "        x=0.92,\n",
    "        y=1.28 - (i * 0.038),\n",
    "        showarrow=False,\n",
    "        font=dict(family=\"Arial\", size=14, color=\"lightgrey\"),\n",
    "        xref=\"paper\",\n",
    "        yref=\"paper\",\n",
    "        hovertext=formula,\n",
    "        align=\"right\",\n",
    "        bgcolor=\"black\",\n",
    "    )\n",
    "\n",
    "\n",
    "# Update the radial axis range for all subplots\n",
    "for row in range(1, num_rows + 1):\n",
    "    for col in range(1, num_cols + 1):\n",
    "        fig.update_polars(\n",
    "            row=row,\n",
    "            col=col,\n",
    "            radialaxis_range=[0, 10.5],\n",
    "            radialaxis_showline=False,\n",
    "            radialaxis_showticklabels=False,\n",
    "            angularaxis_rotation=195,\n",
    "            radialaxis_color=\"lightgrey\",\n",
    "            angularaxis_color=\"lightgrey\",\n",
    "        )\n",
    "        fig.update_layout(font_color=\"white\")\n",
    "\n",
    "\n",
    "# Show the plot\n",
    "fig.show()"
   ]
  }
 ],
 "metadata": {
  "kernelspec": {
   "display_name": "Python 3",
   "language": "python",
   "name": "python3"
  },
  "language_info": {
   "codemirror_mode": {
    "name": "ipython",
    "version": 3
   },
   "file_extension": ".py",
   "mimetype": "text/x-python",
   "name": "python",
   "nbconvert_exporter": "python",
   "pygments_lexer": "ipython3",
   "version": "3.11.6"
  }
 },
 "nbformat": 4,
 "nbformat_minor": 2
}
